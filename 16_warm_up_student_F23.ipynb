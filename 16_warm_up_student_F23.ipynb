{
  "cells": [
    {
      "cell_type": "markdown",
      "metadata": {
        "id": "view-in-github",
        "colab_type": "text"
      },
      "source": [
        "<a href=\"https://colab.research.google.com/github/gg5d/DS-1002/blob/main/16_warm_up_student_F23.ipynb\" target=\"_parent\"><img src=\"https://colab.research.google.com/assets/colab-badge.svg\" alt=\"Open In Colab\"/></a>"
      ]
    },
    {
      "cell_type": "markdown",
      "metadata": {
        "id": "qhQRii7BEuGv"
      },
      "source": [
        "# Warm-up: `for` loops"
      ]
    },
    {
      "cell_type": "code",
      "execution_count": null,
      "metadata": {
        "tags": [],
        "id": "aRaIqbPsEuGy"
      },
      "outputs": [],
      "source": [
        "# list for exercises\n",
        "heights = [1.73, 1.68, 1.71, 1.89]"
      ]
    },
    {
      "cell_type": "markdown",
      "metadata": {
        "id": "TelB9T83EuG0"
      },
      "source": [
        "1. Use a `for` loop to print out each height in the list `heights` (above)"
      ]
    },
    {
      "cell_type": "code",
      "execution_count": null,
      "metadata": {
        "tags": [],
        "id": "IXA8qeGREuG0",
        "outputId": "b6399ec3-cd87-4863-9c91-5db9fe88dac4"
      },
      "outputs": [
        {
          "name": "stdout",
          "output_type": "stream",
          "text": [
            "1.73\n",
            "1.68\n",
            "1.71\n",
            "1.89\n"
          ]
        }
      ],
      "source": [
        "#Write your code here\n"
      ]
    },
    {
      "cell_type": "markdown",
      "metadata": {
        "id": "RjDVnH4FEuG1"
      },
      "source": [
        "2. Do you have access to the index in the above output?"
      ]
    },
    {
      "cell_type": "code",
      "execution_count": null,
      "metadata": {
        "id": "Wj3i4kwMEuG1"
      },
      "outputs": [],
      "source": [
        "# Answer here"
      ]
    },
    {
      "cell_type": "markdown",
      "metadata": {
        "id": "WVFErvbzEuG1"
      },
      "source": [
        "3. Write a `for` loop that includes the index for `heights` in the output  \n",
        "\n",
        "* the function `enumerate()` may be helpful:\n",
        "\n",
        "- - The enumerate () method adds a counter to an iterable and returns it in the form of an enumerating object.  \n",
        "\n",
        "- - https://docs.python.org/3/library/functions.html#enumerate\n",
        "\n",
        "Try to run the following:"
      ]
    },
    {
      "cell_type": "code",
      "execution_count": null,
      "metadata": {
        "tags": [],
        "id": "fNh5B3p-EuG2",
        "outputId": "6d1311f3-6694-4aff-f9ed-f8429f4393fc"
      },
      "outputs": [
        {
          "data": {
            "text/plain": [
              "<enumerate at 0x7f7e43e15a00>"
            ]
          },
          "execution_count": 7,
          "metadata": {},
          "output_type": "execute_result"
        }
      ],
      "source": [
        "enumerate(heights)"
      ]
    },
    {
      "cell_type": "markdown",
      "metadata": {
        "id": "zUpJl6ppEuG2"
      },
      "source": [
        "The output is an `enumerate object`, to extract its content, use the list() built-in function"
      ]
    },
    {
      "cell_type": "code",
      "execution_count": null,
      "metadata": {
        "tags": [],
        "id": "GWWFnpnPEuG2",
        "outputId": "0fff9a7f-e578-4134-960f-3caaa9dba59c"
      },
      "outputs": [
        {
          "data": {
            "text/plain": [
              "[(0, 1.73), (1, 1.68), (2, 1.71), (3, 1.89)]"
            ]
          },
          "execution_count": 11,
          "metadata": {},
          "output_type": "execute_result"
        }
      ],
      "source": []
    },
    {
      "cell_type": "markdown",
      "metadata": {
        "id": "TSb0-E1REuG3"
      },
      "source": [
        "In the reference link above, find how to use the parameter `start` to start the index from 1.\n",
        "\n",
        "Your output should now be:\n",
        "\n",
        "[(1, 1.73), (2, 1.68), (3, 1.71), (4, 1.89)]"
      ]
    },
    {
      "cell_type": "markdown",
      "metadata": {
        "id": "6VXvBdFbEuG3"
      },
      "source": [
        "Now, go back to the `for` loop. Our task is:\n",
        "\n",
        "**Write a `for` loop that includes the `index` for `heights` in the output**\n",
        "\n",
        "* you will need to use two singular items after `for`   \n",
        "\n",
        "* you will need to use a more complicated string call"
      ]
    },
    {
      "cell_type": "code",
      "execution_count": null,
      "metadata": {
        "id": "r86At7ASEuG3",
        "outputId": "6e817a70-36cb-4d04-dbc3-04f0bf294a0d"
      },
      "outputs": [
        {
          "name": "stdout",
          "output_type": "stream",
          "text": [
            "index 0: 1.73\n",
            "index 1: 1.68\n",
            "index 2: 1.71\n",
            "index 3: 1.89\n"
          ]
        }
      ],
      "source": []
    },
    {
      "cell_type": "markdown",
      "metadata": {
        "id": "xs_97gs2EuG4"
      },
      "source": [
        "4. Write a `for` loop that interates over the string 'height' and prints out the capital letters  \n",
        "\n",
        "&nbsp;&nbsp;&nbsp;&nbsp;&nbsp;&nbsp;* the function `capitalize()` may be helpful  "
      ]
    },
    {
      "cell_type": "code",
      "execution_count": null,
      "metadata": {
        "id": "t9fl_jQ3EuG4",
        "outputId": "658cc985-6a88-4d13-e883-f3bb67276fb8"
      },
      "outputs": [
        {
          "name": "stdout",
          "output_type": "stream",
          "text": [
            "H\n",
            "E\n",
            "I\n",
            "G\n",
            "H\n",
            "T\n"
          ]
        }
      ],
      "source": []
    }
  ],
  "metadata": {
    "kernelspec": {
      "display_name": "Python 3 (ipykernel)",
      "language": "python",
      "name": "python3"
    },
    "language_info": {
      "codemirror_mode": {
        "name": "ipython",
        "version": 3
      },
      "file_extension": ".py",
      "mimetype": "text/x-python",
      "name": "python",
      "nbconvert_exporter": "python",
      "pygments_lexer": "ipython3",
      "version": "3.9.16"
    },
    "vscode": {
      "interpreter": {
        "hash": "31f2aee4e71d21fbe5cf8b01ff0e069b9275f58929596ceb00d14d90e3e16cd6"
      }
    },
    "colab": {
      "provenance": [],
      "include_colab_link": true
    }
  },
  "nbformat": 4,
  "nbformat_minor": 0
}