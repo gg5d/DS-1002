{
  "cells": [
    {
      "cell_type": "markdown",
      "metadata": {
        "id": "view-in-github",
        "colab_type": "text"
      },
      "source": [
        "<a href=\"https://colab.research.google.com/github/gg5d/DS-1002/blob/main/21_exception_handling_student.ipynb\" target=\"_parent\"><img src=\"https://colab.research.google.com/assets/colab-badge.svg\" alt=\"Open In Colab\"/></a>"
      ]
    },
    {
      "cell_type": "markdown",
      "metadata": {
        "id": "MQFASd0vzAKJ"
      },
      "source": [
        "## Exception Handling\n",
        "\n",
        "\n",
        "### University of Virginia\n",
        "### DS1002: Programming for Data Science\n",
        "---  \n",
        "\n",
        "### PREREQUISITES\n",
        "- data types\n",
        "- variables\n",
        "- operators\n",
        "\n",
        "### SOURCES\n",
        "- errors and exceptions  \n",
        "https://www.geeksforgeeks.org/errors-and-exceptions-in-python/\n",
        "\n",
        "\n",
        "- assert  \n",
        "https://www.tutorialspoint.com/python/assertions_in_python.htm\n",
        "\n",
        "### OBJECTIVES\n",
        "- Discuss errors and exceptions\n",
        "- Explain why exception handling is important\n",
        "- Present methods for catching exceptions:\n",
        "  - try/except logic\n",
        "  - assert statements\n",
        "\n",
        "### CONCEPTS\n",
        "\n",
        "- errors\n",
        "- exceptions\n",
        "- try/except\n",
        "- assert\n",
        "- AssertionError\n"
      ]
    },
    {
      "cell_type": "markdown",
      "metadata": {
        "id": "dACTQhQJzAKL"
      },
      "source": [
        "# The Big Picture\n",
        "\n",
        "> All happy families are alike, but every unhappy family is unhappy in its own way.\\\n",
        "-- Leo Tolstoy, _Anna Karenina_, 1878.\n",
        "\n",
        "There are two ways that programs can succeed or fail:\n",
        "\n",
        "They can meet or not meet the motiving **requirements** for the code.\n",
        "  - Does it do what is is supposed to do?\n",
        "  - Does it add value to a process?\n",
        "  - Is it ethical? Does it do harm?\n",
        "\n",
        "They can **work or not work**:\n",
        "  - Does the run at all?\n",
        "  - Is the code brittle or buggy?\n",
        "  - Is it sensitive to contextual factors like bad user input or a bad database connection?\n",
        "  - Does the code work but produce incorrect outcomes?\n",
        "  \n",
        "These lead to **two practices**:\n",
        "* Strategic: **Project/Product management**\n",
        "* Tactical: **Testing and debugging**\n",
        "\n",
        "Today, we will focus on some concepts and tools for the latter.\n",
        "* We want to know whether our code is **working or not**.\n",
        "* We want to know if our code is of a **high quality**.\n",
        "  "
      ]
    },
    {
      "cell_type": "markdown",
      "metadata": {
        "id": "q4P4Tx4ezAKM"
      },
      "source": [
        "**Approaches to quality**\n",
        "* Through good **design**\n",
        "* Through principled **testing**\n",
        "\n",
        "**Some design principles**\n",
        "* Favor the **simple over the complex**\n",
        "  * Don't confuse the easy with the simple!\n",
        "* Invest in **data design** to simplify algorithm design\n",
        "* Write **literate code**\n",
        "* Given a choice, use tools that are **documented** and have a **user community**\n",
        "* Many other things :-)\n",
        "\n",
        "**Some testing activities**\n",
        "* Syntax checking\n",
        "* Debugging\n",
        "* Ad hoc testing\n",
        "* Unit-testing\n",
        "* User testing\n",
        "\n",
        "**Some concepts**\n",
        "* Beware of **silent failures**\n",
        "* Testing for **the absence of bugs** is impossible"
      ]
    },
    {
      "cell_type": "markdown",
      "metadata": {
        "id": "roa_L3KQzAKM"
      },
      "source": [
        "# Tools and Concepts for Testing\n",
        "\n",
        "Programming languages offer many tools for testing.\n",
        "\n",
        "These include mechanisms to define and capture errors in code.\n",
        "\n",
        "We call these errors **exceptions**.\n",
        "- An exception is an event that occurs during the execution of a program that disrupts the normal flow of the program's instructions.\n",
        "\n",
        "We call we call dealing with these errors **exception handling**.\n",
        "- When a Python script encounters a code failure, it raises an exception.\n"
      ]
    },
    {
      "cell_type": "markdown",
      "metadata": {
        "id": "2IFnXFZCzAKM"
      },
      "source": [
        "# Python's Tools\n",
        "\n",
        "**Exceptions**\n",
        "- A Python **object** that represents an error\n",
        "- Objects that classify kinds of errors\n",
        "- Coders can define these\n",
        "\n",
        "**Exception Handlers**\n",
        "- Control structures and functions to deal with exceptions\n",
        "- `try`/`except`\n",
        "- `raise`\n",
        "- `assert`\n",
        "\n",
        "**Unit Testing Frameworks**\n",
        "- Robot\n",
        "- PyTest   https://docs.pytest.org/en/7.4.x/\n",
        "- **Unittest**    https://docs.python.org/3/library/unittest.html\n",
        "- DocTest   https://docs.python.org/3/library/doctest.html\n",
        "- Nose2     https://docs.nose2.io/en/latest/\n",
        "- Testify   https://pypi.org/project/testify/"
      ]
    },
    {
      "cell_type": "markdown",
      "metadata": {
        "id": "FMR6L0b0zAKN"
      },
      "source": [
        "# Errors and Exceptions\n",
        "\n",
        "A common technical interview question: Explain the difference between an **error** and an **exception**.\n",
        "\n",
        "An **error** is a serious problem that a reasonable application should not try to catch.  \n",
        "An error will stop execution. It means the code if broken and needs to be rewritten.\n",
        "\n",
        "An **exception** is an issue that is expected or known to occur (e.g., division by zero).  \n",
        "Software must handle exceptions. For example, one bad row of data shouldn't bring down the application."
      ]
    },
    {
      "cell_type": "markdown",
      "metadata": {
        "id": "sn_6MR51zAKN"
      },
      "source": [
        "# Some Common Built-in Exceptions\n",
        "\n",
        "Python comes with a number of predefined exceptions.\n",
        "\n",
        "Libraries introduce new ones, too.\n",
        "\n",
        "They used in `raise` statement by the authors of programs when a possible error is anticipated.\n",
        "\n",
        "Here are some common examples."
      ]
    },
    {
      "cell_type": "markdown",
      "metadata": {
        "id": "aD3NaaJ5zAKN"
      },
      "source": [
        "## `ZeroDivisionError`"
      ]
    },
    {
      "cell_type": "code",
      "execution_count": null,
      "metadata": {
        "tags": [],
        "id": "gaL42M1zzAKO"
      },
      "outputs": [],
      "source": [
        "3/0"
      ]
    },
    {
      "cell_type": "markdown",
      "metadata": {
        "id": "bK_Yg1NczAKP"
      },
      "source": [
        "## `Syntax Error`"
      ]
    },
    {
      "cell_type": "code",
      "execution_count": null,
      "metadata": {
        "tags": [],
        "id": "1OB_j_iGzAKP"
      },
      "outputs": [],
      "source": [
        "# if-statement missing colon at end\n",
        "\n",
        "if x>0\n",
        "  print(\"uh oh\")"
      ]
    },
    {
      "cell_type": "markdown",
      "metadata": {
        "id": "WCvtU-gzzAKP"
      },
      "source": [
        "## `NameError`"
      ]
    },
    {
      "cell_type": "code",
      "execution_count": null,
      "metadata": {
        "tags": [],
        "id": "9Jhd-_XOzAKP"
      },
      "outputs": [],
      "source": [
        "# references an undefined variable\n",
        "\n",
        "print(x)"
      ]
    },
    {
      "cell_type": "markdown",
      "metadata": {
        "id": "86YnE0WczAKQ"
      },
      "source": [
        "## `IndexError`"
      ]
    },
    {
      "cell_type": "code",
      "execution_count": null,
      "metadata": {
        "tags": [],
        "id": "UIv6yD0PzAKQ"
      },
      "outputs": [],
      "source": [
        "# loop goes off the end of the list\n",
        "\n",
        "lst = [0,1,2]\n",
        "\n",
        "for i in range(4):\n",
        "    print(lst[i])"
      ]
    },
    {
      "cell_type": "markdown",
      "metadata": {
        "id": "bmBr_XcNzAKQ"
      },
      "source": [
        "# Exception Handling with `try/except`\n",
        "\n",
        "We use `try/except` blocks to handle exceptions in our code.\n",
        "\n",
        "These blocks work as follows:\n",
        "* The `try` block will contain a statement.\n",
        "* If the statement fails, the the flow goes to the `except` block.\n",
        "* The exception block will have code to handle the error, rather than halting the program.\n",
        "\n",
        "The process is very similar to `if/then`:\n",
        "* **If** there is an **error**, **then** raise an **exception**.\n",
        "\n",
        "Multiple `except` statements may be given, to handle specific exceptions.  \n",
        "\n",
        "Below, we give a catch-all `except` for any kind of exception.\n",
        "\n",
        "An **exception** is a mistake that will halt the execution of code.\n",
        "* For example, trying to access a dictionary key that does not exit.\n",
        "* Or, a database connection fails.\n",
        "* Very often, execeptions are caused by an external dependency failing, such as another system or the user."
      ]
    },
    {
      "cell_type": "markdown",
      "metadata": {
        "id": "GFCIE14yzAKQ"
      },
      "source": [
        "Let's try referencing a variable that doesn't exist with no exception handling."
      ]
    },
    {
      "cell_type": "code",
      "execution_count": null,
      "metadata": {
        "tags": [],
        "id": "WPQDXRn-zAKQ"
      },
      "outputs": [],
      "source": [
        "print(a)"
      ]
    },
    {
      "cell_type": "markdown",
      "metadata": {
        "id": "i20ctRw2zAKQ"
      },
      "source": [
        "Now let's try referencing a variable that doesn't exist with a `try/except` block to handle the exception.    "
      ]
    },
    {
      "cell_type": "code",
      "execution_count": null,
      "metadata": {
        "tags": [],
        "id": "M8rgjykOzAKR"
      },
      "outputs": [],
      "source": [
        "try:\n",
        "    print(a)\n",
        "except:\n",
        "   print(\"caught an exception\")"
      ]
    },
    {
      "cell_type": "markdown",
      "metadata": {
        "id": "2RsN-jC_zAKR"
      },
      "source": [
        "We can print the type of error"
      ]
    },
    {
      "cell_type": "code",
      "execution_count": null,
      "metadata": {
        "tags": [],
        "id": "XFCNHiS2zAKR"
      },
      "outputs": [],
      "source": [
        "try:\n",
        "    print(a)\n",
        "except Exception as e:\n",
        "    print(type(e),\"  with message: \", e)"
      ]
    },
    {
      "cell_type": "markdown",
      "metadata": {
        "tags": [],
        "id": "54f091m0zAKR"
      },
      "source": [
        "# Assert Statements\n",
        "\n",
        "Another to catch errors before they happen is to test if computations turned out as expected.\n",
        "\n",
        "We use `assert` to verify an expression is True.  \n",
        "- if expression is True, nothing happens.\n",
        "- if expression is False, Python raises an `AssertionError` exception.\n",
        "\n",
        "Assert statements have the followinf syntax:  \n",
        "  \n",
        "```python\n",
        "assert Expression[, Arguments]\n",
        "```\n",
        "\n",
        "where `[, Arguments]` denotes optional arguments.  \n",
        "\n",
        "For example, let's say a program is expecting three arguments to be passed from the command line.    \n",
        "\n",
        "The variable `num_args` counts the arguments."
      ]
    },
    {
      "cell_type": "code",
      "execution_count": null,
      "metadata": {
        "tags": [],
        "id": "_sxqYg82zAKR"
      },
      "outputs": [],
      "source": [
        "num_args = 3\n",
        "\n",
        "assert num_args == 3, \"number of arguments must be 3!\""
      ]
    },
    {
      "cell_type": "markdown",
      "metadata": {
        "id": "3hvceX5hzAKS"
      },
      "source": [
        "The `assert` evaluates to True, and things proceed normally without exception."
      ]
    },
    {
      "cell_type": "markdown",
      "metadata": {
        "id": "1npxRleVzAKS"
      },
      "source": [
        "If we change `num_args = 4` this will throw an `AssertionError` with the provided message.\n",
        "\n",
        "The program then stops."
      ]
    },
    {
      "cell_type": "code",
      "execution_count": null,
      "metadata": {
        "tags": [],
        "id": "K-UUFnnszAKS"
      },
      "outputs": [],
      "source": [
        "num_args = 4\n",
        "\n",
        "assert num_args == 3, \"number of arguments must be 3!\""
      ]
    },
    {
      "cell_type": "markdown",
      "metadata": {
        "id": "sXV-bKIGzAKS"
      },
      "source": [
        "If the `assert` is not given a message, it throws `AssertionError:`"
      ]
    },
    {
      "cell_type": "code",
      "execution_count": null,
      "metadata": {
        "tags": [],
        "id": "mS7zIzcjzAKS"
      },
      "outputs": [],
      "source": [
        "num_args = 4\n",
        "\n",
        "assert num_args == 3"
      ]
    },
    {
      "cell_type": "code",
      "execution_count": null,
      "metadata": {
        "tags": [],
        "id": "GGUPd5WAzAKT"
      },
      "outputs": [],
      "source": [
        "try:\n",
        "    assert num_args == 3\n",
        "except:\n",
        "    print(\"Got an error\")"
      ]
    },
    {
      "cell_type": "code",
      "execution_count": null,
      "metadata": {
        "tags": [],
        "id": "iNihRXwYzAKT"
      },
      "outputs": [],
      "source": [
        "try:\n",
        "    assert num_args == 3, \"Number of arguments must be 3!\"\n",
        "except AssertionError as e:\n",
        "    print(e)"
      ]
    },
    {
      "cell_type": "markdown",
      "metadata": {
        "tags": [],
        "id": "lwvy5x2uzAKT"
      },
      "source": [
        "# `raise()`\n",
        "\n",
        "Exceptions can be **raised**, too.\n",
        "\n",
        "Use this if you want to halt the program and let other code that is using this code handle it.|"
      ]
    },
    {
      "cell_type": "code",
      "execution_count": null,
      "metadata": {
        "tags": [],
        "id": "Lk0QWG9QzAKT"
      },
      "outputs": [],
      "source": [
        "try:\n",
        "    10/0\n",
        "except:\n",
        "    raise ZeroDivisionError(\"Hey, you can't divide by zero!\")"
      ]
    },
    {
      "cell_type": "code",
      "execution_count": null,
      "metadata": {
        "tags": [],
        "id": "bU1hbb-jzAKT"
      },
      "outputs": [],
      "source": [
        "raise IndexError(\"Bad Index\")"
      ]
    },
    {
      "cell_type": "markdown",
      "metadata": {
        "id": "G1PvV1zwzAKU"
      },
      "source": [
        "You can use `raise` even if there is no error, but just to halt the program if something is not as expected:"
      ]
    },
    {
      "cell_type": "code",
      "execution_count": null,
      "metadata": {
        "tags": [],
        "id": "Q-Bm4FB_zAKU"
      },
      "outputs": [],
      "source": [
        "x=1.0\n",
        "\n",
        "if type(x) is not int:\n",
        "    raise TypeError(\"input must be an integer\")"
      ]
    },
    {
      "cell_type": "markdown",
      "metadata": {
        "id": "M8t2UvV0zAKU"
      },
      "source": [
        "---\n",
        "\n",
        "### TRY FOR YOURSELF (UNGRADED EXERCISES)\n"
      ]
    },
    {
      "cell_type": "markdown",
      "metadata": {
        "id": "QPhMVPpAzAKU"
      },
      "source": [
        "1) Write a try/except statement to handle an exception. Verify it works properly."
      ]
    },
    {
      "cell_type": "code",
      "execution_count": null,
      "metadata": {
        "id": "bN6d5kMVzAKU"
      },
      "outputs": [],
      "source": []
    },
    {
      "cell_type": "markdown",
      "metadata": {
        "id": "DJl8yT2VzAKU"
      },
      "source": [
        "2) Write an expression and include an `assert` statement to test it.  \n",
        "Run tests where the assert evaluates to True, False, showing the results in each condition."
      ]
    },
    {
      "cell_type": "code",
      "execution_count": null,
      "metadata": {
        "id": "Se503oWazAKV"
      },
      "outputs": [],
      "source": []
    },
    {
      "cell_type": "code",
      "execution_count": null,
      "metadata": {
        "id": "99RAQZ0YzAKV"
      },
      "outputs": [],
      "source": []
    },
    {
      "cell_type": "code",
      "execution_count": null,
      "metadata": {
        "id": "_6xStCeozAKV"
      },
      "outputs": [],
      "source": []
    }
  ],
  "metadata": {
    "anaconda-cloud": {},
    "kernelspec": {
      "display_name": "Python 3 (ipykernel)",
      "language": "python",
      "name": "python3"
    },
    "language_info": {
      "codemirror_mode": {
        "name": "ipython",
        "version": 3
      },
      "file_extension": ".py",
      "mimetype": "text/x-python",
      "name": "python",
      "nbconvert_exporter": "python",
      "pygments_lexer": "ipython3",
      "version": "3.9.16"
    },
    "vscode": {
      "interpreter": {
        "hash": "31f2aee4e71d21fbe5cf8b01ff0e069b9275f58929596ceb00d14d90e3e16cd6"
      }
    },
    "colab": {
      "provenance": [],
      "include_colab_link": true
    }
  },
  "nbformat": 4,
  "nbformat_minor": 0
}