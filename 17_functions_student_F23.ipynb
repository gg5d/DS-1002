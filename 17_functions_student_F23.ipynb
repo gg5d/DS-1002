{
  "cells": [
    {
      "cell_type": "markdown",
      "metadata": {
        "id": "view-in-github",
        "colab_type": "text"
      },
      "source": [
        "<a href=\"https://colab.research.google.com/github/gg5d/DS-1002/blob/main/17_functions_student_F23.ipynb\" target=\"_parent\"><img src=\"https://colab.research.google.com/assets/colab-badge.svg\" alt=\"Open In Colab\"/></a>"
      ]
    },
    {
      "cell_type": "markdown",
      "metadata": {
        "id": "ViXdYCwks0xd"
      },
      "source": [
        "## Functions: Built-In and User-Defined\n",
        "\n",
        "\n",
        "### University of Virginia\n",
        "### Programming for Data Science\n",
        "---  \n",
        "\n",
        "### PREREQUISITES\n",
        "- data types\n",
        "- variables\n",
        "- `if` statement\n",
        "- conditional operators\n",
        "- `list comprehension` (not essential here)\n",
        "\n",
        "\n",
        "### SOURCES\n",
        "- Python built-in functions  \n",
        "https://docs.python.org/3/library/functions.html\n",
        "\n",
        "\n",
        "- Some good function examples and details  \n",
        "https://www.w3schools.com/python/python_functions.asp\n",
        "\n",
        "\n",
        "- Default arguments  \n",
        "https://www.geeksforgeeks.org/default-arguments-in-python/  \n",
        "\n",
        "\n",
        "- Details on the function `return` statement  \n",
        "https://realpython.com/python-return-statement/#understanding-the-python-return-statement\n",
        "\n",
        "\n",
        "- Global versus Local Variables  \n",
        "https://www.geeksforgeeks.org/global-local-variables-python/?ref=lbp\n",
        "\n",
        "\n",
        "### OBJECTIVES\n",
        "- Explain the benefits of functions\n",
        "- Illustrate how to use built-in functions\n",
        "- Illustrate how to create and use your own (user-defined) functions\n",
        "- Demonstrate the scope and lifetime of a variable\n",
        "- Illustrate global and local nature of variables through functions\n",
        "- Demonstrate function parameter use\n",
        "- Provide recommendations on how to create and document functions\n",
        "- Show how to print and write docstrings\n",
        "\n",
        "\n",
        "### CONCEPTS\n",
        "\n",
        "- functions\n",
        "- built-in functions\n",
        "- user-defined functions\n",
        "- variable scope\n",
        "- global versus local variables\n",
        "- default arguments\n",
        "- *args\n",
        "- function call\n",
        "- docstring\n",
        "\n",
        "---\n",
        "\n",
        "## I. Introduction to Functions\n",
        "\n",
        "Functions take input and produce output. They contain a block of code to do their work.  \n",
        "They make transformations happen...from simple to complex.\n",
        "\n",
        "Python provides many built-in functions.  \n",
        "There are also many packages to bring in additional functions.\n",
        "\n",
        "NOTE: function inputs are called both `parameters` and `arguments`."
      ]
    },
    {
      "cell_type": "markdown",
      "metadata": {
        "id": "-YMgjpPos0xf"
      },
      "source": [
        "**A SMALL EXAMPLE**\n",
        "\n",
        "This small function is built in to Python: `bool`\n",
        "\n",
        "Documentation: [Python built-in functions](https://docs.python.org/3/library/functions.html)  \n",
        "\n",
        "Takes an argument $x$ and returns True or False.  "
      ]
    },
    {
      "cell_type": "code",
      "execution_count": null,
      "metadata": {
        "tags": [],
        "id": "r8yK7mtVs0xg"
      },
      "outputs": [],
      "source": [
        "# set a variable and pass into a conditional statement\n",
        "\n",
        "x = 3\n",
        "bool(x < 4)"
      ]
    },
    {
      "cell_type": "code",
      "execution_count": null,
      "metadata": {
        "tags": [],
        "id": "BxyuJ9Mqs0xh"
      },
      "outputs": [],
      "source": [
        "bool(x >= 4)"
      ]
    },
    {
      "cell_type": "code",
      "execution_count": null,
      "metadata": {
        "tags": [],
        "id": "jmbg7c4Is0xh"
      },
      "outputs": [],
      "source": [
        "help(bool)"
      ]
    },
    {
      "cell_type": "markdown",
      "metadata": {
        "id": "hj9DvaZVs0xi"
      },
      "source": [
        "Let's get more elaborate, defining x to be a list of integers. This breaks."
      ]
    },
    {
      "cell_type": "code",
      "execution_count": null,
      "metadata": {
        "tags": [],
        "id": "v6S4gZKxs0xj"
      },
      "outputs": [],
      "source": [
        "x = [3,4]        # define a list of integers\n",
        "thr = 4          # define an integer\n",
        "bool(x >= thr)   # try to compare each value to an integer"
      ]
    },
    {
      "cell_type": "markdown",
      "metadata": {
        "id": "2UBiw4Z-s0xj"
      },
      "source": [
        "This broke because the operator doesn't support the comparison.  "
      ]
    },
    {
      "cell_type": "markdown",
      "metadata": {
        "id": "NYboYl7Fs0xj"
      },
      "source": [
        "## II. Creating Functions\n",
        "\n",
        "Let's write a function to compare the list against a threshold."
      ]
    },
    {
      "cell_type": "code",
      "execution_count": null,
      "metadata": {
        "tags": [],
        "id": "eE1Z89MPs0xk"
      },
      "outputs": [],
      "source": [
        "def vals_greater_than_or_equal_to_threshold(vals, thresh):\n",
        "    '''\n",
        "    PURPOSE: Given a list of values, compare each value against a threshold\n",
        "\n",
        "    INPUTS\n",
        "    vals    list of ints or floats\n",
        "    thresh  int or float\n",
        "\n",
        "    OUTPUT\n",
        "    bools  list of booleans\n",
        "    '''\n",
        "\n",
        "    bools = [val >= thresh for val in vals]\n",
        "    return bools"
      ]
    },
    {
      "cell_type": "markdown",
      "metadata": {
        "id": "kvVaxrgrs0xk"
      },
      "source": [
        "**Let's break down the components:**\n",
        "- the function definition starts with `def`, followed by name, one or more arguments in parenthesis, and then a colon.\n",
        "- next comes a `docstring` to provide annotation\n",
        "- the function body follows\n",
        "- lastly is a `return` statement\n",
        "\n",
        "The `function call` allows for function use. It consists of function name and required arguments:\n",
        "\n",
        "`vals_greater_than_or_equal_to_threshold(arg1, arg2)` where `arg1`, `arg2` are arbitrary names."
      ]
    },
    {
      "cell_type": "markdown",
      "metadata": {
        "id": "XazvKOu_s0xk"
      },
      "source": [
        "#### docstring\n",
        "\n",
        "- A `docstring` is a string that occurs as first statement in module, function, class, or method definition\n",
        "- Saved in `__doc__` attribute\n",
        "- Needs to be indented\n",
        "- ``` '''enclosed in triple quotes like this''' ```\n",
        "\n",
        "**We gave this function a descriptive docstring to:**\n",
        "\n",
        "- explain its purpose\n",
        "- name each input and output, and give their data types"
      ]
    },
    {
      "cell_type": "markdown",
      "metadata": {
        "id": "y4HJQ-JIs0xk"
      },
      "source": [
        "---"
      ]
    },
    {
      "cell_type": "markdown",
      "metadata": {
        "id": "TR0QpjeMs0xl"
      },
      "source": [
        "The function body used a `list comprehension` for the compare:\n",
        "\n",
        "`[val >= thresh for val in vals]`\n",
        "\n",
        "**Let's test our function**"
      ]
    },
    {
      "cell_type": "code",
      "execution_count": null,
      "metadata": {
        "id": "mJFEXuZ4s0xl"
      },
      "outputs": [],
      "source": [
        "# validate that it works for ints\n",
        "\n",
        "x = [3, 4]\n",
        "thr = 4\n",
        "\n",
        "vals_greater_than_or_equal_to_threshold(x, thr)"
      ]
    },
    {
      "cell_type": "code",
      "execution_count": null,
      "metadata": {
        "id": "yeoe38hLs0xl"
      },
      "outputs": [],
      "source": [
        "# validate that it works for floats\n",
        "\n",
        "x = [3.0, 4.2]\n",
        "thr = 4.2\n",
        "\n",
        "vals_greater_than_or_equal_to_threshold(x, thr)"
      ]
    },
    {
      "cell_type": "markdown",
      "metadata": {
        "id": "vSOCRG9os0xm"
      },
      "source": [
        "This gives correct results and does exactly what we want.  "
      ]
    },
    {
      "cell_type": "markdown",
      "metadata": {
        "id": "1Fk-9kMKs0xm"
      },
      "source": [
        "**print the docstring**\n",
        "\n",
        "special methods in Python. Python provides these methods to use as the operator overloading depending on the user. Python provides this convention to differentiate between the user-defined function with the module’s function"
      ]
    },
    {
      "cell_type": "code",
      "execution_count": null,
      "metadata": {
        "id": "V7ZWbRiOs0xm"
      },
      "outputs": [],
      "source": [
        "print(vals_greater_than_or_equal_to_threshold.__doc__)"
      ]
    },
    {
      "cell_type": "markdown",
      "metadata": {
        "id": "wYb0JhFXs0xm"
      },
      "source": [
        "**print the help**"
      ]
    },
    {
      "cell_type": "code",
      "execution_count": null,
      "metadata": {
        "id": "nSGEE66us0xm"
      },
      "outputs": [],
      "source": [
        "help(vals_greater_than_or_equal_to_threshold)"
      ]
    },
    {
      "cell_type": "markdown",
      "metadata": {
        "id": "mK7-UH1fs0xn"
      },
      "source": [
        "---\n",
        "\n",
        "**TRY FOR YOURSELF (UNGRADED EXERCISES)**"
      ]
    },
    {
      "cell_type": "markdown",
      "metadata": {
        "id": "yeT_0PDps0xn"
      },
      "source": [
        "1) Write a function with these requirements:\n",
        "- has a sensible name\n",
        "- contains a docstring\n",
        "- takes two inputs: a string, and an integer\n",
        "- returns True if the string length is equal to the integer, else False\n",
        "\n",
        "2) Call the function, passing inputs:  \n",
        "- `\"is this text the right length?\"` for the string\n",
        "- `30` for the integer\n",
        "\n",
        "Verify the output is True.  \n",
        "Try other combinations."
      ]
    },
    {
      "cell_type": "code",
      "execution_count": null,
      "metadata": {
        "id": "mEpQLEq_s0xn"
      },
      "outputs": [],
      "source": []
    },
    {
      "cell_type": "markdown",
      "metadata": {
        "id": "H4NXrRkNs0xn"
      },
      "source": [
        "---\n"
      ]
    },
    {
      "cell_type": "markdown",
      "metadata": {
        "id": "B4bAzffZs0xn"
      },
      "source": [
        "## III. Passing Parameters\n",
        "\n",
        "**Functions need to be called with correct number of parameters**\n",
        "  \n",
        "This function requires two params, but the function call includes only one param\n"
      ]
    },
    {
      "cell_type": "code",
      "execution_count": null,
      "metadata": {
        "tags": [],
        "id": "RfCtlNZLs0xo"
      },
      "outputs": [],
      "source": [
        "## function requiring 2 arguments\n",
        "def fcn_bad_args(x, y):\n",
        "    return x+y\n",
        "\n",
        "# function call with only 1 of the 2 arguments\n",
        "fcn_bad_args(10)"
      ]
    },
    {
      "cell_type": "markdown",
      "metadata": {
        "id": "-AWU3wFPs0xo"
      },
      "source": [
        "**When calling a function, parameter order matters.**"
      ]
    },
    {
      "cell_type": "code",
      "execution_count": null,
      "metadata": {
        "tags": [],
        "id": "TN0CzQAAs0xo"
      },
      "outputs": [],
      "source": [
        "x = 1\n",
        "y = 2\n",
        "\n",
        "# function with order of x then y\n",
        "def fcn_swapped_args(x, y):\n",
        "    out = 5 * x + y\n",
        "    return out\n",
        "\n",
        "# call function in correct order\n",
        "print('fcn_swapped_args(x,y) =', fcn_swapped_args(x,y))\n",
        "\n",
        "# call function in incorrect order\n",
        "print('fcn_swapped_args(y,x) =', fcn_swapped_args(y,x))"
      ]
    },
    {
      "cell_type": "markdown",
      "metadata": {
        "id": "OkhnBJnms0xo"
      },
      "source": [
        "Generally it's best to keep parameters in order.  \n",
        "\n",
        "You can swap the order by putting the parameter names in the function call."
      ]
    },
    {
      "cell_type": "code",
      "execution_count": null,
      "metadata": {
        "id": "WRKSyKRGs0xo"
      },
      "outputs": [],
      "source": [
        "x1 = 1\n",
        "y1 = 2\n",
        "\n",
        "# call parameter names in function call\n",
        "fcn_swapped_args(y=y1, x=x1)"
      ]
    },
    {
      "cell_type": "markdown",
      "metadata": {
        "id": "JB_OCo5Qs0xo"
      },
      "source": [
        "**Weirdness Alert**\n",
        "\n",
        "Note that the same name can be used for the parameter names and the variables passed to them.\n",
        "\n",
        "The names themselves have nothing to do with each other!\n",
        "\n",
        "In other words, just because a function names an argument `x`, \\\n",
        "the variables passed to it don't have to name `x` or anything like it. \\\n",
        "They can even be named the same thing -- it does not matter."
      ]
    },
    {
      "cell_type": "code",
      "execution_count": null,
      "metadata": {
        "id": "NdTBPrjQs0xp"
      },
      "outputs": [],
      "source": [
        "foo = 1\n",
        "bar = 2\n",
        "\n",
        "fcn_swapped_args(foo, bar)\n",
        "\n",
        "# works even though function was written as fcn_swapped_arg(x, y)"
      ]
    },
    {
      "cell_type": "markdown",
      "metadata": {
        "id": "9d1TBxVQs0xp"
      },
      "source": [
        "## IV. Unpacking list-likes using  `*args`\n",
        "\n",
        "The `*` operator can be passed to avoid specifying the arguments individual."
      ]
    },
    {
      "cell_type": "code",
      "execution_count": null,
      "metadata": {
        "tags": [],
        "id": "aqNLbh-Ks0xp"
      },
      "outputs": [],
      "source": [
        "def show_arg_expansion(*models):\n",
        "\n",
        "    print(\"models          :\", models)\n",
        "    print(\"input arg type  :\",  type(models))\n",
        "    print(\"input arg length:\", len(models))\n",
        "    print(\"-----------------------------\")\n",
        "\n",
        "    for mod in models:\n",
        "        print(mod)\n",
        "\n"
      ]
    },
    {
      "cell_type": "markdown",
      "metadata": {
        "id": "xd0eHkqks0xp"
      },
      "source": [
        "We can pass a tuple of values to the function..."
      ]
    },
    {
      "cell_type": "code",
      "execution_count": null,
      "metadata": {
        "tags": [],
        "id": "SSYiZmxds0xp"
      },
      "outputs": [],
      "source": [
        "\n",
        "show_arg_expansion(\"logreg\", \"naive_bayes\", \"gbm\")"
      ]
    },
    {
      "cell_type": "markdown",
      "metadata": {
        "id": "LNOlJomPs0xq"
      },
      "source": [
        "You can pass a list to the function.\n",
        "\n",
        "If you want the elements unpacked, put * before the list."
      ]
    },
    {
      "cell_type": "code",
      "execution_count": null,
      "metadata": {
        "tags": [],
        "id": "mLkVTk1ps0xq"
      },
      "outputs": [],
      "source": [
        "models = [\"logreg\", \"naive_bayes\", \"gbm\"]\n",
        "show_arg_expansion(*models)"
      ]
    },
    {
      "cell_type": "markdown",
      "metadata": {
        "id": "lSHa7D5ls0xq"
      },
      "source": [
        "**This approach allows your function to accept an arbitrary number of arguments**"
      ]
    },
    {
      "cell_type": "code",
      "execution_count": null,
      "metadata": {
        "tags": [],
        "id": "3dWSZaFss0xq"
      },
      "outputs": [],
      "source": [
        "show_arg_expansion('a b c d e f g'.split())"
      ]
    },
    {
      "cell_type": "code",
      "execution_count": null,
      "metadata": {
        "tags": [],
        "id": "Qji-FHWus0xr"
      },
      "outputs": [],
      "source": [
        "def arg_expansion_example(x, y):\n",
        "    return x**y"
      ]
    },
    {
      "cell_type": "markdown",
      "metadata": {
        "id": "GYPAaV21s0xr"
      },
      "source": [
        "**The reverse is true, too.**\n",
        "\n",
        "You can use the `*` operator to pass list-like objects to a function that specifies its arguments."
      ]
    },
    {
      "cell_type": "code",
      "execution_count": null,
      "metadata": {
        "tags": [],
        "id": "jCckAKdAs0xr"
      },
      "outputs": [],
      "source": [
        "my_args = [2, 8]\n",
        "arg_expansion_example(*my_args)"
      ]
    },
    {
      "cell_type": "markdown",
      "metadata": {
        "id": "LDwc-_Wds0xr"
      },
      "source": [
        "But, the passed object must be the right length."
      ]
    },
    {
      "cell_type": "code",
      "execution_count": null,
      "metadata": {
        "tags": [],
        "id": "4uocXMX0s0xs"
      },
      "outputs": [],
      "source": [
        "my_args2 = [2, 8, 5]\n",
        "arg_expansion_example(*my_args2)"
      ]
    },
    {
      "cell_type": "markdown",
      "metadata": {
        "id": "zEGo56cQs0xs"
      },
      "source": [
        "---\n",
        "\n",
        "**TRY FOR YOURSELF (UNGRADED EXERCISES)**"
      ]
    },
    {
      "cell_type": "markdown",
      "metadata": {
        "id": "62Kv5fKVs0xs"
      },
      "source": [
        "3) Write a function with these requirements:\n",
        "- takes *args for the input argument (like above)\n",
        "- squares each argument, printing the value. you can use a `for` loop like above.\n",
        "- returns None\n",
        "\n",
        "Next, call the function, passing at least two integers"
      ]
    },
    {
      "cell_type": "code",
      "execution_count": null,
      "metadata": {
        "id": "4R0qGVAys0xs"
      },
      "outputs": [],
      "source": []
    },
    {
      "cell_type": "markdown",
      "metadata": {
        "id": "eFsiWTUms0xs"
      },
      "source": [
        "---\n"
      ]
    },
    {
      "cell_type": "markdown",
      "metadata": {
        "id": "gKKmvzrus0xt"
      },
      "source": [
        "## V. Default Arguments"
      ]
    },
    {
      "cell_type": "markdown",
      "metadata": {
        "id": "E6X19NJ2s0xt"
      },
      "source": [
        "`default arguments` set the value when left unspecified."
      ]
    },
    {
      "cell_type": "code",
      "execution_count": null,
      "metadata": {
        "tags": [],
        "id": "G8vH8YDus0xt"
      },
      "outputs": [],
      "source": [
        "def show_results(precision, printing=True):\n",
        "    precision = round(precision, 2)\n",
        "\n",
        "    if printing:\n",
        "      print('precision =', precision)\n",
        "    return precision"
      ]
    },
    {
      "cell_type": "code",
      "execution_count": null,
      "metadata": {
        "tags": [],
        "id": "Vc3lXAbMs0xt"
      },
      "outputs": [],
      "source": [
        "pr = 0.912\n",
        "res = show_results(pr)"
      ]
    },
    {
      "cell_type": "code",
      "execution_count": null,
      "metadata": {
        "tags": [],
        "id": "wGKas1i_s0xt"
      },
      "outputs": [],
      "source": [
        "res"
      ]
    },
    {
      "cell_type": "markdown",
      "metadata": {
        "id": "xy8c0wads0xt"
      },
      "source": [
        "The function call didn't specify `printing`, so it defaulted to True.\n",
        "\n",
        "Default arguments must follow non-default arguments. This causes trouble:"
      ]
    },
    {
      "cell_type": "code",
      "execution_count": null,
      "metadata": {
        "id": "O08wwoO_s0xu"
      },
      "outputs": [],
      "source": [
        "def show_results(precision, printing=True, uhoh):\n",
        "    precision = round(precision, 2)\n",
        "\n",
        "    if printing:\n",
        "      print('precision =', precision)\n",
        "    return precision"
      ]
    },
    {
      "cell_type": "markdown",
      "metadata": {
        "id": "ZtIeCPjts0xu"
      },
      "source": [
        "## VI. Returning Values\n",
        "\n",
        "Functions are not required to have return statement.\n",
        "If there is no return statement, function returns `None` object.  \n",
        "\n",
        "Functions can return no value (`None` object), one value, or many.  \n",
        "\n",
        "Any Python object can be returned.  "
      ]
    },
    {
      "cell_type": "code",
      "execution_count": null,
      "metadata": {
        "tags": [],
        "id": "SU9nZvwks0xu"
      },
      "outputs": [],
      "source": [
        "# returns None, and prints.\n",
        "\n",
        "def fcn_nothing_to_return(x, y):\n",
        "    out = 'nothing to see here!'\n",
        "    print(out)"
      ]
    },
    {
      "cell_type": "code",
      "execution_count": null,
      "metadata": {
        "tags": [],
        "id": "rNSuVDyvs0xu"
      },
      "outputs": [],
      "source": [
        "x = 1\n",
        "y = 2\n",
        "\n",
        "fcn_nothing_to_return(x, y)"
      ]
    },
    {
      "cell_type": "code",
      "execution_count": null,
      "metadata": {
        "tags": [],
        "id": "__mGHAous0xu"
      },
      "outputs": [],
      "source": [
        "r = fcn_nothing_to_return(1, 1)\n",
        "print(r)"
      ]
    },
    {
      "cell_type": "code",
      "execution_count": null,
      "metadata": {
        "tags": [],
        "id": "VL2kQanUs0xv"
      },
      "outputs": [],
      "source": [
        "# returns three values\n",
        "\n",
        "def negate_coords(x, y, z):\n",
        "    return -x, -y, -z"
      ]
    },
    {
      "cell_type": "code",
      "execution_count": null,
      "metadata": {
        "tags": [],
        "id": "vQ9O7uWhs0xv"
      },
      "outputs": [],
      "source": [
        "a,b,c = negate_coords(10,20,30)\n",
        "print('a=', a)\n",
        "print('b=', b)\n",
        "print('c=', c)"
      ]
    },
    {
      "cell_type": "markdown",
      "metadata": {
        "id": "Zmt9M5j5s0xv"
      },
      "source": [
        "**If you don't need an output, use the dummy variable `_`**"
      ]
    },
    {
      "cell_type": "code",
      "execution_count": null,
      "metadata": {
        "tags": [],
        "id": "aE2Qpkvjs0xv"
      },
      "outputs": [],
      "source": [
        "d,e,_ = negate_coords(10,20,30)\n",
        "print('d=', d)\n",
        "print('e=', e)"
      ]
    },
    {
      "cell_type": "markdown",
      "metadata": {
        "id": "ugmIpgkHs0xw"
      },
      "source": [
        "**Note:** For clarity purposes, it's generally a good idea to include return statements, even if not returning a value.  \n",
        "You can use `return` or `return None`."
      ]
    },
    {
      "cell_type": "markdown",
      "metadata": {
        "id": "QK-9UvaUs0xw"
      },
      "source": [
        "**Functions can contain multiple return statements**"
      ]
    },
    {
      "cell_type": "code",
      "execution_count": null,
      "metadata": {
        "tags": [],
        "id": "CX_GfMF6s0xw"
      },
      "outputs": [],
      "source": [
        "def absolute_value(num):\n",
        "    if num >= 0:\n",
        "        return num\n",
        "    return -num"
      ]
    },
    {
      "cell_type": "code",
      "execution_count": null,
      "metadata": {
        "tags": [],
        "id": "Mb5cAXACs0xx"
      },
      "outputs": [],
      "source": [
        "absolute_value(-4)"
      ]
    },
    {
      "cell_type": "code",
      "execution_count": null,
      "metadata": {
        "tags": [],
        "id": "r40f57V-s0xx"
      },
      "outputs": [],
      "source": [
        "absolute_value(4)"
      ]
    },
    {
      "cell_type": "markdown",
      "metadata": {
        "id": "lO_lzIR_s0xx"
      },
      "source": [
        "For non-negative values, the first `return` is reached.  \n",
        "For negative values, the second `return` is reached."
      ]
    },
    {
      "cell_type": "markdown",
      "metadata": {
        "id": "2Q2SrhJSs0xx"
      },
      "source": [
        "---\n",
        "\n",
        "**TRY FOR YOURSELF (UNGRADED EXERCISES)**"
      ]
    },
    {
      "cell_type": "markdown",
      "metadata": {
        "id": "xb318BmBs0xy"
      },
      "source": [
        "4) Write a small function that returns two outputs. Verify it works properly."
      ]
    },
    {
      "cell_type": "code",
      "execution_count": null,
      "metadata": {
        "id": "_KIy9GHxs0xy"
      },
      "outputs": [],
      "source": []
    },
    {
      "cell_type": "markdown",
      "metadata": {
        "id": "qwj0DwRZs0xy"
      },
      "source": [
        "5) Define a step function with these requirements:\n",
        "- take one numeric value as input\n",
        "- subtract 5 from the value\n",
        "- return 1 if the difference is nonnegative, else return 0\n",
        "\n",
        "Call the function on different values to test it."
      ]
    },
    {
      "cell_type": "markdown",
      "metadata": {
        "id": "hZ8u24Sxs0xy"
      },
      "source": [
        "---\n"
      ]
    },
    {
      "cell_type": "markdown",
      "metadata": {
        "id": "aHZTbEFks0xy"
      },
      "source": [
        "## VII. Variable Scope\n",
        "\n",
        "A variable's **scope** is the part of a program where it is **visible**.\n",
        "\n",
        "Visible means available or usable.\n",
        "\n",
        "If a variable is **in scope** to a function, it is visible the function.\n",
        "\n",
        "If it is **out of scope** to a function, it is not visible the function.\n",
        "\n",
        "When a variable is defined inside of a function, is is not visible outside of the function.\n",
        "\n",
        "We say such variables are **local** to the function.\n",
        "\n",
        "They are also removed from memory when the function completes."
      ]
    },
    {
      "cell_type": "code",
      "execution_count": null,
      "metadata": {
        "tags": [],
        "id": "smWXKCM7s0xy"
      },
      "outputs": [],
      "source": [
        "def show_scope(x):\n",
        "    x = 10*x\n",
        "    z = 4\n",
        "    print('z inside function =', z)\n",
        "    print('memory address of z inside function =', id(z))\n",
        "    return x"
      ]
    },
    {
      "cell_type": "code",
      "execution_count": null,
      "metadata": {
        "tags": [],
        "id": "_lJ-MtxGs0xz"
      },
      "outputs": [],
      "source": [
        "show_scope(6)"
      ]
    },
    {
      "cell_type": "code",
      "execution_count": null,
      "metadata": {
        "tags": [],
        "id": "HfGvbAEVs0xz"
      },
      "outputs": [],
      "source": [
        "print('z =', z)"
      ]
    },
    {
      "cell_type": "markdown",
      "metadata": {
        "id": "qCLLg3cZs0xz"
      },
      "source": [
        "This code recognizes z from inside the function.\n",
        "  \n",
        "Calling it from outside, where it isn't defined, throws an error."
      ]
    },
    {
      "cell_type": "markdown",
      "metadata": {
        "id": "742AtXfUs0xz"
      },
      "source": [
        "If we define `z` and call the function, the update to `z` won't pass outside the function."
      ]
    },
    {
      "cell_type": "code",
      "execution_count": null,
      "metadata": {
        "tags": [],
        "id": "2P6DHR_xs0x0"
      },
      "outputs": [],
      "source": [
        "z = 2\n",
        "print('z outside:', id(z))\n",
        "out = show_scope(6)\n",
        "print('z = ', z)"
      ]
    },
    {
      "cell_type": "markdown",
      "metadata": {
        "id": "gfPCEqx5s0x0"
      },
      "source": [
        "### Local versus Global Variables\n",
        "\n",
        "It is helpful to have a good understanding of local versus global variables.  \n",
        "\n",
        "Not having this understanding can lead to surprises and confusion.  \n",
        "\n",
        "**Example 1: Variable defined outside function, used inside function**\n",
        "\n",
        "In the code below:  \n",
        "\n",
        "`x` is global and seen from inside the function.  \n",
        "`t` is local to the function. trying to print outside function throws error."
      ]
    },
    {
      "cell_type": "code",
      "execution_count": null,
      "metadata": {
        "tags": [],
        "id": "fSsMeFKns0x0"
      },
      "outputs": [],
      "source": [
        "x = 10\n",
        "\n",
        "def fcn(t):\n",
        "    out = x + t\n",
        "    return(out)\n"
      ]
    },
    {
      "cell_type": "code",
      "execution_count": null,
      "metadata": {
        "tags": [],
        "id": "uaJlL3IQs0x0"
      },
      "outputs": [],
      "source": [
        "print(fcn(6)) # works"
      ]
    },
    {
      "cell_type": "code",
      "execution_count": null,
      "metadata": {
        "tags": [],
        "id": "Vut7DKk3s0x1"
      },
      "outputs": [],
      "source": [
        "print(t)      # fails"
      ]
    },
    {
      "cell_type": "markdown",
      "metadata": {
        "id": "nLORrp0Gs0x1"
      },
      "source": [
        "**Example 2: Variable defined outside function, updated and used inside function**\n",
        "\n",
        "`fcn` uses the local version of `x`"
      ]
    },
    {
      "cell_type": "code",
      "execution_count": null,
      "metadata": {
        "tags": [],
        "id": "7sc75fBis0x1"
      },
      "outputs": [],
      "source": [
        "x = 10\n",
        "\n",
        "def fcn(t):\n",
        "    x = 20\n",
        "    sum = x + t\n",
        "    print('x from fcn:', x)\n",
        "    return(sum)\n",
        "\n",
        "print('fcn(6):', fcn(6))\n",
        "print('x:', x)"
      ]
    },
    {
      "cell_type": "markdown",
      "metadata": {
        "id": "381TqFQ-s0x1"
      },
      "source": [
        "**Example 3: Variable defined outside function. Inside function, print variable, update, and use**\n",
        "\n",
        "This one may be confusing. It fails!  \n",
        "\n",
        "Python treats `x` inside function as the local `x`.  \n",
        "The print() occurs before `x` is assigned, so it can't find `x`."
      ]
    },
    {
      "cell_type": "code",
      "execution_count": null,
      "metadata": {
        "tags": [],
        "id": "ueG2ZxKZs0x1"
      },
      "outputs": [],
      "source": [
        "x = 10\n",
        "\n",
        "def fcn(t):\n",
        "    print('x from fcn, before update:', x)\n",
        "    x = 20\n",
        "    out = x + t\n",
        "    print('x from fcn, after update:', x)\n",
        "    return(out)\n",
        "\n",
        "print('fcn(6):', fcn(6))\n",
        "print('x:', x)"
      ]
    },
    {
      "cell_type": "markdown",
      "metadata": {
        "id": "Mmfy4w-_s0x1"
      },
      "source": [
        "The error can be fixed by referencing x as `global` inside function.\n",
        "\n",
        "Only necessary if we wish to reassign the variable.\n",
        "\n",
        "It is also useful when we want several functions to operate on the same variable"
      ]
    },
    {
      "cell_type": "code",
      "execution_count": null,
      "metadata": {
        "tags": [],
        "id": "cbfGWlfWs0x2"
      },
      "outputs": [],
      "source": [
        "x = 10\n",
        "\n",
        "def fcn(t):\n",
        "    global x    # add this to reference global x outside function\n",
        "    print('x from fcn, before update:', x)\n",
        "    x = 20\n",
        "    out = x + t\n",
        "    print('x from fcn, after update:', x)\n",
        "    return(out)\n",
        "\n",
        "print('fcn(6):', fcn(6))\n",
        "print('x:', x)"
      ]
    },
    {
      "cell_type": "markdown",
      "metadata": {
        "id": "CKGF23c_s0x2"
      },
      "source": [
        "---\n",
        "**TRY FOR YOURSELF (UNGRADED EXERCISES)**"
      ]
    },
    {
      "cell_type": "markdown",
      "metadata": {
        "id": "FCLpDjAgs0x2"
      },
      "source": [
        "6) Define a function that creates and prints a variable.  \n",
        "Show that calling this variable outside the function produces an error."
      ]
    },
    {
      "cell_type": "code",
      "execution_count": null,
      "metadata": {
        "id": "BewHmg-Ts0x2"
      },
      "outputs": [],
      "source": []
    },
    {
      "cell_type": "markdown",
      "metadata": {
        "id": "G5ApY3pBs0x2"
      },
      "source": [
        "---"
      ]
    },
    {
      "cell_type": "markdown",
      "metadata": {
        "id": "-5v_dHvzs0x2"
      },
      "source": [
        "##  VIII. Function Design\n",
        "\n",
        "\n",
        "Some good practices for creating and using functions:\n",
        "\n",
        "- design a function to do one thing\n",
        "\n",
        "Make them as simple as possible, which makes them:\n",
        "- more comprehensible\n",
        "- easier to maintain\n",
        "- reusable\n",
        "\n",
        "This helps avoid situations where a team has 20 variations of similar functions\n",
        "\n",
        "Give your function a good name  \n",
        "\n",
        "- it should reflect the action in performs.\n",
        "- be consistent in naming conventions\n",
        "- a name like `compute_variances_sort_save_print` suggests the function is overworked!\n",
        "- if the function `compute_variances` also produces plots and updates variables, it will cause confusion.  \n",
        "\n",
        "Always give your function a docstring\n",
        "- Particularly important since indicating data types is not required.  \n",
        "- As a side note, you can include this information by using `type annotation`.\n",
        "\n",
        "https://docs.python.org/3/library/typing.html"
      ]
    },
    {
      "cell_type": "code",
      "execution_count": null,
      "metadata": {
        "tags": [],
        "id": "_aeOin-ss0x3"
      },
      "outputs": [],
      "source": [
        "def fun(x: str) -> list:\n",
        "    return list(x)\n",
        "fun(\"eclipse\")"
      ]
    },
    {
      "cell_type": "markdown",
      "metadata": {
        "id": "Vn87k92Ss0x3"
      },
      "source": [
        "Function docstrings are stored in attribute `__doc__`; they can be shown like this:"
      ]
    },
    {
      "cell_type": "code",
      "execution_count": null,
      "metadata": {
        "id": "Wmvd3K-fs0x3"
      },
      "outputs": [],
      "source": [
        "print(bool.__doc__)"
      ]
    },
    {
      "cell_type": "markdown",
      "metadata": {
        "id": "a3fPRv2as0x3"
      },
      "source": [
        "---"
      ]
    }
  ],
  "metadata": {
    "anaconda-cloud": {},
    "kernelspec": {
      "display_name": "Python 3 (ipykernel)",
      "language": "python",
      "name": "python3"
    },
    "language_info": {
      "codemirror_mode": {
        "name": "ipython",
        "version": 3
      },
      "file_extension": ".py",
      "mimetype": "text/x-python",
      "name": "python",
      "nbconvert_exporter": "python",
      "pygments_lexer": "ipython3",
      "version": "3.9.16"
    },
    "vscode": {
      "interpreter": {
        "hash": "31f2aee4e71d21fbe5cf8b01ff0e069b9275f58929596ceb00d14d90e3e16cd6"
      }
    },
    "colab": {
      "provenance": [],
      "include_colab_link": true
    }
  },
  "nbformat": 4,
  "nbformat_minor": 0
}