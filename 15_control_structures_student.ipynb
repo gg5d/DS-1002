{
  "cells": [
    {
      "cell_type": "markdown",
      "metadata": {
        "id": "view-in-github",
        "colab_type": "text"
      },
      "source": [
        "<a href=\"https://colab.research.google.com/github/gg5d/DS-1002/blob/main/15_control_structures_student.ipynb\" target=\"_parent\"><img src=\"https://colab.research.google.com/assets/colab-badge.svg\" alt=\"Open In Colab\"/></a>"
      ]
    },
    {
      "cell_type": "markdown",
      "metadata": {
        "id": "heKfrYLWQZNk"
      },
      "source": [
        "## Control Structures\n",
        "\n",
        "\n",
        "### University of Virginia\n",
        "### DS 1002: Programming for Data Science\n",
        "---  \n",
        "\n",
        "### PREREQUISITES\n",
        "- variables\n",
        "- data types\n",
        "- conditional operators\n",
        "\n",
        "### SOURCES\n",
        "\n",
        "- conditional statements  \n",
        "https://www.w3schools.com/python/python_conditions.asp\n",
        "\n",
        "\n",
        "- `while-loop`  \n",
        "https://www.w3schools.com/python/python_while_loops.asp\n",
        "\n",
        "\n",
        "\n",
        "\n",
        "### OBJECTIVES\n",
        "- Introduce the essential control structures\n",
        "\n",
        "\n",
        "\n",
        "### CONCEPTS\n",
        "\n",
        "- conditional statements\n",
        "- if, else, elif\n",
        "- for-loop\n",
        "- while-loop\n",
        "- break\n",
        "- continue\n",
        "- iteration\n",
        "\n",
        "\n",
        "\n",
        "\n",
        "---\n",
        "\n",
        "### **First a Note on Indentation**\n",
        "\n",
        "This is where Python differs from most languages. To define control structures, \\\n",
        "and functional blocks of code in general, most languages use either characters like braces `{` and `}` or key words like `IF ... END IF`.\n",
        "\n",
        "Python uses tabs -- spaces, actually -- to signify logical blocks off code.\n",
        "\n",
        "It is therefore imperative to understand and get a feel for indentation.\n",
        "\n",
        "## I. Introducing Control Structures\n",
        "\n",
        "Python includes structures to control the flow of a program:\n",
        "\n",
        "- `conditions` (if, else)\n",
        "- `loops`\n",
        "  - `while-loop`    \n",
        "  Execute statements while a condition is true\n",
        "  - `for-loop`    \n",
        "  Iterates over a iterable object (list, tuple, dict, set, string)\n",
        "  \n",
        "Note: as always, proper indentation is essential."
      ]
    },
    {
      "cell_type": "markdown",
      "metadata": {
        "id": "-HctFYE1QZNm"
      },
      "source": [
        "## II. Conditions\n",
        "\n"
      ]
    },
    {
      "cell_type": "markdown",
      "metadata": {
        "id": "Ki5SotK_QZNm"
      },
      "source": [
        "### `if` and `else` can be used for conditional processing.\n",
        "\n",
        "`if` conditon:  \n",
        "&nbsp;&nbsp;&nbsp;&nbsp;expression"
      ]
    },
    {
      "cell_type": "code",
      "execution_count": null,
      "metadata": {
        "id": "umOpN7pIQZNm",
        "outputId": "5859db38-eab2-49b8-b676-ef029f133296"
      },
      "outputs": [
        {
          "name": "stdout",
          "output_type": "stream",
          "text": [
            "2\n"
          ]
        }
      ],
      "source": [
        "val = -2\n",
        "\n",
        "if val >=0:\n",
        "    print(val)\n",
        "else:\n",
        "    print(-val)"
      ]
    },
    {
      "cell_type": "markdown",
      "metadata": {
        "id": "M2TqBPIaQZNn"
      },
      "source": [
        "### TRY FOR YOURSELF (UNGRADED EXERCISES)\n",
        "\n",
        "1. if `z=4` write an `if` statement that evaluates if `z` is odd or even and then print \"z is even\"\n"
      ]
    },
    {
      "cell_type": "code",
      "execution_count": null,
      "metadata": {
        "id": "g1C2xYdGQZNo",
        "outputId": "2dfbe629-825a-4719-9a91-0ec8a98119b5"
      },
      "outputs": [
        {
          "name": "stdout",
          "output_type": "stream",
          "text": [
            "4 is even\n"
          ]
        }
      ],
      "source": [
        "z = 4\n",
        "print(f'{z} is even')"
      ]
    },
    {
      "cell_type": "markdown",
      "metadata": {
        "id": "xAoDTzPKQZNo"
      },
      "source": [
        "2. Add and `else` statement to the above code to print \"z is odd\""
      ]
    },
    {
      "cell_type": "code",
      "execution_count": null,
      "metadata": {
        "id": "-Ul5Wb39QZNo"
      },
      "outputs": [],
      "source": []
    },
    {
      "cell_type": "markdown",
      "metadata": {
        "id": "sXYnm411QZNo"
      },
      "source": [
        "3. Imagine we had a long list of numbers we were checking, within the `if, else` statement print what number is being checked by the condition. (Hint: use string arthimetic)"
      ]
    },
    {
      "cell_type": "code",
      "execution_count": null,
      "metadata": {
        "id": "5R1Z3yJQQZNp"
      },
      "outputs": [],
      "source": []
    },
    {
      "cell_type": "markdown",
      "metadata": {
        "id": "5Zcs4gRkQZNp"
      },
      "source": [
        "### using `if`, `elif`\n",
        "\n",
        "`elif` is reached when the previous statements are not."
      ]
    },
    {
      "cell_type": "code",
      "execution_count": null,
      "metadata": {
        "id": "RMGdKW8lQZNp",
        "outputId": "67c90c43-b937-45e6-adba-cab3a8ef0d4c"
      },
      "outputs": [
        {
          "name": "stdout",
          "output_type": "stream",
          "text": [
            "bucket 3\n"
          ]
        }
      ],
      "source": [
        "val = -2\n",
        "\n",
        "if -10 < val < -5:\n",
        "    print('bucket 1')\n",
        "if -5 <= val < -2:\n",
        "    print('bucket 2')\n",
        "elif val == -2:\n",
        "    print('bucket 3')"
      ]
    },
    {
      "cell_type": "markdown",
      "metadata": {
        "id": "ZiJmRHwzQZNq"
      },
      "source": [
        "### TRY FOR YOURSELF (UNGRADED EXERCISES)"
      ]
    },
    {
      "cell_type": "markdown",
      "metadata": {
        "id": "fajwGU30QZNq"
      },
      "source": [
        "4. What prints in the above `if`, `elif` example if val = 5?  \n",
        "Copy the code in the cell below and run it"
      ]
    },
    {
      "cell_type": "code",
      "execution_count": null,
      "metadata": {
        "id": "U6lN34yoQZNq"
      },
      "outputs": [],
      "source": []
    },
    {
      "cell_type": "markdown",
      "metadata": {
        "id": "aKi2aybpQZNq"
      },
      "source": [
        "### using `if`, `elif`, `else`\n",
        "\n",
        "`else` can be used as a catchall"
      ]
    },
    {
      "cell_type": "code",
      "execution_count": null,
      "metadata": {
        "id": "eYeY96EHQZNr",
        "outputId": "df7d68ce-eeaf-4358-d28e-8cdc35ccf9b1"
      },
      "outputs": [
        {
          "name": "stdout",
          "output_type": "stream",
          "text": [
            "bucket 4\n"
          ]
        }
      ],
      "source": [
        "val = 5\n",
        "\n",
        "if -10 < val < -5:\n",
        "    print('bucket 1')\n",
        "elif -5 <= val < -2:\n",
        "    print('bucket 2')\n",
        "elif val == -2:\n",
        "    print('bucket 3')\n",
        "else:\n",
        "    print('bucket 4')"
      ]
    },
    {
      "cell_type": "markdown",
      "metadata": {
        "id": "3CKNt_WQQZNr"
      },
      "source": [
        "### TRY FOR YOURSELF (UNGRADED EXERCISES)\n",
        "5. Write a statement that evaluates if a number is a number is divisble by 2, divisble by 3, or divisble by both numbers. If there is a number that is not divisable by either number, make sure to include a statement for that case. *Test the numbers: 4, 6, 9, 13*"
      ]
    },
    {
      "cell_type": "code",
      "execution_count": null,
      "metadata": {
        "id": "ECp5K5pTQZNr"
      },
      "outputs": [],
      "source": []
    },
    {
      "cell_type": "markdown",
      "metadata": {
        "id": "xpu_RQW-QZNr"
      },
      "source": [
        "### Short hand writing `if` and `else` as one-liners"
      ]
    },
    {
      "cell_type": "code",
      "execution_count": null,
      "metadata": {
        "id": "z-t80w-RQZNr",
        "outputId": "bba2807e-6d31-49d7-96b9-12a268d955a4"
      },
      "outputs": [
        {
          "name": "stdout",
          "output_type": "stream",
          "text": [
            "odd\n"
          ]
        }
      ],
      "source": [
        "x = 3\n",
        "print('odd') if x % 2 == 1 else print('even')"
      ]
    },
    {
      "cell_type": "markdown",
      "metadata": {
        "id": "lB5l0jYbQZNs"
      },
      "source": [
        "Notice `==` for checking the condition  x % 2 == 1.\n",
        "\n",
        "both `if` and `else` are required. this breaks:"
      ]
    },
    {
      "cell_type": "code",
      "execution_count": null,
      "metadata": {
        "id": "fZ8MwwVMQZNs",
        "outputId": "c9d98eaa-1d07-4f51-a67b-b45f597c7bab"
      },
      "outputs": [
        {
          "ename": "SyntaxError",
          "evalue": "invalid syntax (471325368.py, line 1)",
          "output_type": "error",
          "traceback": [
            "\u001b[0;36m  Cell \u001b[0;32mIn[5], line 1\u001b[0;36m\u001b[0m\n\u001b[0;31m    print('odd') if x % 2 == 1\u001b[0m\n\u001b[0m                              ^\u001b[0m\n\u001b[0;31mSyntaxError\u001b[0m\u001b[0;31m:\u001b[0m invalid syntax\n"
          ]
        }
      ],
      "source": [
        "print('odd') if x % 2 == 1"
      ]
    },
    {
      "cell_type": "markdown",
      "metadata": {
        "id": "7QhtxodJQZNs"
      },
      "source": [
        "### Using multiple conditions\n",
        "\n",
        "Can build complex statements. Use parentheses carefully, to keep order of operations correct."
      ]
    },
    {
      "cell_type": "code",
      "execution_count": null,
      "metadata": {
        "id": "gWw11oC0QZNs",
        "outputId": "1d2b2998-0834-43cd-995c-a5f858dd8f2f"
      },
      "outputs": [
        {
          "name": "stdout",
          "output_type": "stream",
          "text": [
            "bucket 2\n"
          ]
        }
      ],
      "source": [
        "# correct\n",
        "\n",
        "val = 2\n",
        "\n",
        "if (-2 < val < 2) or (val > 10):\n",
        "    print('bucket 1')\n",
        "else:\n",
        "    print('bucket 2')"
      ]
    },
    {
      "cell_type": "code",
      "execution_count": null,
      "metadata": {
        "id": "EkS0KHkGQZNs",
        "outputId": "b41eae3f-88ad-4f1e-b108-5805a5438caf"
      },
      "outputs": [
        {
          "name": "stdout",
          "output_type": "stream",
          "text": [
            "bucket 1\n"
          ]
        }
      ],
      "source": [
        "# incorrect - misplaced parenthesis\n",
        "\n",
        "if (-2 < val) < 2 or val > 10:\n",
        "    print('bucket 1')\n",
        "else:\n",
        "    print('bucket 2')"
      ]
    },
    {
      "cell_type": "markdown",
      "metadata": {
        "id": "qJaaHOURQZNs"
      },
      "source": [
        "and this is because True < 2, as True is cast to integer value 1"
      ]
    },
    {
      "cell_type": "markdown",
      "metadata": {
        "id": "4LeBvOGeQZNt"
      },
      "source": [
        "this is not the desired result...but does it make sense?"
      ]
    },
    {
      "cell_type": "markdown",
      "metadata": {
        "id": "Fi6i3o5lQZNt"
      },
      "source": [
        "## III. Loops"
      ]
    },
    {
      "cell_type": "markdown",
      "metadata": {
        "id": "Tlwk8HP1QZNt"
      },
      "source": [
        "### `while-loop`  \n",
        "\n",
        "`while` condition :  \n",
        "&nbsp;&nbsp;&nbsp;&nbsp;expression  \n",
        "\n",
        "* Numerically calculating model\n",
        "* 'repeating action until condition is met'\n",
        "\n",
        "\n",
        "Don't run the code below yet, what do you expect it will print?"
      ]
    },
    {
      "cell_type": "code",
      "execution_count": null,
      "metadata": {
        "tags": [],
        "id": "OAUu77mTQZNt"
      },
      "outputs": [],
      "source": [
        "ix = 1\n",
        "while ix < 10:\n",
        "    ix = ix * 2\n",
        "    print(ix)"
      ]
    },
    {
      "cell_type": "markdown",
      "metadata": {
        "id": "v3-zeXN6QZNt"
      },
      "source": [
        "### `break` - exit the loop\n",
        "\n",
        "sometimes you want to quit the loop early, if some condition is met.  \n",
        "uses `if-statement`"
      ]
    },
    {
      "cell_type": "code",
      "execution_count": null,
      "metadata": {
        "id": "7kJ34Zh0QZNt",
        "outputId": "fbfcdb20-87bb-47fe-c3fb-8bf7116dd147"
      },
      "outputs": [
        {
          "name": "stdout",
          "output_type": "stream",
          "text": [
            "4\n"
          ]
        }
      ],
      "source": [
        "ix = 1\n",
        "while ix < 10:\n",
        "    ix = ix * 2\n",
        "    if ix == 4:\n",
        "        break\n",
        "print(ix)"
      ]
    },
    {
      "cell_type": "markdown",
      "metadata": {
        "id": "ywI4MOrbQZNt"
      },
      "source": [
        "The `break` causes the loop to end early"
      ]
    },
    {
      "cell_type": "markdown",
      "metadata": {
        "id": "hqlbA5BXQZNt"
      },
      "source": [
        "### `continue` - stop the current iteration\n",
        "\n",
        "sometimes you want to introduce skipping behavior in the loop.  \n",
        "uses `if-statement`"
      ]
    },
    {
      "cell_type": "code",
      "execution_count": null,
      "metadata": {
        "id": "ZdFiu9XhQZNt",
        "outputId": "06c3b3dc-8164-49d7-9344-36619185b6cd"
      },
      "outputs": [
        {
          "name": "stdout",
          "output_type": "stream",
          "text": [
            "2\n",
            "skipping 4...\n",
            "8\n",
            "16\n"
          ]
        }
      ],
      "source": [
        "ix = 1\n",
        "while ix < 10:\n",
        "    ix = ix * 2\n",
        "    if ix == 4:\n",
        "        print('skipping 4...')\n",
        "        continue\n",
        "    print(ix)"
      ]
    },
    {
      "cell_type": "markdown",
      "metadata": {
        "id": "YHSl833aQZNu"
      },
      "source": [
        "The `continue` causes the loop to skip printing 4"
      ]
    },
    {
      "cell_type": "markdown",
      "metadata": {
        "id": "3tEhguc1QZNu"
      },
      "source": [
        "### `for` loop\n",
        "\n",
        "`for` var in `seq` :  \n",
        "&nbsp;&nbsp;&nbsp;&nbsp;expression\n",
        "\n",
        "* 'for each var in seq, execute the expression'\n",
        "* iterate over an iterable\n",
        "\n",
        "An iterator is an object that contains a countable number of values.\n",
        "\n",
        "An iterator is an object that can be iterated upon, meaning that you can traverse through all the values."
      ]
    },
    {
      "cell_type": "code",
      "execution_count": null,
      "metadata": {
        "id": "yjFSV0DnQZNu",
        "outputId": "59ddaddd-1597-4646-9fe9-56a430e57c8d"
      },
      "outputs": [
        {
          "name": "stdout",
          "output_type": "stream",
          "text": [
            "charlottesville\n",
            "new york\n",
            "sf\n",
            "bos\n",
            "la\n"
          ]
        }
      ],
      "source": [
        "cities = ['Charlottesville','New York','SF','BOS','LA']\n",
        "\n",
        "for city in cities:\n",
        "    city = city.lower()\n",
        "    print(city)"
      ]
    },
    {
      "cell_type": "markdown",
      "metadata": {
        "id": "ahL0Kt0pQZNu"
      },
      "source": [
        "quit early if `SF` reached, using **break**"
      ]
    },
    {
      "cell_type": "code",
      "execution_count": null,
      "metadata": {
        "id": "ouIA3EARQZNu",
        "outputId": "8029b732-0daf-43bb-d77a-99a419468b9c"
      },
      "outputs": [
        {
          "name": "stdout",
          "output_type": "stream",
          "text": [
            "charlottesville\n",
            "new york\n"
          ]
        }
      ],
      "source": [
        "cities = ['Charlottesville','New York','SF','BOS','LA']\n",
        "\n",
        "for city in cities:\n",
        "    if city == 'SF':\n",
        "        break\n",
        "    city = city.lower()\n",
        "    print(city)"
      ]
    },
    {
      "cell_type": "markdown",
      "metadata": {
        "id": "u_gBWXomQZNu"
      },
      "source": [
        "skip over `SF` if reached, using **continue**"
      ]
    },
    {
      "cell_type": "code",
      "execution_count": null,
      "metadata": {
        "id": "7RxOOouCQZNv",
        "outputId": "70f3c5f4-94f5-4b68-ccba-907a7d509de0"
      },
      "outputs": [
        {
          "name": "stdout",
          "output_type": "stream",
          "text": [
            "charlottesville\n",
            "new york\n",
            "bos\n",
            "la\n"
          ]
        }
      ],
      "source": [
        "cities = ['Charlottesville','New York','SF','BOS','LA']\n",
        "\n",
        "for city in cities:\n",
        "    if city == 'SF':\n",
        "        continue\n",
        "    city = city.lower()\n",
        "    print(city)"
      ]
    },
    {
      "cell_type": "markdown",
      "metadata": {
        "id": "0pp4N6E4QZNv"
      },
      "source": [
        "# `while` vs `for`\n",
        "\n",
        "For loops are used to loop through a list of values or an operation in which the number of iterations is **known** in advance.\n",
        "\n",
        "While loops are when **you don't know** how many interations it will take -- you are depending on some condition to be met.\n",
        "\n",
        "It is possible for while loops to be unending, for example:"
      ]
    },
    {
      "cell_type": "code",
      "execution_count": null,
      "metadata": {
        "id": "JWUtisMLQZNv"
      },
      "outputs": [],
      "source": [
        "#while 1:\n",
        "    #print(\"This is so annoying\")"
      ]
    },
    {
      "cell_type": "markdown",
      "metadata": {
        "id": "NA0YdyHbQZNv"
      },
      "source": [
        "---"
      ]
    },
    {
      "cell_type": "markdown",
      "metadata": {
        "id": "QqpJ-yoTQZNv"
      },
      "source": [
        "### TRY FOR YOURSELF (UNGRADED EXERCISES)"
      ]
    },
    {
      "cell_type": "markdown",
      "metadata": {
        "id": "Bihxi_mlQZNv"
      },
      "source": [
        "2) Write code that does the following:\n",
        "- define a list of integers xx = [-2, 8, 0, 5, 6]\n",
        "- compute the maximum, storing in `max_val`\n",
        "- loop over each value in the list\n",
        "- if the value is less than the maximum, print the value\n",
        "- otherwise, print the string 'max_val'"
      ]
    },
    {
      "cell_type": "code",
      "execution_count": null,
      "metadata": {
        "jupyter": {
          "source_hidden": true
        },
        "id": "5rynaRWwQZNv"
      },
      "outputs": [],
      "source": []
    },
    {
      "cell_type": "markdown",
      "metadata": {
        "id": "0I2JlN__QZNv"
      },
      "source": [
        "3a) Write code that does the following:\n",
        "\n",
        "- set a variable `it` to 0\n",
        "- set a variable `max_iter` to 100\n",
        "- while `it` < `max_iter`, do the following:\n",
        "  - if `it` = 0 or `it` is divisible by 10, print `it`. hint: use modulo operator %\n",
        "- increase `it` by 1\n",
        "- when `it` >= `max_iter`, the program should quit"
      ]
    },
    {
      "cell_type": "code",
      "execution_count": null,
      "metadata": {
        "id": "HMv2eB3kQZNv"
      },
      "outputs": [],
      "source": []
    },
    {
      "cell_type": "markdown",
      "metadata": {
        "id": "K9eRvb3NQZNw"
      },
      "source": [
        "3b) How many iterations did (3a) run?"
      ]
    },
    {
      "cell_type": "code",
      "execution_count": null,
      "metadata": {
        "id": "E6fHPH4bQZNw"
      },
      "outputs": [],
      "source": []
    }
  ],
  "metadata": {
    "anaconda-cloud": {},
    "kernelspec": {
      "display_name": "Python 3 (ipykernel)",
      "language": "python",
      "name": "python3"
    },
    "language_info": {
      "codemirror_mode": {
        "name": "ipython",
        "version": 3
      },
      "file_extension": ".py",
      "mimetype": "text/x-python",
      "name": "python",
      "nbconvert_exporter": "python",
      "pygments_lexer": "ipython3",
      "version": "3.9.16"
    },
    "vscode": {
      "interpreter": {
        "hash": "31f2aee4e71d21fbe5cf8b01ff0e069b9275f58929596ceb00d14d90e3e16cd6"
      }
    },
    "colab": {
      "provenance": [],
      "include_colab_link": true
    }
  },
  "nbformat": 4,
  "nbformat_minor": 0
}