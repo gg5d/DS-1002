{
  "cells": [
    {
      "cell_type": "markdown",
      "metadata": {
        "id": "view-in-github",
        "colab_type": "text"
      },
      "source": [
        "<a href=\"https://colab.research.google.com/github/gg5d/DS-1002/blob/main/20_recursion_student.ipynb\" target=\"_parent\"><img src=\"https://colab.research.google.com/assets/colab-badge.svg\" alt=\"Open In Colab\"/></a>"
      ]
    },
    {
      "cell_type": "markdown",
      "metadata": {
        "id": "7co8ihGG4KvA"
      },
      "source": [
        "## Recursion\n",
        "\n",
        "\n",
        "### University of Virginia\n",
        "### Programming for Data Science\n",
        "### Last Updated: October 25, 2023\n",
        "---  \n",
        "\n",
        "### PREREQUISITES\n",
        "- variables\n",
        "- data types\n",
        "- operators\n",
        "- control structures\n",
        "- functions\n",
        "\n",
        "### SOURCES\n",
        "- https://en.wikipedia.org/wiki/Recursion\n",
        "\n",
        "\n",
        "### OBJECTIVES\n",
        "- introduce the concept of recursion\n",
        "- write a function that uses recursion\n",
        "\n",
        "\n",
        "### CONCEPTS\n",
        "\n",
        "- recursion\n",
        "- recursive function\n",
        "- stack\n",
        "- stack overflow\n",
        "\n",
        "---"
      ]
    },
    {
      "cell_type": "markdown",
      "metadata": {
        "id": "2MFga1LT4KvB"
      },
      "source": [
        "## Introduction\n",
        "\n",
        "A recursive function is **a function that calls itself**.\n",
        "\n",
        "This is weird, since it does not seem possible. How can a definition refer to itself?\n",
        "\n",
        "In philosophy, this is expressed in the Barber's Paradox:\n",
        "\n",
        "> The barber is the one who shaves all those, and those only, who do not shave themselves. Does the barber shave himself?\n",
        "\n",
        "Formally, it is a type of [self-reference](https://en.wikipedia.org/wiki/Self-reference), like `This sentence is false.`\n",
        "\n",
        "**A Cute Definition**\n",
        "\n",
        "**recursion** - the art of defining something (at least partly) in terms of itself, which is a naughty no-no in dictionaries but often works out okay in computer programs if you’re careful not to recurse forever (which is like an infinite loop with more spectacular failure modes).\n",
        "\n",
        "Source: _PerlDoc_"
      ]
    },
    {
      "cell_type": "markdown",
      "metadata": {
        "id": "wXzylJzD4KvC"
      },
      "source": [
        "**A Formal Definition**\n",
        "\n",
        "In mathematics and computer science, a class of objects or methods exhibits *recursive behavior* when it can be defined by two properties:\n",
        "\n",
        "A simple **base case** (or cases): a terminating scenario that does not use recursion to produce an answer.\n",
        "\n",
        "A **recursive step**: a set of rules that reduces all successive cases toward the base case.\n",
        "\n",
        "**As Seen in Nature**\n",
        "\n",
        "Recursion occurs naturally when a process applies a rule to itself successively.\n",
        "\n",
        "We see this in fractals.\n",
        "\n",
        "**Infinite Loops and Stack Overflows**\n",
        "\n",
        "Every recursive function must have a base condition that stops the recursion or else the function calls itself infinitely.\n",
        "\n",
        "The Python interpreter limits the depths of recursion to help avoid infinite recursions, resulting in stack overflows.\n",
        "\n",
        "The **call stack** is where information is stored relating to the active subroutines in a program.\n",
        "\n",
        "The call stack has a limited amount of available memory. When excessive memory consumption occurs on the call stack,\n",
        "it results in a **stack overflow error**.\n",
        "\n",
        "**A Note of Caution**\n",
        "\n",
        "So, recursion is cool, but is expensive and complicated.\n",
        "\n",
        "Recursive functions can usually be implemented by traditional loops."
      ]
    },
    {
      "cell_type": "markdown",
      "metadata": {
        "id": "kOke_qyn4KvC"
      },
      "source": [
        "## Example\n",
        "\n",
        "Factorial of a number *n* is the product of all the integers from 1 to *n*.  \n",
        "\n",
        "$n = n \\times (n - 1 ) \\times (n - 2) \\times ... \\times 1 $\n",
        "\n",
        "For example, the factorial of 4 (denoted as 4!) is 1 x 2 x 3 x 4 x 5 = 120.\n",
        "\n"
      ]
    },
    {
      "cell_type": "markdown",
      "metadata": {
        "id": "TSsy3Pyx4KvD"
      },
      "source": [
        "**Factorial - Iterative Approach**\n"
      ]
    },
    {
      "cell_type": "code",
      "execution_count": null,
      "metadata": {
        "id": "8mEdE-HO4KvD"
      },
      "outputs": [],
      "source": [
        "def fact_iter(n) :\n",
        "    result = 1\n",
        "    # looping over numbers from 1 to n\n",
        "    for num in range (1, n + 1) :\n",
        "        result = num * result\n",
        "\n",
        "    return result"
      ]
    },
    {
      "cell_type": "markdown",
      "metadata": {
        "id": "NlH8_Op-4KvE"
      },
      "source": [
        "$n = 4 $\n",
        "\n",
        "`result` = 1\n",
        "\n",
        "1. `result` = 1 * `result`(1) = 1\n",
        "2. `result` = 2 * `result`(1) = 1\n",
        "3. `result` = 3 * `result`(2) = 6\n",
        "4. `result` = 4 * `result`(3) = 24  \n",
        "\n",
        "$4! = 1 \\times 2 \\times 3 \\times 4 = 24 $"
      ]
    },
    {
      "cell_type": "code",
      "execution_count": null,
      "metadata": {
        "id": "cyjPFdqF4KvE",
        "outputId": "d7a35b99-2a6f-4994-f502-170f9c184bbd"
      },
      "outputs": [
        {
          "data": {
            "text/plain": [
              "24"
            ]
          },
          "execution_count": 3,
          "metadata": {},
          "output_type": "execute_result"
        }
      ],
      "source": [
        "n = 4\n",
        "\n",
        "fact_iter(n)"
      ]
    },
    {
      "cell_type": "markdown",
      "metadata": {
        "id": "EQtx3Z-Y4KvF"
      },
      "source": [
        "**Factorial - Recursive Approach**\n",
        "\n",
        "Factorials can also be written as:  \n",
        "\n",
        "$n! = n \\times (n - 1)! $"
      ]
    },
    {
      "cell_type": "code",
      "execution_count": null,
      "metadata": {
        "id": "433opgBo4KvF"
      },
      "outputs": [],
      "source": [
        "def fact_rec(n):\n",
        "    return n * fact_rec(n - 1)"
      ]
    },
    {
      "cell_type": "markdown",
      "metadata": {
        "id": "9j0pL9IC4KvG"
      },
      "source": [
        "What's wrong with the above code?"
      ]
    },
    {
      "cell_type": "code",
      "execution_count": null,
      "metadata": {
        "id": "OvBBObK64KvG"
      },
      "outputs": [],
      "source": [
        "def fact_rec(n) :\n",
        "    if n == 1 : # base case 1! = 1\n",
        "        return 1\n",
        "    return n * fact_rec(n -1)"
      ]
    },
    {
      "cell_type": "code",
      "execution_count": null,
      "metadata": {
        "id": "2lXRNbMu4KvG",
        "outputId": "54b03daa-952c-4bc8-b81a-fc1e71c3a16a"
      },
      "outputs": [
        {
          "data": {
            "text/plain": [
              "24"
            ]
          },
          "execution_count": 5,
          "metadata": {},
          "output_type": "execute_result"
        }
      ],
      "source": [
        "fact_rec(n)"
      ]
    },
    {
      "cell_type": "markdown",
      "metadata": {
        "id": "b4UhlNvR4KvH"
      },
      "source": [
        "### A Famous Example of Recursion: The Fibonacci sequence\n",
        "\n",
        "https://en.wikipedia.org/wiki/Fibonacci\n",
        "\n",
        "Fib(0) = 0 (base case 1)\n",
        "\n",
        "Fib(1) = 1 (base case 2)\n",
        "\n",
        "For all integers n > 1, Fib(n) = Fib(n − 1) + Fib(n − 2)"
      ]
    },
    {
      "cell_type": "markdown",
      "metadata": {
        "id": "CRIWchNk4KvH"
      },
      "source": [
        "### TRY FOR YOURSELF (UNGRADED EXERCISES)\n",
        "\n",
        "1) Use this recursive formula to generate the next 4 terms (by hand)"
      ]
    },
    {
      "cell_type": "code",
      "execution_count": null,
      "metadata": {
        "id": "LOVq7CxQ4KvH"
      },
      "outputs": [],
      "source": [
        "#Fib(2) = #write formula by hand\n",
        "#Fib(3) =\n",
        "#Fib(4) =\n",
        "#Fib(5) ="
      ]
    },
    {
      "cell_type": "markdown",
      "metadata": {
        "id": "KnxEV_oA4KvH"
      },
      "source": [
        "If you needed to generate the next 100 numbers in the sequence, it would be a chore!  \n",
        "This is perfect work for a computer.\n",
        "\n",
        "2) Now, write a Python function `fibonacci` to return the *nth* term in the sequence. Specifically, write the function with these requirements:\n",
        "- take an integer *n* as input\n",
        "- include the rules that define the sequence\n",
        "- compute the *nth* term in the sequence, using recursion (the function will call itself)\n",
        "- return the computed term\n",
        "\n",
        "Call `fibonacci(n)` for n=0,1,2,3,4,5 and verify it works properly."
      ]
    },
    {
      "cell_type": "code",
      "execution_count": null,
      "metadata": {
        "id": "AosVd4044KvI"
      },
      "outputs": [],
      "source": []
    },
    {
      "cell_type": "markdown",
      "metadata": {
        "id": "bdUX6n8N4KvI"
      },
      "source": [
        "Think about how this works...it's very cool!  \n",
        "\n",
        "If you call fibonacci(2),\n",
        "- flow goes to the else statement,\n",
        "- which calls fibonacci(1) and fibonacci(0),\n",
        "- so those need to get computed,  \n",
        "  - fibonacci(1) goes to the `elif`, returning 1\n",
        "  - fibonacci(0) goes to the `if`, returning 0   \n",
        "  - back in the else statement, fibonacci(1) and fibonacci(0) => 1 + 0 = 1\n",
        "  \n",
        "\n",
        " If you call fibonacci(3), a similar pattern occurs, with even more computes taking place.  \n",
        " How many times will `fibonacci` get called?"
      ]
    },
    {
      "cell_type": "markdown",
      "metadata": {
        "id": "HrumS3Pb4KvI"
      },
      "source": [
        "3) Now call `fibonacci(5.1)` and `fibonacci(-1)`.  What happens?"
      ]
    },
    {
      "cell_type": "code",
      "execution_count": null,
      "metadata": {
        "id": "X6DsaztZ4KvJ"
      },
      "outputs": [],
      "source": []
    },
    {
      "cell_type": "code",
      "execution_count": null,
      "metadata": {
        "id": "2Q0XIajv4KvJ"
      },
      "outputs": [],
      "source": []
    },
    {
      "cell_type": "markdown",
      "metadata": {
        "id": "cR8evSlG4KvJ"
      },
      "source": [
        "If it worked properly, excellent!  \n",
        "\n",
        "If not, you might want to rewrite your function below to handle such edge cases.  \n",
        "\n",
        "Specifically, have the function return the value -1 for invalid *n*.\n",
        "\n",
        "Reminder: the sequence is defined for whole numbers (0, 1, 2, ...)  \n",
        "\n",
        "Call the function again, and verify the cases work properly."
      ]
    },
    {
      "cell_type": "code",
      "execution_count": null,
      "metadata": {
        "id": "Ywph_hdA4KvK"
      },
      "outputs": [],
      "source": []
    },
    {
      "cell_type": "markdown",
      "metadata": {
        "id": "zUmm9JTh4KvK"
      },
      "source": [
        "### Infinite Loops and Stack Overflows\n",
        "\n",
        "When we called `print(fibonacci(-1))` we saw this error:\n",
        "\n",
        "```\n",
        "---------------------------------------------------------------------------\n",
        "RecursionError                            Traceback (most recent call last)\n",
        "<ipython-input-24-92fee346cebb> in <module>\n",
        "...\n",
        "\n",
        "RecursionError: maximum recursion depth exceeded in comparison\n",
        "---------------------------------------------------------------------------\n",
        "\n",
        "```"
      ]
    },
    {
      "cell_type": "markdown",
      "metadata": {
        "id": "nONdgDeE4KvK"
      },
      "source": [
        "The issue: Every recursive function must have a base condition that stops the recursion or else the function calls itself infinitely.\n",
        "\n",
        "There is NO BASE CONDITION when we pass -1.\n",
        "\n",
        "NOTE: The Python interpreter limits the depths of recursion to help avoid infinite recursions, resulting in stack overflows."
      ]
    },
    {
      "cell_type": "markdown",
      "metadata": {
        "id": "nG1tXYLx4KvL"
      },
      "source": [
        "### Reminder: Definitions\n",
        "\n",
        "The *call stack* is where information is stored relating to the active subroutines in a program.\n",
        "\n",
        "The call stack has a limited amount of available memory. When excessive memory consumption occurs on the call stack,\n",
        "it results in a **stack overflow error**."
      ]
    },
    {
      "cell_type": "markdown",
      "metadata": {
        "id": "UUIzSDIw4KvL"
      },
      "source": [
        "---"
      ]
    }
  ],
  "metadata": {
    "anaconda-cloud": {},
    "kernelspec": {
      "display_name": "Python 3 (ipykernel)",
      "language": "python",
      "name": "python3"
    },
    "language_info": {
      "codemirror_mode": {
        "name": "ipython",
        "version": 3
      },
      "file_extension": ".py",
      "mimetype": "text/x-python",
      "name": "python",
      "nbconvert_exporter": "python",
      "pygments_lexer": "ipython3",
      "version": "3.9.16"
    },
    "vscode": {
      "interpreter": {
        "hash": "31f2aee4e71d21fbe5cf8b01ff0e069b9275f58929596ceb00d14d90e3e16cd6"
      }
    },
    "colab": {
      "provenance": [],
      "include_colab_link": true
    }
  },
  "nbformat": 4,
  "nbformat_minor": 0
}