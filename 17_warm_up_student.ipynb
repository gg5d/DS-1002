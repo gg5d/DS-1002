{
  "cells": [
    {
      "cell_type": "markdown",
      "metadata": {
        "id": "view-in-github",
        "colab_type": "text"
      },
      "source": [
        "<a href=\"https://colab.research.google.com/github/gg5d/DS-1002/blob/main/17_warm_up_student.ipynb\" target=\"_parent\"><img src=\"https://colab.research.google.com/assets/colab-badge.svg\" alt=\"Open In Colab\"/></a>"
      ]
    },
    {
      "cell_type": "markdown",
      "metadata": {
        "id": "lf5pcE-FsB9b"
      },
      "source": [
        "# DS 1002: Programming for Data Science\n",
        "\n",
        "## Iterators & Iterables Lab"
      ]
    },
    {
      "cell_type": "code",
      "execution_count": null,
      "metadata": {
        "id": "aD7nISk7sB9d"
      },
      "outputs": [],
      "source": [
        "# Dictionary for #1\n",
        "capitals = {\"USA\" : \"Washington D.C.\", \"France\" : \"Paris\", \"India\" : \"New Delhi\", \"China\" : \"Beijing\", \"Egypt\" : \"Cairo\", \"Germany\" : \"Berlin\"}"
      ]
    },
    {
      "cell_type": "markdown",
      "metadata": {
        "id": "AorhM1CasB9f"
      },
      "source": [
        "**Exercise #1**  \n",
        "\n",
        "Using the `capitals` dictionary, write a `for` loop that prints off each key value pair.  \n",
        "\n",
        "Example of how you output should be structured:\n",
        "\n",
        "01   \n",
        "Country: USA  \n",
        "Capital: Washington D.C  \n",
        "`----`  \n",
        "02   \n",
        "Country: France  \n",
        "Capital: Paris  \n",
        "`----`  \n",
        "etc...."
      ]
    },
    {
      "cell_type": "code",
      "execution_count": null,
      "metadata": {
        "id": "3uhUdogVsB9f"
      },
      "outputs": [],
      "source": []
    },
    {
      "cell_type": "markdown",
      "metadata": {
        "tags": [],
        "id": "G__VKiNlsB9f"
      },
      "source": [
        "**Exercise #2**  \n",
        "\n",
        "Write a `for` loop runs while a number is less than or equal to 25, checks if the number is even, and prints a string noting the outcome.\n",
        "\n",
        "Example of output:\n",
        "\n",
        "The number 5 is odd\n",
        "\n"
      ]
    },
    {
      "cell_type": "markdown",
      "metadata": {
        "id": "ug9UW7kIsB9g"
      },
      "source": [
        "**Exercise #3**  \n",
        "Create this output using a nested `for` loop  \n",
        "\n",
        "`-----------------------------------`  \n",
        "I am outer loop iteration 0  \n",
        "`************************************`  \n",
        "I am inner loop iteration 0  \n",
        "`************************************`  \n",
        "I am inner loop iteration 1  \n",
        "`************************************`  \n",
        "I am inner loop iteration 2  \n",
        "`************************************`  \n",
        "I am inner loop iteration 3  \n",
        "`************************************`  \n",
        "I am inner loop iteration 4  \n",
        "`-----------------------------------`  \n",
        "I am outer loop iteration 1    \n",
        "`************************************`  \n",
        "I am inner loop iteration 0   \n",
        "`************************************`   \n",
        "I am inner loop iteration 1   \n",
        "`************************************`  \n",
        "I am inner loop iteration 2      \n",
        "`************************************`  \n",
        "I am inner loop iteration 3    \n",
        "`************************************`  \n",
        "I am inner loop iteration 4    \n",
        "`-----------------------------------`  \n",
        "I am outer loop iteration 2  \n",
        "`************************************`  \n",
        "I am inner loop iteration 0    \n",
        "`************************************`    \n",
        "I am inner loop iteration 1  \n",
        "`************************************`  \n",
        "I am inner loop iteration 2  \n",
        "`************************************`  \n",
        "I am inner loop iteration 3  \n",
        "`************************************`  \n",
        "I am inner loop iteration 4"
      ]
    },
    {
      "cell_type": "code",
      "execution_count": null,
      "metadata": {
        "id": "9iM6QxR8sB9g"
      },
      "outputs": [],
      "source": []
    },
    {
      "cell_type": "markdown",
      "metadata": {
        "id": "DRXa8KKbsB9g"
      },
      "source": [
        "**Exercise 4**\n",
        "\n",
        "Using the range of numbers from 0 to 9 as your iterable, write a list comprehension that produces a list of numbers consisting of the squared values from the iterable."
      ]
    },
    {
      "cell_type": "code",
      "execution_count": null,
      "metadata": {
        "id": "YBwzXuNDsB9h"
      },
      "outputs": [],
      "source": []
    },
    {
      "cell_type": "markdown",
      "metadata": {
        "id": "VDjGHD3fsB9h"
      },
      "source": [
        "**Exercise 5**  \n",
        "\n",
        "Create a 5x5 matrix with value 0 - 4 using a nested list comprehension\n",
        "\n",
        "[[output expression] for iterator variable in iterable]\n",
        "\n",
        "** the output expression is itself a list comprehension **\n",
        "\n",
        "* in the ouput expression recreate your columns\n",
        "* in the outer list comprehension create your rows"
      ]
    },
    {
      "cell_type": "code",
      "execution_count": null,
      "metadata": {
        "id": "KGYeGiCKsB9h"
      },
      "outputs": [],
      "source": []
    }
  ],
  "metadata": {
    "kernelspec": {
      "display_name": "Python 3 (ipykernel)",
      "language": "python",
      "name": "python3"
    },
    "language_info": {
      "codemirror_mode": {
        "name": "ipython",
        "version": 3
      },
      "file_extension": ".py",
      "mimetype": "text/x-python",
      "name": "python",
      "nbconvert_exporter": "python",
      "pygments_lexer": "ipython3",
      "version": "3.9.16"
    },
    "vscode": {
      "interpreter": {
        "hash": "256476f871f41dd9f410a4535ba940f788da543573a25285757e797fedf9c871"
      }
    },
    "colab": {
      "provenance": [],
      "include_colab_link": true
    }
  },
  "nbformat": 4,
  "nbformat_minor": 0
}