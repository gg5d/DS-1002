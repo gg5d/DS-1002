{
  "cells": [
    {
      "cell_type": "markdown",
      "metadata": {
        "id": "view-in-github",
        "colab_type": "text"
      },
      "source": [
        "<a href=\"https://colab.research.google.com/github/gg5d/DS-1002/blob/main/pandas3_student_F23.ipynb\" target=\"_parent\"><img src=\"https://colab.research.google.com/assets/colab-badge.svg\" alt=\"Open In Colab\"/></a>"
      ]
    },
    {
      "cell_type": "markdown",
      "metadata": {
        "id": "hDLg1v4eWDTh"
      },
      "source": [
        "## Pandas III\n",
        "\n",
        "\n",
        "### University of Virginia\n",
        "### DS 1002: Programming for Data Science\n",
        "---  \n",
        "\n",
        "\n",
        "### PREREQUISITES\n",
        "- variables\n",
        "- data types\n",
        "- operators\n",
        "- list comprehensions (not essential)\n",
        "- numpy arrays (not essential)\n",
        "- pandas DataFrames I\n",
        "\n",
        "\n",
        "### SOURCES\n",
        "- ten minutes to pandas  \n",
        "https://pandas.pydata.org/pandas-docs/stable/user_guide/10min.html\n",
        "\n",
        "\n",
        "- pivot_table()  \n",
        "https://pandas.pydata.org/pandas-docs/stable/reference/api/pandas.pivot_table.html\n",
        "\n",
        "\n",
        "- concat()  \n",
        "https://pandas.pydata.org/pandas-docs/stable/reference/api/pandas.concat.html\n",
        "\n",
        "\n",
        "- merge()  \n",
        "https://pandas.pydata.org/pandas-docs/stable/reference/api/pandas.DataFrame.merge.html\n",
        "\n",
        "\n",
        "- get_dummies()  \n",
        "https://pandas.pydata.org/pandas-docs/stable/reference/api/pandas.get_dummies.html\n",
        "\n",
        "\n",
        "\n",
        "### OBJECTIVES\n",
        "- Introduce more advanced pandas dataframe operations for data munging\n",
        "\n",
        "\n",
        "\n",
        "### CONCEPTS\n",
        "\n",
        "- DataFrame\n",
        "- apply()\n",
        "- aggregation using split-apply-combine\n",
        "- pivot_table()\n",
        "- groupby()\n",
        "- concat()\n",
        "- merging/joining dataframes with merge(), concat()\n",
        "- reshaping data\n",
        "- dummy coding categorical data\n",
        "\n",
        "\n",
        "---\n",
        "\n",
        "## Additional Pandas DataFrame Functionality\n",
        "\n",
        "Pandas DataFrames I covered creating, modifying, and subsetting DataFrames, among other topics.  \n",
        "These notes will demonstrate further methods for data munging and analysis."
      ]
    },
    {
      "cell_type": "code",
      "execution_count": null,
      "metadata": {
        "tags": [],
        "id": "GR8zrEskWDTj"
      },
      "outputs": [],
      "source": [
        "import numpy as np\n",
        "import pandas as pd"
      ]
    },
    {
      "cell_type": "markdown",
      "metadata": {
        "id": "qjx6o3O2WDTk"
      },
      "source": [
        "#### Load Iris"
      ]
    },
    {
      "cell_type": "code",
      "execution_count": null,
      "metadata": {
        "tags": [],
        "id": "cGJ9eP7NWDTk"
      },
      "outputs": [],
      "source": [
        "import seaborn as sns\n",
        "\n",
        "iris = sns.load_dataset('iris')"
      ]
    },
    {
      "cell_type": "code",
      "execution_count": null,
      "metadata": {
        "tags": [],
        "id": "u2SjeU7QWDTl",
        "outputId": "f416f4b4-4bb8-4cdb-f560-43201ede2854"
      },
      "outputs": [
        {
          "data": {
            "text/html": [
              "<div>\n",
              "<style scoped>\n",
              "    .dataframe tbody tr th:only-of-type {\n",
              "        vertical-align: middle;\n",
              "    }\n",
              "\n",
              "    .dataframe tbody tr th {\n",
              "        vertical-align: top;\n",
              "    }\n",
              "\n",
              "    .dataframe thead th {\n",
              "        text-align: right;\n",
              "    }\n",
              "</style>\n",
              "<table border=\"1\" class=\"dataframe\">\n",
              "  <thead>\n",
              "    <tr style=\"text-align: right;\">\n",
              "      <th></th>\n",
              "      <th>sepal_length</th>\n",
              "      <th>sepal_width</th>\n",
              "      <th>petal_length</th>\n",
              "      <th>petal_width</th>\n",
              "      <th>species</th>\n",
              "    </tr>\n",
              "  </thead>\n",
              "  <tbody>\n",
              "    <tr>\n",
              "      <th>0</th>\n",
              "      <td>5.1</td>\n",
              "      <td>3.5</td>\n",
              "      <td>1.4</td>\n",
              "      <td>0.2</td>\n",
              "      <td>setosa</td>\n",
              "    </tr>\n",
              "    <tr>\n",
              "      <th>1</th>\n",
              "      <td>4.9</td>\n",
              "      <td>3.0</td>\n",
              "      <td>1.4</td>\n",
              "      <td>0.2</td>\n",
              "      <td>setosa</td>\n",
              "    </tr>\n",
              "    <tr>\n",
              "      <th>2</th>\n",
              "      <td>4.7</td>\n",
              "      <td>3.2</td>\n",
              "      <td>1.3</td>\n",
              "      <td>0.2</td>\n",
              "      <td>setosa</td>\n",
              "    </tr>\n",
              "    <tr>\n",
              "      <th>3</th>\n",
              "      <td>4.6</td>\n",
              "      <td>3.1</td>\n",
              "      <td>1.5</td>\n",
              "      <td>0.2</td>\n",
              "      <td>setosa</td>\n",
              "    </tr>\n",
              "    <tr>\n",
              "      <th>4</th>\n",
              "      <td>5.0</td>\n",
              "      <td>3.6</td>\n",
              "      <td>1.4</td>\n",
              "      <td>0.2</td>\n",
              "      <td>setosa</td>\n",
              "    </tr>\n",
              "  </tbody>\n",
              "</table>\n",
              "</div>"
            ],
            "text/plain": [
              "   sepal_length  sepal_width  petal_length  petal_width species\n",
              "0           5.1          3.5           1.4          0.2  setosa\n",
              "1           4.9          3.0           1.4          0.2  setosa\n",
              "2           4.7          3.2           1.3          0.2  setosa\n",
              "3           4.6          3.1           1.5          0.2  setosa\n",
              "4           5.0          3.6           1.4          0.2  setosa"
            ]
          },
          "execution_count": 3,
          "metadata": {},
          "output_type": "execute_result"
        }
      ],
      "source": [
        "iris.head(5)"
      ]
    },
    {
      "cell_type": "markdown",
      "metadata": {
        "id": "YAJ65cF1WDTl"
      },
      "source": [
        "## Apply Lambda Functions with `.apply()`\n",
        "\n",
        "Apply a transformation to each record. Uses a `lambda` function."
      ]
    },
    {
      "cell_type": "code",
      "execution_count": null,
      "metadata": {
        "tags": [],
        "id": "kqQofvQMWDTm",
        "outputId": "85ea139c-bc29-4c85-fabc-cb25606b6354"
      },
      "outputs": [
        {
          "data": {
            "text/html": [
              "<div>\n",
              "<style scoped>\n",
              "    .dataframe tbody tr th:only-of-type {\n",
              "        vertical-align: middle;\n",
              "    }\n",
              "\n",
              "    .dataframe tbody tr th {\n",
              "        vertical-align: top;\n",
              "    }\n",
              "\n",
              "    .dataframe thead th {\n",
              "        text-align: right;\n",
              "    }\n",
              "</style>\n",
              "<table border=\"1\" class=\"dataframe\">\n",
              "  <thead>\n",
              "    <tr style=\"text-align: right;\">\n",
              "      <th></th>\n",
              "      <th>sepal_length</th>\n",
              "      <th>sepal_width</th>\n",
              "      <th>petal_length</th>\n",
              "      <th>petal_width</th>\n",
              "      <th>species</th>\n",
              "      <th>sepal_len_sq</th>\n",
              "    </tr>\n",
              "  </thead>\n",
              "  <tbody>\n",
              "    <tr>\n",
              "      <th>0</th>\n",
              "      <td>5.1</td>\n",
              "      <td>3.5</td>\n",
              "      <td>1.4</td>\n",
              "      <td>0.2</td>\n",
              "      <td>setosa</td>\n",
              "      <td>26.01</td>\n",
              "    </tr>\n",
              "    <tr>\n",
              "      <th>1</th>\n",
              "      <td>4.9</td>\n",
              "      <td>3.0</td>\n",
              "      <td>1.4</td>\n",
              "      <td>0.2</td>\n",
              "      <td>setosa</td>\n",
              "      <td>24.01</td>\n",
              "    </tr>\n",
              "    <tr>\n",
              "      <th>2</th>\n",
              "      <td>4.7</td>\n",
              "      <td>3.2</td>\n",
              "      <td>1.3</td>\n",
              "      <td>0.2</td>\n",
              "      <td>setosa</td>\n",
              "      <td>22.09</td>\n",
              "    </tr>\n",
              "    <tr>\n",
              "      <th>3</th>\n",
              "      <td>4.6</td>\n",
              "      <td>3.1</td>\n",
              "      <td>1.5</td>\n",
              "      <td>0.2</td>\n",
              "      <td>setosa</td>\n",
              "      <td>21.16</td>\n",
              "    </tr>\n",
              "    <tr>\n",
              "      <th>4</th>\n",
              "      <td>5.0</td>\n",
              "      <td>3.6</td>\n",
              "      <td>1.4</td>\n",
              "      <td>0.2</td>\n",
              "      <td>setosa</td>\n",
              "      <td>25.00</td>\n",
              "    </tr>\n",
              "  </tbody>\n",
              "</table>\n",
              "</div>"
            ],
            "text/plain": [
              "   sepal_length  sepal_width  petal_length  petal_width species  sepal_len_sq\n",
              "0           5.1          3.5           1.4          0.2  setosa         26.01\n",
              "1           4.9          3.0           1.4          0.2  setosa         24.01\n",
              "2           4.7          3.2           1.3          0.2  setosa         22.09\n",
              "3           4.6          3.1           1.5          0.2  setosa         21.16\n",
              "4           5.0          3.6           1.4          0.2  setosa         25.00"
            ]
          },
          "execution_count": 4,
          "metadata": {},
          "output_type": "execute_result"
        }
      ],
      "source": []
    },
    {
      "cell_type": "markdown",
      "metadata": {
        "id": "mrVuqZxrWDTm"
      },
      "source": [
        "Transformation involving multiple columns. Uses `axis=1` to access columns.  \n",
        "Compute average of `sepal_length`, `sepal_width`:"
      ]
    },
    {
      "cell_type": "code",
      "execution_count": null,
      "metadata": {
        "tags": [],
        "id": "p6yY0fD8WDTm",
        "outputId": "0404d682-a85a-4b1c-b970-9c0a92e33134"
      },
      "outputs": [
        {
          "data": {
            "text/html": [
              "<div>\n",
              "<style scoped>\n",
              "    .dataframe tbody tr th:only-of-type {\n",
              "        vertical-align: middle;\n",
              "    }\n",
              "\n",
              "    .dataframe tbody tr th {\n",
              "        vertical-align: top;\n",
              "    }\n",
              "\n",
              "    .dataframe thead th {\n",
              "        text-align: right;\n",
              "    }\n",
              "</style>\n",
              "<table border=\"1\" class=\"dataframe\">\n",
              "  <thead>\n",
              "    <tr style=\"text-align: right;\">\n",
              "      <th></th>\n",
              "      <th>sepal_length</th>\n",
              "      <th>sepal_width</th>\n",
              "      <th>petal_length</th>\n",
              "      <th>petal_width</th>\n",
              "      <th>species</th>\n",
              "      <th>sepal_len_sq</th>\n",
              "      <th>sepal_len_wid_avg</th>\n",
              "    </tr>\n",
              "  </thead>\n",
              "  <tbody>\n",
              "    <tr>\n",
              "      <th>0</th>\n",
              "      <td>5.1</td>\n",
              "      <td>3.5</td>\n",
              "      <td>1.4</td>\n",
              "      <td>0.2</td>\n",
              "      <td>setosa</td>\n",
              "      <td>26.01</td>\n",
              "      <td>4.30</td>\n",
              "    </tr>\n",
              "    <tr>\n",
              "      <th>1</th>\n",
              "      <td>4.9</td>\n",
              "      <td>3.0</td>\n",
              "      <td>1.4</td>\n",
              "      <td>0.2</td>\n",
              "      <td>setosa</td>\n",
              "      <td>24.01</td>\n",
              "      <td>3.95</td>\n",
              "    </tr>\n",
              "    <tr>\n",
              "      <th>2</th>\n",
              "      <td>4.7</td>\n",
              "      <td>3.2</td>\n",
              "      <td>1.3</td>\n",
              "      <td>0.2</td>\n",
              "      <td>setosa</td>\n",
              "      <td>22.09</td>\n",
              "      <td>3.95</td>\n",
              "    </tr>\n",
              "    <tr>\n",
              "      <th>3</th>\n",
              "      <td>4.6</td>\n",
              "      <td>3.1</td>\n",
              "      <td>1.5</td>\n",
              "      <td>0.2</td>\n",
              "      <td>setosa</td>\n",
              "      <td>21.16</td>\n",
              "      <td>3.85</td>\n",
              "    </tr>\n",
              "    <tr>\n",
              "      <th>4</th>\n",
              "      <td>5.0</td>\n",
              "      <td>3.6</td>\n",
              "      <td>1.4</td>\n",
              "      <td>0.2</td>\n",
              "      <td>setosa</td>\n",
              "      <td>25.00</td>\n",
              "      <td>4.30</td>\n",
              "    </tr>\n",
              "  </tbody>\n",
              "</table>\n",
              "</div>"
            ],
            "text/plain": [
              "   sepal_length  sepal_width  petal_length  petal_width species  sepal_len_sq  \\\n",
              "0           5.1          3.5           1.4          0.2  setosa         26.01   \n",
              "1           4.9          3.0           1.4          0.2  setosa         24.01   \n",
              "2           4.7          3.2           1.3          0.2  setosa         22.09   \n",
              "3           4.6          3.1           1.5          0.2  setosa         21.16   \n",
              "4           5.0          3.6           1.4          0.2  setosa         25.00   \n",
              "\n",
              "   sepal_len_wid_avg  \n",
              "0               4.30  \n",
              "1               3.95  \n",
              "2               3.95  \n",
              "3               3.85  \n",
              "4               4.30  "
            ]
          },
          "execution_count": 5,
          "metadata": {},
          "output_type": "execute_result"
        }
      ],
      "source": []
    },
    {
      "cell_type": "markdown",
      "metadata": {
        "id": "_S8q2nX-WDTn"
      },
      "source": [
        "### TRY FOR YOURSELF (UNGRADED EXERCISES)"
      ]
    },
    {
      "cell_type": "markdown",
      "metadata": {
        "id": "pzPpW859WDTn"
      },
      "source": [
        "1) Use `apply()` to append a new column that is the minimum of (petal_length, petal_width)\n",
        "\n",
        "Print the head, tail of the new dataframe to check things look correct."
      ]
    },
    {
      "cell_type": "code",
      "execution_count": null,
      "metadata": {
        "id": "jOHtjdbSWDTo"
      },
      "outputs": [],
      "source": []
    },
    {
      "cell_type": "code",
      "execution_count": null,
      "metadata": {
        "tags": [],
        "id": "i4XiBZewWDTo",
        "outputId": "93dddd00-b11d-46be-83e2-72d84aeb86ad"
      },
      "outputs": [
        {
          "data": {
            "text/html": [
              "<div>\n",
              "<style scoped>\n",
              "    .dataframe tbody tr th:only-of-type {\n",
              "        vertical-align: middle;\n",
              "    }\n",
              "\n",
              "    .dataframe tbody tr th {\n",
              "        vertical-align: top;\n",
              "    }\n",
              "\n",
              "    .dataframe thead th {\n",
              "        text-align: right;\n",
              "    }\n",
              "</style>\n",
              "<table border=\"1\" class=\"dataframe\">\n",
              "  <thead>\n",
              "    <tr style=\"text-align: right;\">\n",
              "      <th></th>\n",
              "      <th>sepal_length</th>\n",
              "      <th>sepal_width</th>\n",
              "      <th>petal_length</th>\n",
              "      <th>petal_width</th>\n",
              "      <th>species</th>\n",
              "      <th>sepal_len_sq</th>\n",
              "      <th>sepal_len_wid_avg</th>\n",
              "      <th>min_petal</th>\n",
              "    </tr>\n",
              "  </thead>\n",
              "  <tbody>\n",
              "    <tr>\n",
              "      <th>0</th>\n",
              "      <td>5.1</td>\n",
              "      <td>3.5</td>\n",
              "      <td>1.4</td>\n",
              "      <td>0.2</td>\n",
              "      <td>setosa</td>\n",
              "      <td>26.01</td>\n",
              "      <td>4.30</td>\n",
              "      <td>0.2</td>\n",
              "    </tr>\n",
              "    <tr>\n",
              "      <th>1</th>\n",
              "      <td>4.9</td>\n",
              "      <td>3.0</td>\n",
              "      <td>1.4</td>\n",
              "      <td>0.2</td>\n",
              "      <td>setosa</td>\n",
              "      <td>24.01</td>\n",
              "      <td>3.95</td>\n",
              "      <td>0.2</td>\n",
              "    </tr>\n",
              "    <tr>\n",
              "      <th>2</th>\n",
              "      <td>4.7</td>\n",
              "      <td>3.2</td>\n",
              "      <td>1.3</td>\n",
              "      <td>0.2</td>\n",
              "      <td>setosa</td>\n",
              "      <td>22.09</td>\n",
              "      <td>3.95</td>\n",
              "      <td>0.2</td>\n",
              "    </tr>\n",
              "    <tr>\n",
              "      <th>3</th>\n",
              "      <td>4.6</td>\n",
              "      <td>3.1</td>\n",
              "      <td>1.5</td>\n",
              "      <td>0.2</td>\n",
              "      <td>setosa</td>\n",
              "      <td>21.16</td>\n",
              "      <td>3.85</td>\n",
              "      <td>0.2</td>\n",
              "    </tr>\n",
              "    <tr>\n",
              "      <th>4</th>\n",
              "      <td>5.0</td>\n",
              "      <td>3.6</td>\n",
              "      <td>1.4</td>\n",
              "      <td>0.2</td>\n",
              "      <td>setosa</td>\n",
              "      <td>25.00</td>\n",
              "      <td>4.30</td>\n",
              "      <td>0.2</td>\n",
              "    </tr>\n",
              "  </tbody>\n",
              "</table>\n",
              "</div>"
            ],
            "text/plain": [
              "   sepal_length  sepal_width  petal_length  petal_width species  sepal_len_sq  \\\n",
              "0           5.1          3.5           1.4          0.2  setosa         26.01   \n",
              "1           4.9          3.0           1.4          0.2  setosa         24.01   \n",
              "2           4.7          3.2           1.3          0.2  setosa         22.09   \n",
              "3           4.6          3.1           1.5          0.2  setosa         21.16   \n",
              "4           5.0          3.6           1.4          0.2  setosa         25.00   \n",
              "\n",
              "   sepal_len_wid_avg  min_petal  \n",
              "0               4.30        0.2  \n",
              "1               3.95        0.2  \n",
              "2               3.95        0.2  \n",
              "3               3.85        0.2  \n",
              "4               4.30        0.2  "
            ]
          },
          "execution_count": 9,
          "metadata": {},
          "output_type": "execute_result"
        }
      ],
      "source": [
        "iris.head()"
      ]
    },
    {
      "cell_type": "code",
      "execution_count": null,
      "metadata": {
        "tags": [],
        "id": "Co6Eb-HBWDTo",
        "outputId": "c6b5fed2-0ce3-4885-fcdc-970185d69714"
      },
      "outputs": [
        {
          "data": {
            "text/html": [
              "<div>\n",
              "<style scoped>\n",
              "    .dataframe tbody tr th:only-of-type {\n",
              "        vertical-align: middle;\n",
              "    }\n",
              "\n",
              "    .dataframe tbody tr th {\n",
              "        vertical-align: top;\n",
              "    }\n",
              "\n",
              "    .dataframe thead th {\n",
              "        text-align: right;\n",
              "    }\n",
              "</style>\n",
              "<table border=\"1\" class=\"dataframe\">\n",
              "  <thead>\n",
              "    <tr style=\"text-align: right;\">\n",
              "      <th></th>\n",
              "      <th>sepal_length</th>\n",
              "      <th>sepal_width</th>\n",
              "      <th>petal_length</th>\n",
              "      <th>petal_width</th>\n",
              "      <th>species</th>\n",
              "      <th>sepal_len_sq</th>\n",
              "      <th>sepal_len_wid_avg</th>\n",
              "      <th>min_petal</th>\n",
              "    </tr>\n",
              "  </thead>\n",
              "  <tbody>\n",
              "    <tr>\n",
              "      <th>145</th>\n",
              "      <td>6.7</td>\n",
              "      <td>3.0</td>\n",
              "      <td>5.2</td>\n",
              "      <td>2.3</td>\n",
              "      <td>virginica</td>\n",
              "      <td>44.89</td>\n",
              "      <td>4.85</td>\n",
              "      <td>2.3</td>\n",
              "    </tr>\n",
              "    <tr>\n",
              "      <th>146</th>\n",
              "      <td>6.3</td>\n",
              "      <td>2.5</td>\n",
              "      <td>5.0</td>\n",
              "      <td>1.9</td>\n",
              "      <td>virginica</td>\n",
              "      <td>39.69</td>\n",
              "      <td>4.40</td>\n",
              "      <td>1.9</td>\n",
              "    </tr>\n",
              "    <tr>\n",
              "      <th>147</th>\n",
              "      <td>6.5</td>\n",
              "      <td>3.0</td>\n",
              "      <td>5.2</td>\n",
              "      <td>2.0</td>\n",
              "      <td>virginica</td>\n",
              "      <td>42.25</td>\n",
              "      <td>4.75</td>\n",
              "      <td>2.0</td>\n",
              "    </tr>\n",
              "    <tr>\n",
              "      <th>148</th>\n",
              "      <td>6.2</td>\n",
              "      <td>3.4</td>\n",
              "      <td>5.4</td>\n",
              "      <td>2.3</td>\n",
              "      <td>virginica</td>\n",
              "      <td>38.44</td>\n",
              "      <td>4.80</td>\n",
              "      <td>2.3</td>\n",
              "    </tr>\n",
              "    <tr>\n",
              "      <th>149</th>\n",
              "      <td>5.9</td>\n",
              "      <td>3.0</td>\n",
              "      <td>5.1</td>\n",
              "      <td>1.8</td>\n",
              "      <td>virginica</td>\n",
              "      <td>34.81</td>\n",
              "      <td>4.45</td>\n",
              "      <td>1.8</td>\n",
              "    </tr>\n",
              "  </tbody>\n",
              "</table>\n",
              "</div>"
            ],
            "text/plain": [
              "     sepal_length  sepal_width  petal_length  petal_width    species  \\\n",
              "145           6.7          3.0           5.2          2.3  virginica   \n",
              "146           6.3          2.5           5.0          1.9  virginica   \n",
              "147           6.5          3.0           5.2          2.0  virginica   \n",
              "148           6.2          3.4           5.4          2.3  virginica   \n",
              "149           5.9          3.0           5.1          1.8  virginica   \n",
              "\n",
              "     sepal_len_sq  sepal_len_wid_avg  min_petal  \n",
              "145         44.89               4.85        2.3  \n",
              "146         39.69               4.40        1.9  \n",
              "147         42.25               4.75        2.0  \n",
              "148         38.44               4.80        2.3  \n",
              "149         34.81               4.45        1.8  "
            ]
          },
          "execution_count": 10,
          "metadata": {},
          "output_type": "execute_result"
        }
      ],
      "source": [
        "iris.tail()"
      ]
    },
    {
      "cell_type": "markdown",
      "metadata": {
        "id": "OVbdicr-WDTp"
      },
      "source": [
        "## Aggregation\n",
        "\n",
        "Involves one or more of:\n",
        "\n",
        "- splitting the data into groups\n",
        "- applying a function to each group\n",
        "- combining results"
      ]
    },
    {
      "cell_type": "markdown",
      "metadata": {
        "id": "jSJFtdeWWDTp"
      },
      "source": [
        "### `.groupby()`\n",
        "\n",
        "Compute mean of each column, grouped (separately) by species"
      ]
    },
    {
      "cell_type": "code",
      "execution_count": null,
      "metadata": {
        "tags": [],
        "id": "JqPMZ3ynWDTp",
        "outputId": "35bb9352-1ec1-4075-e2a6-2fdd5e149b5c"
      },
      "outputs": [
        {
          "data": {
            "text/html": [
              "<div>\n",
              "<style scoped>\n",
              "    .dataframe tbody tr th:only-of-type {\n",
              "        vertical-align: middle;\n",
              "    }\n",
              "\n",
              "    .dataframe tbody tr th {\n",
              "        vertical-align: top;\n",
              "    }\n",
              "\n",
              "    .dataframe thead th {\n",
              "        text-align: right;\n",
              "    }\n",
              "</style>\n",
              "<table border=\"1\" class=\"dataframe\">\n",
              "  <thead>\n",
              "    <tr style=\"text-align: right;\">\n",
              "      <th></th>\n",
              "      <th>sepal_length</th>\n",
              "      <th>sepal_width</th>\n",
              "      <th>petal_length</th>\n",
              "      <th>petal_width</th>\n",
              "      <th>sepal_len_sq</th>\n",
              "      <th>sepal_len_wid_avg</th>\n",
              "      <th>min_petal</th>\n",
              "    </tr>\n",
              "    <tr>\n",
              "      <th>species</th>\n",
              "      <th></th>\n",
              "      <th></th>\n",
              "      <th></th>\n",
              "      <th></th>\n",
              "      <th></th>\n",
              "      <th></th>\n",
              "      <th></th>\n",
              "    </tr>\n",
              "  </thead>\n",
              "  <tbody>\n",
              "    <tr>\n",
              "      <th>setosa</th>\n",
              "      <td>5.006</td>\n",
              "      <td>3.428</td>\n",
              "      <td>1.462</td>\n",
              "      <td>0.246</td>\n",
              "      <td>25.1818</td>\n",
              "      <td>4.217</td>\n",
              "      <td>0.246</td>\n",
              "    </tr>\n",
              "    <tr>\n",
              "      <th>versicolor</th>\n",
              "      <td>5.936</td>\n",
              "      <td>2.770</td>\n",
              "      <td>4.260</td>\n",
              "      <td>1.326</td>\n",
              "      <td>35.4972</td>\n",
              "      <td>4.353</td>\n",
              "      <td>1.326</td>\n",
              "    </tr>\n",
              "    <tr>\n",
              "      <th>virginica</th>\n",
              "      <td>6.588</td>\n",
              "      <td>2.974</td>\n",
              "      <td>5.552</td>\n",
              "      <td>2.026</td>\n",
              "      <td>43.7980</td>\n",
              "      <td>4.781</td>\n",
              "      <td>2.026</td>\n",
              "    </tr>\n",
              "  </tbody>\n",
              "</table>\n",
              "</div>"
            ],
            "text/plain": [
              "            sepal_length  sepal_width  petal_length  petal_width  \\\n",
              "species                                                            \n",
              "setosa             5.006        3.428         1.462        0.246   \n",
              "versicolor         5.936        2.770         4.260        1.326   \n",
              "virginica          6.588        2.974         5.552        2.026   \n",
              "\n",
              "            sepal_len_sq  sepal_len_wid_avg  min_petal  \n",
              "species                                                 \n",
              "setosa           25.1818              4.217      0.246  \n",
              "versicolor       35.4972              4.353      1.326  \n",
              "virginica        43.7980              4.781      2.026  "
            ]
          },
          "execution_count": 12,
          "metadata": {},
          "output_type": "execute_result"
        }
      ],
      "source": []
    },
    {
      "cell_type": "markdown",
      "metadata": {
        "id": "2FBW8_QiWDTp"
      },
      "source": [
        "### `pd.pivot_table()`\n",
        "\n",
        "A pivot table is a table of values which are aggregations of groups of individual values of a more extensive table\n",
        "\n",
        "Apply a function `aggfunc` to selected values grouped by columns\n",
        "\n",
        "[Details](https://pandas.pydata.org/pandas-docs/stable/reference/api/pandas.pivot_table.html)"
      ]
    },
    {
      "cell_type": "markdown",
      "metadata": {
        "id": "rHlIMhqYWDTq"
      },
      "source": [
        "Compute mean sepal length for each species:"
      ]
    },
    {
      "cell_type": "code",
      "execution_count": null,
      "metadata": {
        "id": "wWRs2z9TWDTq",
        "outputId": "a44c40c8-3c39-4202-ac3e-2de4b3f2c587"
      },
      "outputs": [
        {
          "data": {
            "text/html": [
              "<div>\n",
              "<style scoped>\n",
              "    .dataframe tbody tr th:only-of-type {\n",
              "        vertical-align: middle;\n",
              "    }\n",
              "\n",
              "    .dataframe tbody tr th {\n",
              "        vertical-align: top;\n",
              "    }\n",
              "\n",
              "    .dataframe thead th {\n",
              "        text-align: right;\n",
              "    }\n",
              "</style>\n",
              "<table border=\"1\" class=\"dataframe\">\n",
              "  <thead>\n",
              "    <tr style=\"text-align: right;\">\n",
              "      <th>species</th>\n",
              "      <th>setosa</th>\n",
              "      <th>versicolor</th>\n",
              "      <th>virginica</th>\n",
              "    </tr>\n",
              "  </thead>\n",
              "  <tbody>\n",
              "    <tr>\n",
              "      <th>sepal_length</th>\n",
              "      <td>5.006</td>\n",
              "      <td>5.936</td>\n",
              "      <td>6.588</td>\n",
              "    </tr>\n",
              "  </tbody>\n",
              "</table>\n",
              "</div>"
            ],
            "text/plain": [
              "species       setosa  versicolor  virginica\n",
              "sepal_length   5.006       5.936      6.588"
            ]
          },
          "execution_count": 38,
          "metadata": {},
          "output_type": "execute_result"
        }
      ],
      "source": []
    },
    {
      "cell_type": "markdown",
      "metadata": {
        "id": "dwlT3FH0WDTq"
      },
      "source": [
        "### TRY FOR YOURSELF (UNGRADED EXERCISES)"
      ]
    },
    {
      "cell_type": "markdown",
      "metadata": {
        "id": "CgaSGV4EWDTq"
      },
      "source": [
        "2) Use a pivot table to compute the following statistics on sepal_width and petal_width grouped by species:\n",
        "\n",
        "- median  \n",
        "- mean\n",
        "\n",
        "These can be computed together in a single call to `pivot_table()`."
      ]
    },
    {
      "cell_type": "code",
      "execution_count": null,
      "metadata": {
        "id": "7NuIAv8DWDTq"
      },
      "outputs": [],
      "source": []
    },
    {
      "cell_type": "code",
      "execution_count": null,
      "metadata": {
        "tags": [],
        "id": "9KX38HpfWDTr",
        "outputId": "e0645b13-312f-4ced-a854-155b985a6a98"
      },
      "outputs": [
        {
          "data": {
            "text/html": [
              "<div>\n",
              "<style scoped>\n",
              "    .dataframe tbody tr th:only-of-type {\n",
              "        vertical-align: middle;\n",
              "    }\n",
              "\n",
              "    .dataframe tbody tr th {\n",
              "        vertical-align: top;\n",
              "    }\n",
              "\n",
              "    .dataframe thead th {\n",
              "        text-align: right;\n",
              "    }\n",
              "</style>\n",
              "<table border=\"1\" class=\"dataframe\">\n",
              "  <thead>\n",
              "    <tr style=\"text-align: right;\">\n",
              "      <th></th>\n",
              "      <th>species</th>\n",
              "      <th>setosa</th>\n",
              "      <th>versicolor</th>\n",
              "      <th>virginica</th>\n",
              "    </tr>\n",
              "  </thead>\n",
              "  <tbody>\n",
              "    <tr>\n",
              "      <th rowspan=\"2\" valign=\"top\">petal_width</th>\n",
              "      <th>mean</th>\n",
              "      <td>0.246</td>\n",
              "      <td>1.326</td>\n",
              "      <td>2.026</td>\n",
              "    </tr>\n",
              "    <tr>\n",
              "      <th>median</th>\n",
              "      <td>0.200</td>\n",
              "      <td>1.300</td>\n",
              "      <td>2.000</td>\n",
              "    </tr>\n",
              "    <tr>\n",
              "      <th rowspan=\"2\" valign=\"top\">sepal_width</th>\n",
              "      <th>mean</th>\n",
              "      <td>3.428</td>\n",
              "      <td>2.770</td>\n",
              "      <td>2.974</td>\n",
              "    </tr>\n",
              "    <tr>\n",
              "      <th>median</th>\n",
              "      <td>3.400</td>\n",
              "      <td>2.800</td>\n",
              "      <td>3.000</td>\n",
              "    </tr>\n",
              "  </tbody>\n",
              "</table>\n",
              "</div>"
            ],
            "text/plain": [
              "species             setosa  versicolor  virginica\n",
              "petal_width mean     0.246       1.326      2.026\n",
              "            median   0.200       1.300      2.000\n",
              "sepal_width mean     3.428       2.770      2.974\n",
              "            median   3.400       2.800      3.000"
            ]
          },
          "execution_count": 13,
          "metadata": {},
          "output_type": "execute_result"
        }
      ],
      "source": []
    },
    {
      "cell_type": "markdown",
      "metadata": {
        "id": "WsnSck2HWDTr"
      },
      "source": [
        "## Stacking and Unstacking\n",
        "\n",
        "Similar to pivoting, but requires -- and takes advantage of -- indexes."
      ]
    },
    {
      "cell_type": "code",
      "execution_count": null,
      "metadata": {
        "tags": [],
        "id": "_8JUm8zHWDTr"
      },
      "outputs": [],
      "source": [
        "iris_w_idx = iris.copy()\n",
        "\n",
        "# Give the original index a name\n",
        "iris_w_idx.index.name = 'obs_id'\n",
        "\n",
        "# Create a multi-index, using `species` as part of the key.\n",
        "iris_w_idx = iris_w_idx.reset_index().set_index(['species','obs_id'])"
      ]
    },
    {
      "cell_type": "code",
      "execution_count": null,
      "metadata": {
        "tags": [],
        "id": "fuH2r_UZWDTr",
        "outputId": "ec7f0c6e-d814-441b-f39e-d097fa2016dc"
      },
      "outputs": [
        {
          "data": {
            "text/html": [
              "<div>\n",
              "<style scoped>\n",
              "    .dataframe tbody tr th:only-of-type {\n",
              "        vertical-align: middle;\n",
              "    }\n",
              "\n",
              "    .dataframe tbody tr th {\n",
              "        vertical-align: top;\n",
              "    }\n",
              "\n",
              "    .dataframe thead th {\n",
              "        text-align: right;\n",
              "    }\n",
              "</style>\n",
              "<table border=\"1\" class=\"dataframe\">\n",
              "  <thead>\n",
              "    <tr style=\"text-align: right;\">\n",
              "      <th></th>\n",
              "      <th></th>\n",
              "      <th>sepal_length</th>\n",
              "      <th>sepal_width</th>\n",
              "      <th>petal_length</th>\n",
              "      <th>petal_width</th>\n",
              "      <th>sepal_len_sq</th>\n",
              "      <th>sepal_len_wid_avg</th>\n",
              "      <th>min_petal</th>\n",
              "    </tr>\n",
              "    <tr>\n",
              "      <th>species</th>\n",
              "      <th>obs_id</th>\n",
              "      <th></th>\n",
              "      <th></th>\n",
              "      <th></th>\n",
              "      <th></th>\n",
              "      <th></th>\n",
              "      <th></th>\n",
              "      <th></th>\n",
              "    </tr>\n",
              "  </thead>\n",
              "  <tbody>\n",
              "    <tr>\n",
              "      <th rowspan=\"5\" valign=\"top\">setosa</th>\n",
              "      <th>0</th>\n",
              "      <td>5.1</td>\n",
              "      <td>3.5</td>\n",
              "      <td>1.4</td>\n",
              "      <td>0.2</td>\n",
              "      <td>26.01</td>\n",
              "      <td>4.30</td>\n",
              "      <td>0.2</td>\n",
              "    </tr>\n",
              "    <tr>\n",
              "      <th>1</th>\n",
              "      <td>4.9</td>\n",
              "      <td>3.0</td>\n",
              "      <td>1.4</td>\n",
              "      <td>0.2</td>\n",
              "      <td>24.01</td>\n",
              "      <td>3.95</td>\n",
              "      <td>0.2</td>\n",
              "    </tr>\n",
              "    <tr>\n",
              "      <th>2</th>\n",
              "      <td>4.7</td>\n",
              "      <td>3.2</td>\n",
              "      <td>1.3</td>\n",
              "      <td>0.2</td>\n",
              "      <td>22.09</td>\n",
              "      <td>3.95</td>\n",
              "      <td>0.2</td>\n",
              "    </tr>\n",
              "    <tr>\n",
              "      <th>3</th>\n",
              "      <td>4.6</td>\n",
              "      <td>3.1</td>\n",
              "      <td>1.5</td>\n",
              "      <td>0.2</td>\n",
              "      <td>21.16</td>\n",
              "      <td>3.85</td>\n",
              "      <td>0.2</td>\n",
              "    </tr>\n",
              "    <tr>\n",
              "      <th>4</th>\n",
              "      <td>5.0</td>\n",
              "      <td>3.6</td>\n",
              "      <td>1.4</td>\n",
              "      <td>0.2</td>\n",
              "      <td>25.00</td>\n",
              "      <td>4.30</td>\n",
              "      <td>0.2</td>\n",
              "    </tr>\n",
              "    <tr>\n",
              "      <th>...</th>\n",
              "      <th>...</th>\n",
              "      <td>...</td>\n",
              "      <td>...</td>\n",
              "      <td>...</td>\n",
              "      <td>...</td>\n",
              "      <td>...</td>\n",
              "      <td>...</td>\n",
              "      <td>...</td>\n",
              "    </tr>\n",
              "    <tr>\n",
              "      <th rowspan=\"5\" valign=\"top\">virginica</th>\n",
              "      <th>145</th>\n",
              "      <td>6.7</td>\n",
              "      <td>3.0</td>\n",
              "      <td>5.2</td>\n",
              "      <td>2.3</td>\n",
              "      <td>44.89</td>\n",
              "      <td>4.85</td>\n",
              "      <td>2.3</td>\n",
              "    </tr>\n",
              "    <tr>\n",
              "      <th>146</th>\n",
              "      <td>6.3</td>\n",
              "      <td>2.5</td>\n",
              "      <td>5.0</td>\n",
              "      <td>1.9</td>\n",
              "      <td>39.69</td>\n",
              "      <td>4.40</td>\n",
              "      <td>1.9</td>\n",
              "    </tr>\n",
              "    <tr>\n",
              "      <th>147</th>\n",
              "      <td>6.5</td>\n",
              "      <td>3.0</td>\n",
              "      <td>5.2</td>\n",
              "      <td>2.0</td>\n",
              "      <td>42.25</td>\n",
              "      <td>4.75</td>\n",
              "      <td>2.0</td>\n",
              "    </tr>\n",
              "    <tr>\n",
              "      <th>148</th>\n",
              "      <td>6.2</td>\n",
              "      <td>3.4</td>\n",
              "      <td>5.4</td>\n",
              "      <td>2.3</td>\n",
              "      <td>38.44</td>\n",
              "      <td>4.80</td>\n",
              "      <td>2.3</td>\n",
              "    </tr>\n",
              "    <tr>\n",
              "      <th>149</th>\n",
              "      <td>5.9</td>\n",
              "      <td>3.0</td>\n",
              "      <td>5.1</td>\n",
              "      <td>1.8</td>\n",
              "      <td>34.81</td>\n",
              "      <td>4.45</td>\n",
              "      <td>1.8</td>\n",
              "    </tr>\n",
              "  </tbody>\n",
              "</table>\n",
              "<p>150 rows × 7 columns</p>\n",
              "</div>"
            ],
            "text/plain": [
              "                  sepal_length  sepal_width  petal_length  petal_width  \\\n",
              "species   obs_id                                                         \n",
              "setosa    0                5.1          3.5           1.4          0.2   \n",
              "          1                4.9          3.0           1.4          0.2   \n",
              "          2                4.7          3.2           1.3          0.2   \n",
              "          3                4.6          3.1           1.5          0.2   \n",
              "          4                5.0          3.6           1.4          0.2   \n",
              "...                        ...          ...           ...          ...   \n",
              "virginica 145              6.7          3.0           5.2          2.3   \n",
              "          146              6.3          2.5           5.0          1.9   \n",
              "          147              6.5          3.0           5.2          2.0   \n",
              "          148              6.2          3.4           5.4          2.3   \n",
              "          149              5.9          3.0           5.1          1.8   \n",
              "\n",
              "                  sepal_len_sq  sepal_len_wid_avg  min_petal  \n",
              "species   obs_id                                              \n",
              "setosa    0              26.01               4.30        0.2  \n",
              "          1              24.01               3.95        0.2  \n",
              "          2              22.09               3.95        0.2  \n",
              "          3              21.16               3.85        0.2  \n",
              "          4              25.00               4.30        0.2  \n",
              "...                        ...                ...        ...  \n",
              "virginica 145            44.89               4.85        2.3  \n",
              "          146            39.69               4.40        1.9  \n",
              "          147            42.25               4.75        2.0  \n",
              "          148            38.44               4.80        2.3  \n",
              "          149            34.81               4.45        1.8  \n",
              "\n",
              "[150 rows x 7 columns]"
            ]
          },
          "execution_count": 15,
          "metadata": {},
          "output_type": "execute_result"
        }
      ],
      "source": [
        "iris_w_idx"
      ]
    },
    {
      "cell_type": "markdown",
      "metadata": {
        "id": "xrvIE5HoWDTr"
      },
      "source": [
        "## `.unstack()`\n",
        "\n",
        "[Details](https://pandas.pydata.org/docs/reference/api/pandas.DataFrame.unstack.html)"
      ]
    },
    {
      "cell_type": "code",
      "execution_count": null,
      "metadata": {
        "tags": [],
        "id": "hq1fyBu2WDTs"
      },
      "outputs": [],
      "source": []
    },
    {
      "cell_type": "code",
      "execution_count": null,
      "metadata": {
        "tags": [],
        "id": "N1FGgMF3WDTs",
        "outputId": "d4be47db-c054-4211-ee13-fd90a255adbe"
      },
      "outputs": [
        {
          "data": {
            "text/html": [
              "<div>\n",
              "<style scoped>\n",
              "    .dataframe tbody tr th:only-of-type {\n",
              "        vertical-align: middle;\n",
              "    }\n",
              "\n",
              "    .dataframe tbody tr th {\n",
              "        vertical-align: top;\n",
              "    }\n",
              "\n",
              "    .dataframe thead th {\n",
              "        text-align: right;\n",
              "    }\n",
              "</style>\n",
              "<table border=\"1\" class=\"dataframe\">\n",
              "  <thead>\n",
              "    <tr style=\"text-align: right;\">\n",
              "      <th>species</th>\n",
              "      <th>setosa</th>\n",
              "      <th>versicolor</th>\n",
              "      <th>virginica</th>\n",
              "    </tr>\n",
              "    <tr>\n",
              "      <th>obs_id</th>\n",
              "      <th></th>\n",
              "      <th></th>\n",
              "      <th></th>\n",
              "    </tr>\n",
              "  </thead>\n",
              "  <tbody>\n",
              "    <tr>\n",
              "      <th>0</th>\n",
              "      <td>5.1</td>\n",
              "      <td>0.0</td>\n",
              "      <td>0.0</td>\n",
              "    </tr>\n",
              "    <tr>\n",
              "      <th>1</th>\n",
              "      <td>4.9</td>\n",
              "      <td>0.0</td>\n",
              "      <td>0.0</td>\n",
              "    </tr>\n",
              "    <tr>\n",
              "      <th>2</th>\n",
              "      <td>4.7</td>\n",
              "      <td>0.0</td>\n",
              "      <td>0.0</td>\n",
              "    </tr>\n",
              "    <tr>\n",
              "      <th>3</th>\n",
              "      <td>4.6</td>\n",
              "      <td>0.0</td>\n",
              "      <td>0.0</td>\n",
              "    </tr>\n",
              "    <tr>\n",
              "      <th>4</th>\n",
              "      <td>5.0</td>\n",
              "      <td>0.0</td>\n",
              "      <td>0.0</td>\n",
              "    </tr>\n",
              "    <tr>\n",
              "      <th>...</th>\n",
              "      <td>...</td>\n",
              "      <td>...</td>\n",
              "      <td>...</td>\n",
              "    </tr>\n",
              "    <tr>\n",
              "      <th>145</th>\n",
              "      <td>0.0</td>\n",
              "      <td>0.0</td>\n",
              "      <td>6.7</td>\n",
              "    </tr>\n",
              "    <tr>\n",
              "      <th>146</th>\n",
              "      <td>0.0</td>\n",
              "      <td>0.0</td>\n",
              "      <td>6.3</td>\n",
              "    </tr>\n",
              "    <tr>\n",
              "      <th>147</th>\n",
              "      <td>0.0</td>\n",
              "      <td>0.0</td>\n",
              "      <td>6.5</td>\n",
              "    </tr>\n",
              "    <tr>\n",
              "      <th>148</th>\n",
              "      <td>0.0</td>\n",
              "      <td>0.0</td>\n",
              "      <td>6.2</td>\n",
              "    </tr>\n",
              "    <tr>\n",
              "      <th>149</th>\n",
              "      <td>0.0</td>\n",
              "      <td>0.0</td>\n",
              "      <td>5.9</td>\n",
              "    </tr>\n",
              "  </tbody>\n",
              "</table>\n",
              "<p>150 rows × 3 columns</p>\n",
              "</div>"
            ],
            "text/plain": [
              "species  setosa  versicolor  virginica\n",
              "obs_id                                \n",
              "0           5.1         0.0        0.0\n",
              "1           4.9         0.0        0.0\n",
              "2           4.7         0.0        0.0\n",
              "3           4.6         0.0        0.0\n",
              "4           5.0         0.0        0.0\n",
              "...         ...         ...        ...\n",
              "145         0.0         0.0        6.7\n",
              "146         0.0         0.0        6.3\n",
              "147         0.0         0.0        6.5\n",
              "148         0.0         0.0        6.2\n",
              "149         0.0         0.0        5.9\n",
              "\n",
              "[150 rows x 3 columns]"
            ]
          },
          "execution_count": 39,
          "metadata": {},
          "output_type": "execute_result"
        }
      ],
      "source": [
        "iris_wide"
      ]
    },
    {
      "cell_type": "markdown",
      "metadata": {
        "id": "7CHzgHjvWDTs"
      },
      "source": [
        "## `.stack()`\n",
        "\n",
        "Return a reshaped DataFrame or Series having a multi-level index with one or more new inner-most levels compared to the current DataFrame. The new inner-most levels are created by pivoting the columns of the current dataframe:\n",
        "\n",
        "[Details](https://pandas.pydata.org/docs/reference/api/pandas.DataFrame.stack.html)"
      ]
    },
    {
      "cell_type": "code",
      "execution_count": null,
      "metadata": {
        "tags": [],
        "id": "0fvZqNW5WDTs",
        "outputId": "a0751f3d-72a1-4dc2-983a-77b7087242d7"
      },
      "outputs": [
        {
          "data": {
            "text/html": [
              "<div>\n",
              "<style scoped>\n",
              "    .dataframe tbody tr th:only-of-type {\n",
              "        vertical-align: middle;\n",
              "    }\n",
              "\n",
              "    .dataframe tbody tr th {\n",
              "        vertical-align: top;\n",
              "    }\n",
              "\n",
              "    .dataframe thead th {\n",
              "        text-align: right;\n",
              "    }\n",
              "</style>\n",
              "<table border=\"1\" class=\"dataframe\">\n",
              "  <thead>\n",
              "    <tr style=\"text-align: right;\">\n",
              "      <th></th>\n",
              "      <th></th>\n",
              "      <th>sepal_length</th>\n",
              "    </tr>\n",
              "    <tr>\n",
              "      <th>species</th>\n",
              "      <th>obs_id</th>\n",
              "      <th></th>\n",
              "    </tr>\n",
              "  </thead>\n",
              "  <tbody>\n",
              "    <tr>\n",
              "      <th rowspan=\"5\" valign=\"top\">setosa</th>\n",
              "      <th>0</th>\n",
              "      <td>5.1</td>\n",
              "    </tr>\n",
              "    <tr>\n",
              "      <th>1</th>\n",
              "      <td>4.9</td>\n",
              "    </tr>\n",
              "    <tr>\n",
              "      <th>2</th>\n",
              "      <td>4.7</td>\n",
              "    </tr>\n",
              "    <tr>\n",
              "      <th>3</th>\n",
              "      <td>4.6</td>\n",
              "    </tr>\n",
              "    <tr>\n",
              "      <th>4</th>\n",
              "      <td>5.0</td>\n",
              "    </tr>\n",
              "    <tr>\n",
              "      <th>...</th>\n",
              "      <th>...</th>\n",
              "      <td>...</td>\n",
              "    </tr>\n",
              "    <tr>\n",
              "      <th rowspan=\"5\" valign=\"top\">virginica</th>\n",
              "      <th>145</th>\n",
              "      <td>6.7</td>\n",
              "    </tr>\n",
              "    <tr>\n",
              "      <th>146</th>\n",
              "      <td>6.3</td>\n",
              "    </tr>\n",
              "    <tr>\n",
              "      <th>147</th>\n",
              "      <td>6.5</td>\n",
              "    </tr>\n",
              "    <tr>\n",
              "      <th>148</th>\n",
              "      <td>6.2</td>\n",
              "    </tr>\n",
              "    <tr>\n",
              "      <th>149</th>\n",
              "      <td>5.9</td>\n",
              "    </tr>\n",
              "  </tbody>\n",
              "</table>\n",
              "<p>450 rows × 1 columns</p>\n",
              "</div>"
            ],
            "text/plain": [
              "                  sepal_length\n",
              "species   obs_id              \n",
              "setosa    0                5.1\n",
              "          1                4.9\n",
              "          2                4.7\n",
              "          3                4.6\n",
              "          4                5.0\n",
              "...                        ...\n",
              "virginica 145              6.7\n",
              "          146              6.3\n",
              "          147              6.5\n",
              "          148              6.2\n",
              "          149              5.9\n",
              "\n",
              "[450 rows x 1 columns]"
            ]
          },
          "execution_count": 46,
          "metadata": {},
          "output_type": "execute_result"
        }
      ],
      "source": []
    },
    {
      "cell_type": "markdown",
      "metadata": {
        "id": "f28WMjIPWDTs"
      },
      "source": [
        "## Combining DataFrames\n",
        "\n",
        "\n",
        "### `pd.concat()`  \n",
        "\n",
        "Concatenate pandas objects along an axis\n",
        "\n",
        "[Details](https://pandas.pydata.org/pandas-docs/stable/reference/api/pandas.concat.html)"
      ]
    },
    {
      "cell_type": "markdown",
      "metadata": {
        "id": "cifRhmINWDTt"
      },
      "source": [
        "Create two dfs and vertically stack them"
      ]
    },
    {
      "cell_type": "code",
      "execution_count": null,
      "metadata": {
        "tags": [],
        "id": "735bw0ZrWDTt",
        "outputId": "44d89d15-237b-4531-a661-261353020132"
      },
      "outputs": [
        {
          "name": "stdout",
          "output_type": "stream",
          "text": [
            "          0         1         2         3\n",
            "0  0.392107  0.509639  0.979242 -1.027487\n",
            "1 -0.121717 -0.140941  1.000550  0.425382\n",
            "2  0.081751  0.183288  0.657083 -0.273045\n",
            "---------------------------------------------\n",
            "          0         1         2         3\n",
            "0 -0.024622  0.334710  0.000306  0.681266\n",
            "1  1.107880  0.568124  1.087857  0.080963\n",
            "2  0.637418 -0.520785 -0.043940 -0.185343\n"
          ]
        }
      ],
      "source": [
        "df1 = pd.DataFrame(np.random.randn(3, 4))\n",
        "df2 = pd.DataFrame(np.random.randn(3, 4))\n",
        "\n",
        "print(df1)\n",
        "print('-'*45)\n",
        "print(df2)"
      ]
    },
    {
      "cell_type": "code",
      "execution_count": null,
      "metadata": {
        "tags": [],
        "id": "uSDDV6qyWDTt",
        "outputId": "893f9f46-c5c2-4f99-f004-53f61328eddd"
      },
      "outputs": [
        {
          "name": "stdout",
          "output_type": "stream",
          "text": [
            "          0         1         2         3\n",
            "0  0.392107  0.509639  0.979242 -1.027487\n",
            "1 -0.121717 -0.140941  1.000550  0.425382\n",
            "2  0.081751  0.183288  0.657083 -0.273045\n",
            "0 -0.024622  0.334710  0.000306  0.681266\n",
            "1  1.107880  0.568124  1.087857  0.080963\n",
            "2  0.637418 -0.520785 -0.043940 -0.185343\n"
          ]
        }
      ],
      "source": [
        "df3 =\n",
        "\n",
        "# print('-'*45)\n",
        "print(df3)"
      ]
    },
    {
      "cell_type": "markdown",
      "metadata": {
        "id": "cZQHWJi-WDTt"
      },
      "source": [
        "**Concat columns**  \n",
        "This assumes that the indexes represent IDs of specific things or events"
      ]
    },
    {
      "cell_type": "code",
      "execution_count": null,
      "metadata": {
        "id": "j8wu0priWDTu",
        "outputId": "ababe514-ac17-491a-f78d-02125ba8d2ec"
      },
      "outputs": [
        {
          "data": {
            "text/html": [
              "<div>\n",
              "<style scoped>\n",
              "    .dataframe tbody tr th:only-of-type {\n",
              "        vertical-align: middle;\n",
              "    }\n",
              "\n",
              "    .dataframe tbody tr th {\n",
              "        vertical-align: top;\n",
              "    }\n",
              "\n",
              "    .dataframe thead tr th {\n",
              "        text-align: left;\n",
              "    }\n",
              "</style>\n",
              "<table border=\"1\" class=\"dataframe\">\n",
              "  <thead>\n",
              "    <tr>\n",
              "      <th></th>\n",
              "      <th colspan=\"4\" halign=\"left\">foo</th>\n",
              "      <th colspan=\"4\" halign=\"left\">bar</th>\n",
              "    </tr>\n",
              "    <tr>\n",
              "      <th></th>\n",
              "      <th>0</th>\n",
              "      <th>1</th>\n",
              "      <th>2</th>\n",
              "      <th>3</th>\n",
              "      <th>0</th>\n",
              "      <th>1</th>\n",
              "      <th>2</th>\n",
              "      <th>3</th>\n",
              "    </tr>\n",
              "  </thead>\n",
              "  <tbody>\n",
              "    <tr>\n",
              "      <th>0</th>\n",
              "      <td>-0.825220</td>\n",
              "      <td>-0.102500</td>\n",
              "      <td>-0.510075</td>\n",
              "      <td>-0.953772</td>\n",
              "      <td>-1.034678</td>\n",
              "      <td>-0.054963</td>\n",
              "      <td>-0.670725</td>\n",
              "      <td>1.142413</td>\n",
              "    </tr>\n",
              "    <tr>\n",
              "      <th>1</th>\n",
              "      <td>0.490151</td>\n",
              "      <td>0.101113</td>\n",
              "      <td>-1.766722</td>\n",
              "      <td>-0.557258</td>\n",
              "      <td>-0.246691</td>\n",
              "      <td>0.111340</td>\n",
              "      <td>0.266434</td>\n",
              "      <td>0.097658</td>\n",
              "    </tr>\n",
              "    <tr>\n",
              "      <th>2</th>\n",
              "      <td>-0.543623</td>\n",
              "      <td>-0.152922</td>\n",
              "      <td>-0.234991</td>\n",
              "      <td>1.652197</td>\n",
              "      <td>0.492420</td>\n",
              "      <td>-1.879829</td>\n",
              "      <td>0.511996</td>\n",
              "      <td>1.164628</td>\n",
              "    </tr>\n",
              "  </tbody>\n",
              "</table>\n",
              "</div>"
            ],
            "text/plain": [
              "        foo                                     bar                      \\\n",
              "          0         1         2         3         0         1         2   \n",
              "0 -0.825220 -0.102500 -0.510075 -0.953772 -1.034678 -0.054963 -0.670725   \n",
              "1  0.490151  0.101113 -1.766722 -0.557258 -0.246691  0.111340  0.266434   \n",
              "2 -0.543623 -0.152922 -0.234991  1.652197  0.492420 -1.879829  0.511996   \n",
              "\n",
              "             \n",
              "          3  \n",
              "0  1.142413  \n",
              "1  0.097658  \n",
              "2  1.164628  "
            ]
          },
          "execution_count": 17,
          "metadata": {},
          "output_type": "execute_result"
        }
      ],
      "source": [
        "df4 =\n",
        "\n",
        "df4"
      ]
    },
    {
      "cell_type": "code",
      "execution_count": null,
      "metadata": {
        "id": "f5I1JdDQWDTu",
        "outputId": "a8830b46-29f1-4078-dec8-77cc8c595a13"
      },
      "outputs": [
        {
          "data": {
            "text/html": [
              "<div>\n",
              "<style scoped>\n",
              "    .dataframe tbody tr th:only-of-type {\n",
              "        vertical-align: middle;\n",
              "    }\n",
              "\n",
              "    .dataframe tbody tr th {\n",
              "        vertical-align: top;\n",
              "    }\n",
              "\n",
              "    .dataframe thead th {\n",
              "        text-align: right;\n",
              "    }\n",
              "</style>\n",
              "<table border=\"1\" class=\"dataframe\">\n",
              "  <thead>\n",
              "    <tr style=\"text-align: right;\">\n",
              "      <th></th>\n",
              "      <th>0</th>\n",
              "      <th>1</th>\n",
              "      <th>2</th>\n",
              "      <th>3</th>\n",
              "    </tr>\n",
              "  </thead>\n",
              "  <tbody>\n",
              "    <tr>\n",
              "      <th>0</th>\n",
              "      <td>-0.825220</td>\n",
              "      <td>-0.102500</td>\n",
              "      <td>-0.510075</td>\n",
              "      <td>-0.953772</td>\n",
              "    </tr>\n",
              "    <tr>\n",
              "      <th>1</th>\n",
              "      <td>0.490151</td>\n",
              "      <td>0.101113</td>\n",
              "      <td>-1.766722</td>\n",
              "      <td>-0.557258</td>\n",
              "    </tr>\n",
              "    <tr>\n",
              "      <th>2</th>\n",
              "      <td>-0.543623</td>\n",
              "      <td>-0.152922</td>\n",
              "      <td>-0.234991</td>\n",
              "      <td>1.652197</td>\n",
              "    </tr>\n",
              "  </tbody>\n",
              "</table>\n",
              "</div>"
            ],
            "text/plain": [
              "          0         1         2         3\n",
              "0 -0.825220 -0.102500 -0.510075 -0.953772\n",
              "1  0.490151  0.101113 -1.766722 -0.557258\n",
              "2 -0.543623 -0.152922 -0.234991  1.652197"
            ]
          },
          "execution_count": 18,
          "metadata": {},
          "output_type": "execute_result"
        }
      ],
      "source": [
        "df4.foo"
      ]
    },
    {
      "cell_type": "code",
      "execution_count": null,
      "metadata": {
        "id": "8KDigJ96WDTu",
        "outputId": "8b84a1ec-ee00-43da-8085-c1292fcee995"
      },
      "outputs": [
        {
          "data": {
            "text/html": [
              "<div>\n",
              "<style scoped>\n",
              "    .dataframe tbody tr th:only-of-type {\n",
              "        vertical-align: middle;\n",
              "    }\n",
              "\n",
              "    .dataframe tbody tr th {\n",
              "        vertical-align: top;\n",
              "    }\n",
              "\n",
              "    .dataframe thead th {\n",
              "        text-align: right;\n",
              "    }\n",
              "</style>\n",
              "<table border=\"1\" class=\"dataframe\">\n",
              "  <thead>\n",
              "    <tr style=\"text-align: right;\">\n",
              "      <th></th>\n",
              "      <th>0</th>\n",
              "      <th>1</th>\n",
              "      <th>2</th>\n",
              "      <th>3</th>\n",
              "    </tr>\n",
              "  </thead>\n",
              "  <tbody>\n",
              "    <tr>\n",
              "      <th>0</th>\n",
              "      <td>-1.034678</td>\n",
              "      <td>-0.054963</td>\n",
              "      <td>-0.670725</td>\n",
              "      <td>1.142413</td>\n",
              "    </tr>\n",
              "    <tr>\n",
              "      <th>1</th>\n",
              "      <td>-0.246691</td>\n",
              "      <td>0.111340</td>\n",
              "      <td>0.266434</td>\n",
              "      <td>0.097658</td>\n",
              "    </tr>\n",
              "    <tr>\n",
              "      <th>2</th>\n",
              "      <td>0.492420</td>\n",
              "      <td>-1.879829</td>\n",
              "      <td>0.511996</td>\n",
              "      <td>1.164628</td>\n",
              "    </tr>\n",
              "  </tbody>\n",
              "</table>\n",
              "</div>"
            ],
            "text/plain": [
              "          0         1         2         3\n",
              "0 -1.034678 -0.054963 -0.670725  1.142413\n",
              "1 -0.246691  0.111340  0.266434  0.097658\n",
              "2  0.492420 -1.879829  0.511996  1.164628"
            ]
          },
          "execution_count": 19,
          "metadata": {},
          "output_type": "execute_result"
        }
      ],
      "source": [
        "df4.bar"
      ]
    },
    {
      "cell_type": "markdown",
      "metadata": {
        "id": "nFibKoVYWDTv"
      },
      "source": [
        "### `merge()`\n",
        "\n",
        "SQL-style joining of tables (DataFrames)\n",
        "\n",
        "Important parameters include:\n",
        "\n",
        "- `how` : type of merge {'left', 'right', 'outer', 'inner', 'cross'}, default ‘inner’\n",
        "\n",
        "Type of merge to be performed.\n",
        "* left: use only keys from left frame, similar to a SQL left outer join; preserve key order.\n",
        "* right: use only keys from right frame, similar to a SQL right outer join; preserve key order.\n",
        "* outer: use union of keys from both frames, similar to a SQL full outer join; sort keys lexicographically.\n",
        "* inner: use intersection of keys from both frames, similar to a SQL inner join; preserve the order of the left keys.\n",
        "* cross: creates the cartesian product from both frames, preserves the order of the left keys.\n",
        "\n",
        "- `on`  : Column or index level names to join on.\n",
        "\n",
        "        \n",
        "[Details](https://pandas.pydata.org/pandas-docs/stable/reference/api/pandas.DataFrame.merge.html)"
      ]
    },
    {
      "cell_type": "markdown",
      "metadata": {
        "id": "Vjmm7gC7WDTv"
      },
      "source": [
        "Create two tables, `left` and `right`. Then right join them on `key`.  \n",
        "Right join means include all records from table on right.  \n",
        "The `key` is used for matching up the records."
      ]
    },
    {
      "cell_type": "code",
      "execution_count": null,
      "metadata": {
        "tags": [],
        "id": "UYLf7LwUWDTv",
        "outputId": "0e301e7c-8115-461c-bf50-0f35d8d901c0"
      },
      "outputs": [
        {
          "name": "stdout",
          "output_type": "stream",
          "text": [
            "---left\n",
            "     key  lval\n",
            "0  jamie    15\n",
            "1   bill    22\n",
            "\n",
            "---right\n",
            "     key  rval\n",
            "0  jamie     4\n",
            "1   bill     5\n",
            "2  asher     8\n"
          ]
        }
      ],
      "source": [
        "left = pd.DataFrame({\"key\": [\"jamie\", \"bill\"], \"lval\": [15, 22]})\n",
        "right = pd.DataFrame({\"key\": [\"jamie\", \"bill\", \"asher\"], \"rval\": [4, 5, 8]})\n",
        "print('---left')\n",
        "print(left)\n",
        "print('\\n---right')\n",
        "print(right)"
      ]
    },
    {
      "cell_type": "code",
      "execution_count": null,
      "metadata": {
        "tags": [],
        "id": "2hMsDlM0WDTw",
        "outputId": "b2a4ea18-191e-4ed7-d0a8-ee471dab8cd2"
      },
      "outputs": [
        {
          "name": "stdout",
          "output_type": "stream",
          "text": [
            "\n",
            "---joined\n",
            "     key  lval  rval\n",
            "0  jamie  15.0     4\n",
            "1   bill  22.0     5\n",
            "2  asher   NaN     8\n"
          ]
        }
      ],
      "source": [
        "joined =\n",
        "\n",
        "\n",
        "print('\\n---joined')\n",
        "print(joined)"
      ]
    },
    {
      "cell_type": "markdown",
      "metadata": {
        "id": "nNGhEA2lWDTw"
      },
      "source": [
        "Notice the NaN inserted into the record with key=asher, since the left table didn't contain the key."
      ]
    },
    {
      "cell_type": "markdown",
      "metadata": {
        "id": "888urTfeWDTw"
      },
      "source": [
        "**Matching column names**  \n",
        "In this next example, the value columns have the same name: *val*.  Notice what happens to the column names."
      ]
    },
    {
      "cell_type": "code",
      "execution_count": null,
      "metadata": {
        "tags": [],
        "id": "rid39cV2WDTw",
        "outputId": "2e10769a-8019-47eb-8c9a-59bee99446bc"
      },
      "outputs": [
        {
          "name": "stdout",
          "output_type": "stream",
          "text": [
            "---left\n",
            "     key  val\n",
            "0  jamie   15\n",
            "1   bill   22\n",
            "\n",
            "---right\n",
            "     key  val\n",
            "0  jamie    4\n",
            "1   bill    5\n",
            "2  asher    8\n"
          ]
        }
      ],
      "source": [
        "left = pd.DataFrame({\"key\": [\"jamie\", \"bill\"], \"val\": [15, 22]})\n",
        "right = pd.DataFrame({\"key\": [\"jamie\", \"bill\", \"asher\"], \"val\": [4, 5, 8]})\n",
        "print('---left')\n",
        "print(left)\n",
        "print('\\n---right')\n",
        "print(right)"
      ]
    },
    {
      "cell_type": "code",
      "execution_count": null,
      "metadata": {
        "tags": [],
        "id": "Muk1nRz_WDTx",
        "outputId": "554cd763-ca1a-4624-c0aa-4773766d0573"
      },
      "outputs": [
        {
          "name": "stdout",
          "output_type": "stream",
          "text": [
            "\n",
            "---joined\n",
            "     key  val_x  val_y\n",
            "0  jamie   15.0      4\n",
            "1   bill   22.0      5\n",
            "2  asher    NaN      8\n"
          ]
        }
      ],
      "source": [
        "joined =\n",
        "\n",
        "\n",
        "print('\\n---joined')\n",
        "print(joined)"
      ]
    },
    {
      "cell_type": "markdown",
      "metadata": {
        "id": "WQc755SbWDTx"
      },
      "source": [
        "## `.join()`\n",
        "\n",
        "An SQL-like joiner, but this one takes advantage of indexes.\n",
        "\n",
        "Join columns of another DataFrame.\n",
        "\n",
        "Join columns with other DataFrame either on index or on a key column. Efficiently join multiple DataFrame objects by index at once by passing a list.\n",
        "\n",
        "Give our dataframes indexes and distinctive columns names.\n",
        "\n",
        "[Details](https://pandas.pydata.org/pandas-docs/stable/reference/api/pandas.DataFrame.join.html)"
      ]
    },
    {
      "cell_type": "code",
      "execution_count": null,
      "metadata": {
        "tags": [],
        "id": "WYZOXCxeWDTx"
      },
      "outputs": [],
      "source": [
        "left2 = left.set_index('key').rename(columns={'val':'val_1'})\n",
        "right2 = right.set_index('key').rename(columns={'val':'val_2'})"
      ]
    },
    {
      "cell_type": "code",
      "execution_count": null,
      "metadata": {
        "tags": [],
        "id": "pQ7Djf2cWDTx",
        "outputId": "0ae93f90-d9d2-4b34-b9c5-8fffd18251d2"
      },
      "outputs": [
        {
          "data": {
            "text/html": [
              "<div>\n",
              "<style scoped>\n",
              "    .dataframe tbody tr th:only-of-type {\n",
              "        vertical-align: middle;\n",
              "    }\n",
              "\n",
              "    .dataframe tbody tr th {\n",
              "        vertical-align: top;\n",
              "    }\n",
              "\n",
              "    .dataframe thead th {\n",
              "        text-align: right;\n",
              "    }\n",
              "</style>\n",
              "<table border=\"1\" class=\"dataframe\">\n",
              "  <thead>\n",
              "    <tr style=\"text-align: right;\">\n",
              "      <th></th>\n",
              "      <th>val_1</th>\n",
              "    </tr>\n",
              "    <tr>\n",
              "      <th>key</th>\n",
              "      <th></th>\n",
              "    </tr>\n",
              "  </thead>\n",
              "  <tbody>\n",
              "    <tr>\n",
              "      <th>jamie</th>\n",
              "      <td>15</td>\n",
              "    </tr>\n",
              "    <tr>\n",
              "      <th>bill</th>\n",
              "      <td>22</td>\n",
              "    </tr>\n",
              "  </tbody>\n",
              "</table>\n",
              "</div>"
            ],
            "text/plain": [
              "       val_1\n",
              "key         \n",
              "jamie     15\n",
              "bill      22"
            ]
          },
          "execution_count": 59,
          "metadata": {},
          "output_type": "execute_result"
        }
      ],
      "source": [
        "left2"
      ]
    },
    {
      "cell_type": "code",
      "execution_count": null,
      "metadata": {
        "tags": [],
        "id": "r4AQGjLtWDTy",
        "outputId": "f0f24aae-b054-43c5-c4b7-ccf46ef00bf1"
      },
      "outputs": [
        {
          "data": {
            "text/html": [
              "<div>\n",
              "<style scoped>\n",
              "    .dataframe tbody tr th:only-of-type {\n",
              "        vertical-align: middle;\n",
              "    }\n",
              "\n",
              "    .dataframe tbody tr th {\n",
              "        vertical-align: top;\n",
              "    }\n",
              "\n",
              "    .dataframe thead th {\n",
              "        text-align: right;\n",
              "    }\n",
              "</style>\n",
              "<table border=\"1\" class=\"dataframe\">\n",
              "  <thead>\n",
              "    <tr style=\"text-align: right;\">\n",
              "      <th></th>\n",
              "      <th>val_2</th>\n",
              "    </tr>\n",
              "    <tr>\n",
              "      <th>key</th>\n",
              "      <th></th>\n",
              "    </tr>\n",
              "  </thead>\n",
              "  <tbody>\n",
              "    <tr>\n",
              "      <th>jamie</th>\n",
              "      <td>4</td>\n",
              "    </tr>\n",
              "    <tr>\n",
              "      <th>bill</th>\n",
              "      <td>5</td>\n",
              "    </tr>\n",
              "    <tr>\n",
              "      <th>asher</th>\n",
              "      <td>8</td>\n",
              "    </tr>\n",
              "  </tbody>\n",
              "</table>\n",
              "</div>"
            ],
            "text/plain": [
              "       val_2\n",
              "key         \n",
              "jamie      4\n",
              "bill       5\n",
              "asher      8"
            ]
          },
          "execution_count": 60,
          "metadata": {},
          "output_type": "execute_result"
        }
      ],
      "source": [
        "right2"
      ]
    },
    {
      "cell_type": "code",
      "execution_count": null,
      "metadata": {
        "tags": [],
        "id": "m2RQXVE3WDTy",
        "outputId": "e8b578d6-c6d4-4d26-c499-e86e31985145"
      },
      "outputs": [
        {
          "data": {
            "text/html": [
              "<div>\n",
              "<style scoped>\n",
              "    .dataframe tbody tr th:only-of-type {\n",
              "        vertical-align: middle;\n",
              "    }\n",
              "\n",
              "    .dataframe tbody tr th {\n",
              "        vertical-align: top;\n",
              "    }\n",
              "\n",
              "    .dataframe thead th {\n",
              "        text-align: right;\n",
              "    }\n",
              "</style>\n",
              "<table border=\"1\" class=\"dataframe\">\n",
              "  <thead>\n",
              "    <tr style=\"text-align: right;\">\n",
              "      <th></th>\n",
              "      <th>val_2</th>\n",
              "      <th>val_1</th>\n",
              "    </tr>\n",
              "    <tr>\n",
              "      <th>key</th>\n",
              "      <th></th>\n",
              "      <th></th>\n",
              "    </tr>\n",
              "  </thead>\n",
              "  <tbody>\n",
              "    <tr>\n",
              "      <th>jamie</th>\n",
              "      <td>4</td>\n",
              "      <td>15.0</td>\n",
              "    </tr>\n",
              "    <tr>\n",
              "      <th>bill</th>\n",
              "      <td>5</td>\n",
              "      <td>22.0</td>\n",
              "    </tr>\n",
              "    <tr>\n",
              "      <th>asher</th>\n",
              "      <td>8</td>\n",
              "      <td>NaN</td>\n",
              "    </tr>\n",
              "  </tbody>\n",
              "</table>\n",
              "</div>"
            ],
            "text/plain": [
              "       val_2  val_1\n",
              "key                \n",
              "jamie      4   15.0\n",
              "bill       5   22.0\n",
              "asher      8    NaN"
            ]
          },
          "execution_count": 61,
          "metadata": {},
          "output_type": "execute_result"
        }
      ],
      "source": [
        "right2.join(left2) # defaults to 'inner'"
      ]
    },
    {
      "cell_type": "code",
      "execution_count": null,
      "metadata": {
        "tags": [],
        "id": "_7d589ibWDTy",
        "outputId": "8758cbc9-5778-4fca-e95e-f566ac8b1e5d"
      },
      "outputs": [
        {
          "data": {
            "text/html": [
              "<div>\n",
              "<style scoped>\n",
              "    .dataframe tbody tr th:only-of-type {\n",
              "        vertical-align: middle;\n",
              "    }\n",
              "\n",
              "    .dataframe tbody tr th {\n",
              "        vertical-align: top;\n",
              "    }\n",
              "\n",
              "    .dataframe thead th {\n",
              "        text-align: right;\n",
              "    }\n",
              "</style>\n",
              "<table border=\"1\" class=\"dataframe\">\n",
              "  <thead>\n",
              "    <tr style=\"text-align: right;\">\n",
              "      <th></th>\n",
              "      <th>val_2</th>\n",
              "      <th>val_1</th>\n",
              "    </tr>\n",
              "    <tr>\n",
              "      <th>key</th>\n",
              "      <th></th>\n",
              "      <th></th>\n",
              "    </tr>\n",
              "  </thead>\n",
              "  <tbody>\n",
              "    <tr>\n",
              "      <th>jamie</th>\n",
              "      <td>4</td>\n",
              "      <td>15.0</td>\n",
              "    </tr>\n",
              "    <tr>\n",
              "      <th>bill</th>\n",
              "      <td>5</td>\n",
              "      <td>22.0</td>\n",
              "    </tr>\n",
              "    <tr>\n",
              "      <th>asher</th>\n",
              "      <td>8</td>\n",
              "      <td>NaN</td>\n",
              "    </tr>\n",
              "  </tbody>\n",
              "</table>\n",
              "</div>"
            ],
            "text/plain": [
              "       val_2  val_1\n",
              "key                \n",
              "jamie      4   15.0\n",
              "bill       5   22.0\n",
              "asher      8    NaN"
            ]
          },
          "execution_count": 63,
          "metadata": {},
          "output_type": "execute_result"
        }
      ],
      "source": [
        "right2.join(left2, how = 'left')"
      ]
    },
    {
      "cell_type": "markdown",
      "metadata": {
        "id": "het2_GyNWDTy"
      },
      "source": [
        "## Summary\n",
        "\n",
        "* Use **join** if you have shared indexes\n",
        "* Use **merge** if you do not have shared indexes\n",
        "* Use **concat** to combine based on shared indexes or columns"
      ]
    },
    {
      "cell_type": "markdown",
      "metadata": {
        "id": "R0irQYR3WDTz"
      },
      "source": [
        "### TRY FOR YOURSELF (UNGRADED EXERCISES)"
      ]
    },
    {
      "cell_type": "markdown",
      "metadata": {
        "id": "NTmBkgkdWDTz"
      },
      "source": [
        "3) Redo the join exercise above, using an inner join instead of a right join.  \n",
        "Make sure the results make sense."
      ]
    },
    {
      "cell_type": "code",
      "execution_count": null,
      "metadata": {
        "id": "n_q0SYriWDTz"
      },
      "outputs": [],
      "source": []
    },
    {
      "cell_type": "code",
      "execution_count": null,
      "metadata": {
        "tags": [],
        "id": "OCuTs-4AWDTz",
        "outputId": "05935b6c-447d-4ea7-99a5-179eea05785f"
      },
      "outputs": [
        {
          "name": "stdout",
          "output_type": "stream",
          "text": [
            "---left\n",
            "     key  lval\n",
            "0  jamie    15\n",
            "1   bill    22\n",
            "\n",
            "---right\n",
            "     key  rval\n",
            "0  jamie     4\n",
            "1   bill     5\n",
            "2  asher     8\n"
          ]
        }
      ],
      "source": [
        "left = pd.DataFrame({\"key\": [\"jamie\", \"bill\"], \"lval\": [15, 22]})\n",
        "right = pd.DataFrame({\"key\": [\"jamie\", \"bill\", \"asher\"], \"rval\": [4, 5, 8]})\n",
        "\n",
        "print('---left')\n",
        "print(left)\n",
        "print('\\n---right')\n",
        "print(right)"
      ]
    },
    {
      "cell_type": "code",
      "execution_count": null,
      "metadata": {
        "tags": [],
        "id": "461du00KWDT0",
        "outputId": "51534656-9ca7-47a2-a60a-58655dd8a6fc"
      },
      "outputs": [
        {
          "name": "stdout",
          "output_type": "stream",
          "text": [
            "\n",
            "---joined\n",
            "     key  lval  rval\n",
            "0  jamie    15     4\n",
            "1   bill    22     5\n"
          ]
        }
      ],
      "source": [
        "joined =\n",
        "\n",
        "\n",
        "print('\\n---joined')\n",
        "print(joined)"
      ]
    },
    {
      "cell_type": "markdown",
      "metadata": {
        "id": "mPuqE3K9WDT0"
      },
      "source": [
        "## `.reshape()`\n",
        "\n",
        "Changes the object's shape\n",
        "\n",
        "We illustrate creating pandas Series, extracting array of length 6, and reshaping to 3x2 array."
      ]
    },
    {
      "cell_type": "code",
      "execution_count": null,
      "metadata": {
        "tags": [],
        "id": "jgzMTa05WDT0",
        "outputId": "6db5c826-32e0-4dca-b758-0ea6222854fd"
      },
      "outputs": [
        {
          "name": "stdout",
          "output_type": "stream",
          "text": [
            "orig data: [1 1 2 3 5 8]\n",
            "orig type: <class 'numpy.ndarray'>\n",
            "orig shape: (6,)\n"
          ]
        }
      ],
      "source": [
        "# create a series\n",
        "ser = pd.Series([1, 1, 2, 3, 5, 8])\n",
        "\n",
        "# extract values\n",
        "vals = ser.values\n",
        "\n",
        "print('orig data:', vals)\n",
        "print('orig type:', type(vals))\n",
        "print('orig shape:', vals.shape)"
      ]
    },
    {
      "cell_type": "code",
      "execution_count": null,
      "metadata": {
        "tags": [],
        "id": "jL2PDTw9WDT0",
        "outputId": "2b7924ff-fa9d-43e1-8a99-15c9282d9697"
      },
      "outputs": [
        {
          "name": "stdout",
          "output_type": "stream",
          "text": [
            "\n",
            " reshaped vals:\n",
            "[[1 1]\n",
            " [2 3]\n",
            " [5 8]]\n",
            "\n",
            " new type: <class 'numpy.ndarray'>\n",
            "new shape: (3, 2)\n"
          ]
        }
      ],
      "source": [
        "# reshaping series\n",
        "reshaped_vals = vals.reshape((3, 2))\n",
        "\n",
        "print('\\n reshaped vals:')\n",
        "print(reshaped_vals)\n",
        "print('\\n new type:', type(reshaped_vals))\n",
        "print('new shape:', reshaped_vals.shape)"
      ]
    },
    {
      "cell_type": "markdown",
      "metadata": {
        "id": "CEbd49N0WDT1"
      },
      "source": [
        "Including -1 as one of the dimensions tells numpy: infer this dimension from the data and the other dimensions."
      ]
    },
    {
      "cell_type": "markdown",
      "metadata": {
        "id": "ohtZQkiEWDT1"
      },
      "source": [
        "Example: enforce 3 columns:"
      ]
    },
    {
      "cell_type": "code",
      "execution_count": null,
      "metadata": {
        "tags": [],
        "id": "JF47PhN8WDT1",
        "outputId": "2eec0078-5317-4c81-8aeb-5c0bb622b417"
      },
      "outputs": [
        {
          "data": {
            "text/plain": [
              "array([[1, 1, 2],\n",
              "       [3, 5, 8]])"
            ]
          },
          "execution_count": 75,
          "metadata": {},
          "output_type": "execute_result"
        }
      ],
      "source": [
        "vals.reshape(-1,3)"
      ]
    },
    {
      "cell_type": "markdown",
      "metadata": {
        "id": "_8gLv8MXWDT1"
      },
      "source": [
        "Enforce 3 rows:"
      ]
    },
    {
      "cell_type": "code",
      "execution_count": null,
      "metadata": {
        "tags": [],
        "id": "yJIPAZn3WDT2",
        "outputId": "e235432d-bb85-43d6-81d3-7c2184d29089"
      },
      "outputs": [
        {
          "data": {
            "text/plain": [
              "array([[1, 1],\n",
              "       [2, 3],\n",
              "       [5, 8]])"
            ]
          },
          "execution_count": 70,
          "metadata": {},
          "output_type": "execute_result"
        }
      ],
      "source": [
        "vals.reshape(3,-1)"
      ]
    },
    {
      "cell_type": "markdown",
      "metadata": {
        "id": "ZOTaSv-6WDT2"
      },
      "source": [
        "**IMPORTANT NOTE**  \n",
        "\n",
        "Notice the shape of original array: `(6,)`  \n",
        "This is a vector with one dimension, and is different from two-dimensional `(6,1)` array"
      ]
    },
    {
      "cell_type": "markdown",
      "metadata": {
        "id": "RSKbuxpMWDT2"
      },
      "source": [
        "### TRY FOR YOURSELF (UNGRADED EXERCISES)"
      ]
    },
    {
      "cell_type": "markdown",
      "metadata": {
        "id": "I0COpM43WDT2"
      },
      "source": [
        "4) Recreate the series from above with data [1, 1, 2, 3, 5, 8]  \n",
        "Extract the data from the series and reshape to 2x3.  \n",
        "Print both the reshaped data, and the dimensions."
      ]
    },
    {
      "cell_type": "code",
      "execution_count": null,
      "metadata": {
        "id": "knd9tlzCWDT2"
      },
      "outputs": [],
      "source": []
    },
    {
      "cell_type": "code",
      "execution_count": null,
      "metadata": {
        "tags": [],
        "id": "_qpXmyGTWDT3",
        "outputId": "ec3e6cc9-2910-46b7-ef37-b2c824f09a14"
      },
      "outputs": [
        {
          "name": "stdout",
          "output_type": "stream",
          "text": [
            "[[1 1 2]\n",
            " [3 5 8]]\n",
            "new shape: (2, 3)\n"
          ]
        }
      ],
      "source": []
    },
    {
      "cell_type": "markdown",
      "metadata": {
        "id": "8xhN-zZVWDT3"
      },
      "source": [
        "## Categoricals\n",
        "\n",
        "Categorical data takes discrete values where computation on the values does not make sense.  \n",
        "Zip code is a typical example.\n",
        "\n",
        "To include categoricals in models, they must be converted to numeric.  \n",
        "\n",
        "### `get_dummies()`\n",
        "Dummy code categorical data\n",
        "\n",
        "Important parameters:\n",
        "\n",
        "- `prefix`    : append prefix to column names (a good idea for later use)\n",
        "- `drop_first`: remove first level, as only `k-1` variables needed to represent `k` levels\n",
        "\n",
        "[Details](https://pandas.pydata.org/pandas-docs/stable/reference/api/pandas.get_dummies.html)"
      ]
    },
    {
      "cell_type": "code",
      "execution_count": null,
      "metadata": {
        "tags": [],
        "id": "sXF1GMEgWDT3",
        "outputId": "5fb6c7b2-a48e-4891-d2ff-7d488fd0bd3f"
      },
      "outputs": [
        {
          "name": "stdout",
          "output_type": "stream",
          "text": [
            "--categorical data\n",
            "       breed\n",
            "0    persian\n",
            "1    persian\n",
            "2    siamese\n",
            "3  himalayan\n",
            "4    burmese\n"
          ]
        }
      ],
      "source": [
        "cats = pd.DataFrame({'breed':['persian','persian','siamese','himalayan','burmese']})\n",
        "\n",
        "print('--categorical data')\n",
        "print(cats)"
      ]
    },
    {
      "cell_type": "code",
      "execution_count": null,
      "metadata": {
        "tags": [],
        "id": "ZTL3PiqhWDT4",
        "outputId": "0cb5e250-13ad-481b-ca0e-5d9d252f7b27"
      },
      "outputs": [
        {
          "name": "stdout",
          "output_type": "stream",
          "text": [
            "\n",
            "\n",
            "--dummified categorical data\n",
            "   breed_himalayan  breed_persian  breed_siamese\n",
            "0                0              1              0\n",
            "1                0              1              0\n",
            "2                0              0              1\n",
            "3                1              0              0\n",
            "4                0              0              0\n"
          ]
        }
      ],
      "source": [
        "cats = pd.get_dummies(cats.breed, drop_first=True, prefix='breed', dtype=int)\n",
        "\n",
        "print('\\n')\n",
        "print('--dummified categorical data')\n",
        "print(cats)"
      ]
    },
    {
      "cell_type": "markdown",
      "metadata": {
        "id": "xezHc87fWDT4"
      },
      "source": [
        "Notice `burmese` was dropped (first level by alphabet)"
      ]
    },
    {
      "cell_type": "markdown",
      "metadata": {
        "id": "ReFhJkwJWDT4"
      },
      "source": [
        "### TRY FOR YOURSELF (UNGRADED EXERCISES)"
      ]
    },
    {
      "cell_type": "markdown",
      "metadata": {
        "id": "qQZAz5CuWDT4"
      },
      "source": [
        "5) The dataframe below contains two categoricals. Dummify each of them, giving them a prefix and dropping the first level from each.\n",
        "\n",
        "Print the new dataframe to insure correctness.\n",
        "\n",
        "Hint: You might want to dummify each column into separate new dataframes, and then merge them together by using:\n",
        "\n",
        "`pd.concat([df1, df2], axis=1)`"
      ]
    },
    {
      "cell_type": "code",
      "execution_count": null,
      "metadata": {
        "tags": [],
        "id": "nfBv20YVWDT5"
      },
      "outputs": [],
      "source": [
        "cats2 = pd.DataFrame({'breed':['persian','persian','siamese','himalayan','burmese'],\n",
        "                      'color':['calico','white','seal point','cream','sable']})"
      ]
    },
    {
      "cell_type": "code",
      "execution_count": null,
      "metadata": {
        "tags": [],
        "id": "tsHdPRK8WDT5",
        "outputId": "664306c6-1857-46ba-98eb-b6aad5b04c49"
      },
      "outputs": [
        {
          "data": {
            "text/html": [
              "<div>\n",
              "<style scoped>\n",
              "    .dataframe tbody tr th:only-of-type {\n",
              "        vertical-align: middle;\n",
              "    }\n",
              "\n",
              "    .dataframe tbody tr th {\n",
              "        vertical-align: top;\n",
              "    }\n",
              "\n",
              "    .dataframe thead th {\n",
              "        text-align: right;\n",
              "    }\n",
              "</style>\n",
              "<table border=\"1\" class=\"dataframe\">\n",
              "  <thead>\n",
              "    <tr style=\"text-align: right;\">\n",
              "      <th></th>\n",
              "      <th>breed__himalayan</th>\n",
              "      <th>breed__persian</th>\n",
              "      <th>breed__siamese</th>\n",
              "      <th>color__cream</th>\n",
              "      <th>color__sable</th>\n",
              "      <th>color__seal point</th>\n",
              "      <th>color__white</th>\n",
              "    </tr>\n",
              "  </thead>\n",
              "  <tbody>\n",
              "    <tr>\n",
              "      <th>0</th>\n",
              "      <td>False</td>\n",
              "      <td>True</td>\n",
              "      <td>False</td>\n",
              "      <td>False</td>\n",
              "      <td>False</td>\n",
              "      <td>False</td>\n",
              "      <td>False</td>\n",
              "    </tr>\n",
              "    <tr>\n",
              "      <th>1</th>\n",
              "      <td>False</td>\n",
              "      <td>True</td>\n",
              "      <td>False</td>\n",
              "      <td>False</td>\n",
              "      <td>False</td>\n",
              "      <td>False</td>\n",
              "      <td>True</td>\n",
              "    </tr>\n",
              "    <tr>\n",
              "      <th>2</th>\n",
              "      <td>False</td>\n",
              "      <td>False</td>\n",
              "      <td>True</td>\n",
              "      <td>False</td>\n",
              "      <td>False</td>\n",
              "      <td>True</td>\n",
              "      <td>False</td>\n",
              "    </tr>\n",
              "    <tr>\n",
              "      <th>3</th>\n",
              "      <td>True</td>\n",
              "      <td>False</td>\n",
              "      <td>False</td>\n",
              "      <td>True</td>\n",
              "      <td>False</td>\n",
              "      <td>False</td>\n",
              "      <td>False</td>\n",
              "    </tr>\n",
              "    <tr>\n",
              "      <th>4</th>\n",
              "      <td>False</td>\n",
              "      <td>False</td>\n",
              "      <td>False</td>\n",
              "      <td>False</td>\n",
              "      <td>True</td>\n",
              "      <td>False</td>\n",
              "      <td>False</td>\n",
              "    </tr>\n",
              "  </tbody>\n",
              "</table>\n",
              "</div>"
            ],
            "text/plain": [
              "   breed__himalayan  breed__persian  breed__siamese  color__cream  \\\n",
              "0             False            True           False         False   \n",
              "1             False            True           False         False   \n",
              "2             False           False            True         False   \n",
              "3              True           False           False          True   \n",
              "4             False           False           False         False   \n",
              "\n",
              "   color__sable  color__seal point  color__white  \n",
              "0         False              False         False  \n",
              "1         False              False          True  \n",
              "2         False               True         False  \n",
              "3         False              False         False  \n",
              "4          True              False         False  "
            ]
          },
          "execution_count": 4,
          "metadata": {},
          "output_type": "execute_result"
        }
      ],
      "source": []
    },
    {
      "cell_type": "markdown",
      "metadata": {
        "id": "1lI60-2gWDT5"
      },
      "source": [
        "---"
      ]
    }
  ],
  "metadata": {
    "anaconda-cloud": {},
    "kernelspec": {
      "display_name": "Python 3 (ipykernel)",
      "language": "python",
      "name": "python3"
    },
    "language_info": {
      "codemirror_mode": {
        "name": "ipython",
        "version": 3
      },
      "file_extension": ".py",
      "mimetype": "text/x-python",
      "name": "python",
      "nbconvert_exporter": "python",
      "pygments_lexer": "ipython3",
      "version": "3.9.16"
    },
    "vscode": {
      "interpreter": {
        "hash": "31f2aee4e71d21fbe5cf8b01ff0e069b9275f58929596ceb00d14d90e3e16cd6"
      }
    },
    "colab": {
      "provenance": [],
      "include_colab_link": true
    }
  },
  "nbformat": 4,
  "nbformat_minor": 0
}