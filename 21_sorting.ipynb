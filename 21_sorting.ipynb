{
  "cells": [
    {
      "cell_type": "markdown",
      "metadata": {
        "id": "view-in-github",
        "colab_type": "text"
      },
      "source": [
        "<a href=\"https://colab.research.google.com/github/gg5d/DS-1002/blob/main/21_sorting.ipynb\" target=\"_parent\"><img src=\"https://colab.research.google.com/assets/colab-badge.svg\" alt=\"Open In Colab\"/></a>"
      ]
    },
    {
      "cell_type": "markdown",
      "id": "f1cd8d9e-d9a8-43fa-b049-30f9386634d0",
      "metadata": {
        "id": "f1cd8d9e-d9a8-43fa-b049-30f9386634d0"
      },
      "source": [
        "## Sorting in Python using Built-in Functions\n",
        "\n",
        "### University of Virginia\n",
        "\n",
        "### DS1002: Programming for Data Science\n",
        "\n",
        "### Last Updated: September 12, 2022\n",
        "\n",
        "---\n",
        "\n",
        "PREREQUISITES  \n",
        "* data structures\n",
        "* lamda functions  \n",
        "\n",
        "SOURCES  \n",
        "*  w3schools explaination  \n",
        "https://www.w3schools.com/python/ref_func_sorted.asp\n",
        "\n",
        "OBJECTIVES  \n",
        "* understand the `.sorted` method in Python  \n",
        "* demonstrate the ability to sort lists and tuples"
      ]
    },
    {
      "cell_type": "markdown",
      "id": "bed93199-a7f7-4175-92d6-e0d882c71f9a",
      "metadata": {
        "id": "bed93199-a7f7-4175-92d6-e0d882c71f9a"
      },
      "source": [
        "# Sorting a Simple List"
      ]
    },
    {
      "cell_type": "code",
      "execution_count": null,
      "id": "30c117bc-d246-429c-8428-29c57bdffe6c",
      "metadata": {
        "tags": [],
        "id": "30c117bc-d246-429c-8428-29c57bdffe6c"
      },
      "outputs": [],
      "source": [
        "simpleList = [3,7,22,8,14,55,1,23,45,9]"
      ]
    },
    {
      "cell_type": "markdown",
      "id": "12cbf9dd-e3f0-4283-8388-2b9090d7a726",
      "metadata": {
        "id": "12cbf9dd-e3f0-4283-8388-2b9090d7a726"
      },
      "source": [
        "**Sorting function**"
      ]
    },
    {
      "cell_type": "code",
      "execution_count": null,
      "id": "7bdc203b-fbce-40b4-8da7-f24660005427",
      "metadata": {
        "tags": [],
        "id": "7bdc203b-fbce-40b4-8da7-f24660005427"
      },
      "outputs": [],
      "source": [
        "sorted(simpleList)"
      ]
    },
    {
      "cell_type": "markdown",
      "id": "f3059563-92a0-43ea-82c3-08285f086eff",
      "metadata": {
        "id": "f3059563-92a0-43ea-82c3-08285f086eff"
      },
      "source": [
        "**In-place sorting method**"
      ]
    },
    {
      "cell_type": "code",
      "execution_count": null,
      "id": "93432fd8-9efe-4dbb-8662-a3a81dc50c30",
      "metadata": {
        "tags": [],
        "id": "93432fd8-9efe-4dbb-8662-a3a81dc50c30"
      },
      "outputs": [],
      "source": [
        "simpleList.sort()"
      ]
    },
    {
      "cell_type": "code",
      "execution_count": null,
      "id": "bafdb77b-46ce-4e31-ae74-e8ddd736363a",
      "metadata": {
        "tags": [],
        "id": "bafdb77b-46ce-4e31-ae74-e8ddd736363a"
      },
      "outputs": [],
      "source": [
        "simpleList"
      ]
    },
    {
      "cell_type": "markdown",
      "id": "18565160-1850-43de-8146-3cfdfc25904a",
      "metadata": {
        "id": "18565160-1850-43de-8146-3cfdfc25904a"
      },
      "source": [
        "**Sorting in descending order**"
      ]
    },
    {
      "cell_type": "code",
      "execution_count": null,
      "id": "377efb1d-be12-425a-9f4e-87ae3047aa60",
      "metadata": {
        "tags": [],
        "id": "377efb1d-be12-425a-9f4e-87ae3047aa60"
      },
      "outputs": [],
      "source": [
        "sorted(simpleList, reverse=True)"
      ]
    },
    {
      "cell_type": "code",
      "execution_count": null,
      "id": "385b4c66-3623-49db-9d27-e14bb422a82e",
      "metadata": {
        "tags": [],
        "id": "385b4c66-3623-49db-9d27-e14bb422a82e"
      },
      "outputs": [],
      "source": [
        "simpleList.sort(reverse=True)"
      ]
    },
    {
      "cell_type": "code",
      "execution_count": null,
      "id": "6613c20e-116c-4859-949c-9b97aea21c73",
      "metadata": {
        "tags": [],
        "id": "6613c20e-116c-4859-949c-9b97aea21c73"
      },
      "outputs": [],
      "source": [
        "simpleList"
      ]
    },
    {
      "cell_type": "markdown",
      "id": "44e9afd7-3805-4c6a-a633-7e6db6afdc4b",
      "metadata": {
        "id": "44e9afd7-3805-4c6a-a633-7e6db6afdc4b"
      },
      "source": [
        "# Sorting a Simple Tuple\n",
        "\n",
        "Important note: Tuples must always use the \"sorted\" function to return a sorted *list*.\n",
        "\n",
        "You cannot modify tuples, so there isn't an in-place sort function."
      ]
    },
    {
      "cell_type": "code",
      "execution_count": null,
      "id": "66044e46-5eaa-4ada-96fb-407ada98eb30",
      "metadata": {
        "tags": [],
        "id": "66044e46-5eaa-4ada-96fb-407ada98eb30"
      },
      "outputs": [],
      "source": [
        "simpleTup = (2,6,9,22,1,45,16,34)"
      ]
    },
    {
      "cell_type": "code",
      "execution_count": null,
      "id": "d7504bf5-2d65-4ffa-81f5-77bfddc1b54f",
      "metadata": {
        "tags": [],
        "id": "d7504bf5-2d65-4ffa-81f5-77bfddc1b54f"
      },
      "outputs": [],
      "source": [
        "sorted(simpleTup)"
      ]
    },
    {
      "cell_type": "code",
      "execution_count": null,
      "id": "2c7718fe",
      "metadata": {
        "tags": [],
        "id": "2c7718fe"
      },
      "outputs": [],
      "source": [
        "simpleTup.sorted()"
      ]
    },
    {
      "cell_type": "markdown",
      "id": "39657975-d9b0-49d6-8f7c-06b3761fe65d",
      "metadata": {
        "id": "39657975-d9b0-49d6-8f7c-06b3761fe65d"
      },
      "source": [
        "# Sorting a List of Tuples or Lists of Lists\n",
        "\n",
        "The sorted function takes in a keyword argument called \"key\".\n",
        "\n",
        "Key provides a way to specify a function and returns what you would like\n",
        "your items sorted by."
      ]
    },
    {
      "cell_type": "code",
      "execution_count": null,
      "id": "db07b7b6-6b3b-426e-b4df-329b45ed77dd",
      "metadata": {
        "tags": [],
        "id": "db07b7b6-6b3b-426e-b4df-329b45ed77dd"
      },
      "outputs": [],
      "source": [
        "q = \"Are you suggesting coconuts migrate\" # Fun quote from Monty Python"
      ]
    },
    {
      "cell_type": "code",
      "execution_count": null,
      "id": "dac651a5-5818-4a97-9c80-6f819f690b11",
      "metadata": {
        "tags": [],
        "id": "dac651a5-5818-4a97-9c80-6f819f690b11"
      },
      "outputs": [],
      "source": [
        "q"
      ]
    },
    {
      "cell_type": "code",
      "execution_count": null,
      "id": "96c3c3e9-ac7c-44ae-a3b6-ce9c8d25ad57",
      "metadata": {
        "tags": [],
        "id": "96c3c3e9-ac7c-44ae-a3b6-ce9c8d25ad57"
      },
      "outputs": [],
      "source": [
        "wlen = [(word, len(word)) for word in q.split()]"
      ]
    },
    {
      "cell_type": "code",
      "execution_count": null,
      "id": "e690b10d-640f-4de0-8dc0-180b5a45472a",
      "metadata": {
        "tags": [],
        "id": "e690b10d-640f-4de0-8dc0-180b5a45472a"
      },
      "outputs": [],
      "source": [
        "wlen"
      ]
    },
    {
      "cell_type": "code",
      "execution_count": null,
      "id": "97f507f9",
      "metadata": {
        "tags": [],
        "id": "97f507f9"
      },
      "outputs": [],
      "source": [
        "sorted(wlen)"
      ]
    },
    {
      "cell_type": "code",
      "execution_count": null,
      "id": "60c21ce9-03cf-4e7d-a4b6-c17f7c53dbad",
      "metadata": {
        "tags": [],
        "id": "60c21ce9-03cf-4e7d-a4b6-c17f7c53dbad"
      },
      "outputs": [],
      "source": [
        "wlen_sorted = sorted(wlen, key=lambda wlen: wlen[1]) # sort by length"
      ]
    },
    {
      "cell_type": "code",
      "execution_count": null,
      "id": "50402ac5-daed-4554-9ba4-4345200170b7",
      "metadata": {
        "tags": [],
        "id": "50402ac5-daed-4554-9ba4-4345200170b7"
      },
      "outputs": [],
      "source": [
        "wlen_sorted"
      ]
    },
    {
      "cell_type": "markdown",
      "id": "09bec378-8872-44fa-895b-b89416a5c2cb",
      "metadata": {
        "id": "09bec378-8872-44fa-895b-b89416a5c2cb"
      },
      "source": [
        "# Sorting List of Lists"
      ]
    },
    {
      "cell_type": "code",
      "execution_count": null,
      "id": "809d4609-731a-4f87-b0f6-6a4180acb214",
      "metadata": {
        "tags": [],
        "id": "809d4609-731a-4f87-b0f6-6a4180acb214"
      },
      "outputs": [],
      "source": [
        "lst = [[2, 3], [6, 7], [7, 14], [25, 15], [35, 8], [1, 44]]"
      ]
    },
    {
      "cell_type": "code",
      "execution_count": null,
      "id": "ed345f60-61c0-42b5-a8c2-95908e74832d",
      "metadata": {
        "tags": [],
        "id": "ed345f60-61c0-42b5-a8c2-95908e74832d"
      },
      "outputs": [],
      "source": [
        "lst"
      ]
    },
    {
      "cell_type": "markdown",
      "id": "8cb57406-f7c9-46b4-a980-839902f27e60",
      "metadata": {
        "id": "8cb57406-f7c9-46b4-a980-839902f27e60"
      },
      "source": [
        "Note below how the `key` parameter implicitly passes the element to the lambda function."
      ]
    },
    {
      "cell_type": "code",
      "execution_count": null,
      "id": "8de3c597-f8b6-419d-8178-645601d7da51",
      "metadata": {
        "id": "8de3c597-f8b6-419d-8178-645601d7da51"
      },
      "outputs": [],
      "source": [
        "sortedLst = sorted(lst, key=lambda x: x[0]) # sort by the FIRST item in the sub-list"
      ]
    },
    {
      "cell_type": "code",
      "execution_count": null,
      "id": "3667389c-83c4-4f75-9bc0-c6058a16a653",
      "metadata": {
        "id": "3667389c-83c4-4f75-9bc0-c6058a16a653"
      },
      "outputs": [],
      "source": [
        "sortedLst"
      ]
    },
    {
      "cell_type": "markdown",
      "id": "b0e33e55-4b4a-4f73-b538-53c0ea9a6e88",
      "metadata": {
        "id": "b0e33e55-4b4a-4f73-b538-53c0ea9a6e88"
      },
      "source": [
        "Sorting by the SECOND item in each sub-list is a simple matter of\n",
        "changing what the function returns, as follows:"
      ]
    },
    {
      "cell_type": "code",
      "execution_count": null,
      "id": "374828de-7849-480b-8506-5d0af83b19ec",
      "metadata": {
        "id": "374828de-7849-480b-8506-5d0af83b19ec"
      },
      "outputs": [],
      "source": [
        "lst = [[2, 3], [6, 7], [7, 14], [25, 15], [35, 8], [1, 44]]"
      ]
    },
    {
      "cell_type": "code",
      "execution_count": null,
      "id": "99e140c5-2104-46a5-a5f8-ad348066b6c2",
      "metadata": {
        "id": "99e140c5-2104-46a5-a5f8-ad348066b6c2"
      },
      "outputs": [],
      "source": [
        "sortedLst2 = sorted(lst, key=lambda x: x[1]) # sort by the SECOND item in the sub-list"
      ]
    },
    {
      "cell_type": "code",
      "execution_count": null,
      "id": "0debb09f-b03e-4d61-8586-c271735c61a9",
      "metadata": {
        "id": "0debb09f-b03e-4d61-8586-c271735c61a9"
      },
      "outputs": [],
      "source": [
        "sortedLst2"
      ]
    },
    {
      "cell_type": "code",
      "execution_count": null,
      "id": "5e686817",
      "metadata": {
        "id": "5e686817"
      },
      "outputs": [],
      "source": []
    }
  ],
  "metadata": {
    "kernelspec": {
      "display_name": "Python 3 (ipykernel)",
      "language": "python",
      "name": "python3"
    },
    "language_info": {
      "codemirror_mode": {
        "name": "ipython",
        "version": 3
      },
      "file_extension": ".py",
      "mimetype": "text/x-python",
      "name": "python",
      "nbconvert_exporter": "python",
      "pygments_lexer": "ipython3",
      "version": "3.9.16"
    },
    "vscode": {
      "interpreter": {
        "hash": "31f2aee4e71d21fbe5cf8b01ff0e069b9275f58929596ceb00d14d90e3e16cd6"
      }
    },
    "colab": {
      "provenance": [],
      "include_colab_link": true
    }
  },
  "nbformat": 4,
  "nbformat_minor": 5
}