{
  "cells": [
    {
      "cell_type": "markdown",
      "metadata": {
        "id": "view-in-github",
        "colab_type": "text"
      },
      "source": [
        "<a href=\"https://colab.research.google.com/github/gg5d/DS-1002/blob/main/16_iterables_and_iterators_student_F23.ipynb\" target=\"_parent\"><img src=\"https://colab.research.google.com/assets/colab-badge.svg\" alt=\"Open In Colab\"/></a>"
      ]
    },
    {
      "cell_type": "markdown",
      "metadata": {
        "id": "ahcSy4jXFFJ_"
      },
      "source": [
        "## Iterables and Iterators\n",
        "\n",
        "\n",
        "### University of Virginia\n",
        "### DS 1002: Programming for Data Science\n",
        "---  \n",
        "\n",
        "### PREREQUISITES\n",
        "- data types\n",
        "- variables\n",
        "- `for` loop\n",
        "\n",
        "### SOURCES\n",
        "- Iterable objects  \n",
        "http://tutorial.eyehunts.com/python/python-iterable-object-lists-tuples-dictionaries-and-sets/\n",
        "\n",
        "\n",
        "- Iterators  \n",
        "https://www.geeksforgeeks.org/iterators-in-python/\n",
        "\n",
        "\n",
        "### OBJECTIVES\n",
        "- Define iterables and iterators\n",
        "- Using two methods, show how iterators can be used to return data from sets, lists, strings, tuples, dicts:\n",
        "  - `for` loops    \n",
        "  - `iter()` and `next()`\n",
        "\n",
        "\n",
        "\n",
        "### CONCEPTS\n",
        "\n",
        "- `iterable objects` or `iterables`\n",
        "- iterators\n",
        "- iteration\n",
        "- sequence\n",
        "- collection\n",
        "\n",
        "\n",
        "---\n",
        "\n",
        "## I. Defining Iterables and Iterators\n",
        "\n",
        "`Iterable objects` or `iterables` can return elements one at a time  \n",
        "\n",
        "An `iterator` is an object that iterates over iterable objects such as sets, lists, tuples, dictionaries, and strings  \n",
        "\n",
        "`Iteration` can be implemented:\n",
        "- with a `for` loop\n",
        "- with the `next()` method\n",
        "\n"
      ]
    },
    {
      "cell_type": "markdown",
      "metadata": {
        "id": "NEheX9NHFFKB"
      },
      "source": [
        "## II. Misc\n",
        "\n",
        "Other useful tools for iterating\n",
        "\n",
        "**Ranges**\n",
        "\n",
        "If you just want to iterate for a known number of times, use `range()`"
      ]
    },
    {
      "cell_type": "code",
      "execution_count": null,
      "metadata": {
        "id": "cpZmdDm-FFKC"
      },
      "outputs": [],
      "source": [
        "for i in range(10) :\n",
        "    print(str(i+1).zfill(2), (i+1)**2 * '|')"
      ]
    },
    {
      "cell_type": "markdown",
      "metadata": {
        "id": "tZeNad-KFFKC"
      },
      "source": [
        "`zfill()` adds zeros to the front of a string until the it reaches the specified length"
      ]
    },
    {
      "cell_type": "markdown",
      "metadata": {
        "id": "shEIBROCFFKD"
      },
      "source": [
        "**Formatted String Literals (i.e. f-strings)**\n",
        "\n",
        "Also called “formatted string literals,” f-strings are string literals that have an f at the beginning and curly braces containing expressions that will be replaced with their values. The expressions are evaluated at runtime and then formatted using the `__format__` protocol.\n",
        "\n",
        "Example:"
      ]
    },
    {
      "cell_type": "code",
      "execution_count": null,
      "metadata": {
        "id": "AjiDJP7lFFKD"
      },
      "outputs": [],
      "source": [
        "name = 'Ted Lasso'\n",
        "age = 42\n",
        "\n",
        "f\"Hello, {name}. You are {age}.\""
      ]
    },
    {
      "cell_type": "markdown",
      "metadata": {
        "id": "qPSYJW1QFFKE"
      },
      "source": [
        "**Get iteration number**  \n",
        "\n",
        "Often you will want to know what iteration number you are in the loop, use `enumerate()`  \n",
        "\n",
        "`enumerate()` returns the index and key for each iteration"
      ]
    },
    {
      "cell_type": "code",
      "execution_count": null,
      "metadata": {
        "id": "TSbVmNLqFFKE"
      },
      "outputs": [],
      "source": [
        "public_schools = {'UVA' : 3, 'UCLA' : 1, 'UC-Berkeley' : 2}\n",
        "\n",
        "for i, school in enumerate(public_schools) :\n",
        "    school_name = f\"{str(i).zfill(2)}_{school}: {public_schools[school]}\"\n",
        "    print(school_name)"
      ]
    },
    {
      "cell_type": "markdown",
      "metadata": {
        "id": "0zQ-dgP0FFKE"
      },
      "source": [
        "## III. Sequences and Collections\n",
        "\n",
        "Iterables: `list`, `str`, `tuple`, `set`, `dict`\n",
        "\n",
        "Lists, tuples, dictionaries, and strings are `sequences`. Sequences are designed so that elements come out of them in the same order they were put in.\n",
        "\n",
        "Sets are not sequences, since they don't keep elements in order.\n",
        "They are called `collections`.  The ordering of the items is arbitrary.\n",
        "\n",
        "NOTE: This has changed for dictionaries in Python 3.7:  \n",
        "\n",
        "> the insertion-order preservation nature of dict objects has been declared to be an official part of the Python language spec.\\\n",
        "-- [What's New in Python 3.7](https://docs.python.org/3.7/whatsnew/3.7.html)"
      ]
    },
    {
      "cell_type": "markdown",
      "metadata": {
        "id": "fI5Bez3DFFKF"
      },
      "source": [
        "## IV. Lists"
      ]
    },
    {
      "cell_type": "markdown",
      "metadata": {
        "id": "oAzhZu-KFFKF"
      },
      "source": [
        "**iterating using `for`**"
      ]
    },
    {
      "cell_type": "code",
      "execution_count": null,
      "metadata": {
        "id": "4ScTyChGFFKF"
      },
      "outputs": [],
      "source": [
        "tokens = ['living room','was','quite','large']\n",
        "\n",
        "for tok in tokens:\n",
        "    print(tok)"
      ]
    },
    {
      "cell_type": "markdown",
      "metadata": {
        "id": "L7lU1X54FFKG"
      },
      "source": [
        "**iterating using `iter()` and `next()`**\n",
        "\n",
        "`iter()` - gets an iterator. Outputs a value each time it is used.\n",
        "`next()` - gets the next item from the iterator"
      ]
    },
    {
      "cell_type": "code",
      "execution_count": null,
      "metadata": {
        "id": "x1ZuBZY2FFKG"
      },
      "outputs": [],
      "source": [
        "tokens = ['living room','was','quite','large']\n",
        "\n",
        "myit = iter(tokens)\n",
        "print(next(myit))\n",
        "print(next(myit))\n",
        "print(next(myit))\n",
        "print(next(myit))"
      ]
    },
    {
      "cell_type": "markdown",
      "metadata": {
        "id": "7kz9pJA6FFKG"
      },
      "source": [
        "Calling `next()` when the iterator has reached the end of the list produces an exception:"
      ]
    },
    {
      "cell_type": "code",
      "execution_count": null,
      "metadata": {
        "id": "54IgWblDFFKH"
      },
      "outputs": [],
      "source": [
        "print(next(myit))"
      ]
    },
    {
      "cell_type": "markdown",
      "metadata": {
        "id": "X9Ye5LM_FFKH"
      },
      "source": [
        "Next, look at the type of the iterator, and the documentation"
      ]
    },
    {
      "cell_type": "code",
      "execution_count": null,
      "metadata": {
        "id": "xiwvkTt7FFKH"
      },
      "outputs": [],
      "source": [
        "type(myit)"
      ]
    },
    {
      "cell_type": "code",
      "execution_count": null,
      "metadata": {
        "scrolled": true,
        "id": "NDdzuua3FFKI"
      },
      "outputs": [],
      "source": [
        "help(myit)"
      ]
    },
    {
      "cell_type": "code",
      "execution_count": null,
      "metadata": {
        "id": "XEVCU96mFFKI"
      },
      "outputs": [],
      "source": [
        "help(next)"
      ]
    },
    {
      "cell_type": "markdown",
      "metadata": {
        "id": "SY6PVzMoFFKI"
      },
      "source": [
        "**Note that `for` implicitly creates an iterator and executes `next()` on each loop iteration. This is best way to iterate through a list-like object.**"
      ]
    },
    {
      "cell_type": "markdown",
      "metadata": {
        "id": "0mP7yGovFFKJ"
      },
      "source": [
        "## V. Strings"
      ]
    },
    {
      "cell_type": "markdown",
      "metadata": {
        "id": "_O_b3vmsFFKJ"
      },
      "source": [
        "**iterating using `for`**"
      ]
    },
    {
      "cell_type": "code",
      "execution_count": null,
      "metadata": {
        "id": "cU_Cet42FFKJ"
      },
      "outputs": [],
      "source": [
        "strn = 'datum'\n",
        "\n",
        "for s in strn:\n",
        "    print(s)"
      ]
    },
    {
      "cell_type": "markdown",
      "metadata": {
        "id": "ysAeXQlsFFKK"
      },
      "source": [
        "**iterating using `iter()` and `next()`**"
      ]
    },
    {
      "cell_type": "code",
      "execution_count": null,
      "metadata": {
        "id": "NMeAvO5kFFKK"
      },
      "outputs": [],
      "source": [
        "st = iter(strn)\n",
        "\n",
        "print(next(st))\n",
        "print(next(st))\n",
        "print(next(st))\n",
        "print(next(st))\n",
        "print(next(st))"
      ]
    },
    {
      "cell_type": "markdown",
      "metadata": {
        "id": "9JHLMpRlFFKK"
      },
      "source": [
        "## VI. Tuples"
      ]
    },
    {
      "cell_type": "markdown",
      "metadata": {
        "id": "xtr94N5cFFKK"
      },
      "source": [
        "**iterating using `for` loop`**"
      ]
    },
    {
      "cell_type": "code",
      "execution_count": null,
      "metadata": {
        "id": "RdM-ZSH6FFKL"
      },
      "outputs": [],
      "source": [
        "metrics = ('auc','recall','precision','support')\n",
        "\n",
        "for met in metrics:\n",
        "    print(met)"
      ]
    },
    {
      "cell_type": "markdown",
      "metadata": {
        "id": "VHhrbQX4FFKL"
      },
      "source": [
        "**iterating using `iter()` and `next()`**"
      ]
    },
    {
      "cell_type": "code",
      "execution_count": null,
      "metadata": {
        "id": "FnFXWJrCFFKL"
      },
      "outputs": [],
      "source": [
        "metrics = ('auc','recall','precision','support')\n",
        "\n",
        "tup_metrics = iter(metrics)\n",
        "print(next(tup_metrics))\n",
        "print(next(tup_metrics))\n",
        "print(next(tup_metrics))\n",
        "print(next(tup_metrics))"
      ]
    },
    {
      "cell_type": "markdown",
      "metadata": {
        "id": "31M381-EFFKL"
      },
      "source": [
        "## VII. Dictionaries"
      ]
    },
    {
      "cell_type": "markdown",
      "metadata": {
        "id": "PxCbUa-kFFKL"
      },
      "source": [
        "\n",
        "**iterating using `for-loop`**"
      ]
    },
    {
      "cell_type": "code",
      "execution_count": null,
      "metadata": {
        "id": "0X0JjIzQFFKM"
      },
      "outputs": [],
      "source": [
        "courses = {'fall':['regression','python'], 'spring':['capstone','pyspark','nlp']}"
      ]
    },
    {
      "cell_type": "markdown",
      "metadata": {
        "id": "Lng8mLcUFFKM"
      },
      "source": [
        "*Python's default is to interate over the keys*"
      ]
    },
    {
      "cell_type": "code",
      "execution_count": null,
      "metadata": {
        "id": "6rqUvkM-FFKM"
      },
      "outputs": [],
      "source": [
        "# iterate over keys\n",
        "\n",
        "for k in courses:\n",
        "    print(k)"
      ]
    },
    {
      "cell_type": "code",
      "execution_count": null,
      "metadata": {
        "id": "u74cTKUNFFKM"
      },
      "outputs": [],
      "source": [
        "# iterate over keys, using keys() method\n",
        "\n",
        "for k in courses.keys():\n",
        "    print(k)"
      ]
    },
    {
      "cell_type": "code",
      "execution_count": null,
      "metadata": {
        "id": "bveKVyasFFKM"
      },
      "outputs": [],
      "source": [
        "# iterate over values\n",
        "\n",
        "for v in courses.values():\n",
        "    print(v)"
      ]
    },
    {
      "cell_type": "code",
      "execution_count": null,
      "metadata": {
        "id": "q3agTR6_FFKN"
      },
      "outputs": [],
      "source": [
        "# iterate over keys and values using `items()`\n",
        "\n",
        "for k, v in courses.items():\n",
        "    print(\"key  :\", k)\n",
        "    print(\"value:\", v)\n",
        "    print(\"-\"*40)"
      ]
    },
    {
      "cell_type": "markdown",
      "metadata": {
        "id": "5gnyOfXtFFKN"
      },
      "source": [
        "Alternatively, keys and values can be extracted from the dict by:\n",
        "- looping over the keys\n",
        "- extract the value by indexing into the dict with the key"
      ]
    },
    {
      "cell_type": "code",
      "execution_count": null,
      "metadata": {
        "id": "PRb33L1LFFKN"
      },
      "outputs": [],
      "source": [
        "# iterate over keys and values using `key()`.\n",
        "\n",
        "for k in courses.keys():\n",
        "    print(\"key  :\", k)\n",
        "    print(\"value:\", courses[k]) # index into the dict with the key\n",
        "    print(\"-\"*40)"
      ]
    },
    {
      "cell_type": "code",
      "execution_count": null,
      "metadata": {
        "id": "xoYDUOzmFFKO"
      },
      "outputs": [],
      "source": [
        "# iterate over keys and values using `key()`.\n",
        "for k in courses.keys():\n",
        "    print(f\"{k}:\\t{', '.join(courses[k])}\") # index into the dict with the key"
      ]
    },
    {
      "cell_type": "markdown",
      "metadata": {
        "id": "-lDAjhp4FFKO"
      },
      "source": [
        "enumerate() will return the index, key for each row"
      ]
    },
    {
      "cell_type": "code",
      "execution_count": null,
      "metadata": {
        "id": "Bs-_OzjdFFKO"
      },
      "outputs": [],
      "source": [
        "for k in enumerate(courses):\n",
        "    print(k)"
      ]
    },
    {
      "cell_type": "markdown",
      "metadata": {
        "id": "yx-AsgveFFKO"
      },
      "source": [
        "## VIII. Sets"
      ]
    },
    {
      "cell_type": "markdown",
      "metadata": {
        "id": "6olwCNi2FFKO"
      },
      "source": [
        "**iterating using `for`**  \n",
        "note: set has no notion of order"
      ]
    },
    {
      "cell_type": "code",
      "execution_count": null,
      "metadata": {
        "id": "5veGiznHFFKP"
      },
      "outputs": [],
      "source": [
        "princesses = {'belle','cinderella','rapunzel'}\n",
        "\n",
        "for princess in princesses:\n",
        "    print(princess)"
      ]
    },
    {
      "cell_type": "markdown",
      "metadata": {
        "id": "DCclTdohFFKP"
      },
      "source": [
        "**iterating using `iter()` and `next()`**"
      ]
    },
    {
      "cell_type": "code",
      "execution_count": null,
      "metadata": {
        "id": "9OiWv-JZFFKP"
      },
      "outputs": [],
      "source": [
        "princesses = {'belle','cinderella','rapunzel'}\n",
        "\n",
        "myset = iter(princesses)\n",
        "print(next(myset))\n",
        "print(next(myset))\n",
        "print(next(myset))"
      ]
    },
    {
      "cell_type": "markdown",
      "metadata": {
        "id": "opCSJmm5FFKP"
      },
      "source": [
        "---"
      ]
    },
    {
      "cell_type": "markdown",
      "metadata": {
        "id": "PqfYIZR9FFKP"
      },
      "source": [
        "### TRY FOR YOURSELF (UNGRADED EXERCISES)"
      ]
    },
    {
      "cell_type": "markdown",
      "metadata": {
        "id": "6sUafNVSFFKQ"
      },
      "source": [
        "1a) Create a list of strings, where each string contains a mix of uppercase and lowercase letters.  \n",
        "Write a `for` loop` to iterate over the strings and:\n",
        "- lowercase the string (hint: `lower()`)\n",
        "- print the string"
      ]
    },
    {
      "cell_type": "code",
      "execution_count": null,
      "metadata": {
        "tags": [],
        "id": "UPe9xOeZFFKQ"
      },
      "outputs": [],
      "source": [
        "names = ['John', 'Paul', 'George', 'Ringo']\n"
      ]
    },
    {
      "cell_type": "markdown",
      "metadata": {
        "id": "4S9-NtilFFKQ"
      },
      "source": [
        "1b) Using the list from (1a), use `iter()` and `next()` to iterate over the list, printing each string.  \n",
        "The strings don't need to be lowercased."
      ]
    },
    {
      "cell_type": "code",
      "execution_count": null,
      "metadata": {
        "tags": [],
        "id": "i971Fan-FFKQ"
      },
      "outputs": [],
      "source": []
    },
    {
      "cell_type": "markdown",
      "metadata": {
        "id": "TFWXkjSzFFKQ"
      },
      "source": [
        "2a) Create a dictionary. Use a `for` loop with `items()` to print each key-value pair."
      ]
    },
    {
      "cell_type": "code",
      "execution_count": null,
      "metadata": {
        "tags": [],
        "id": "8d3LLtI8FFKQ"
      },
      "outputs": [],
      "source": [
        "city_zip = {'Santa Barbara':93103, 'Charlottesville':22903}\n",
        "\n"
      ]
    },
    {
      "cell_type": "markdown",
      "metadata": {
        "id": "UDhYKSKnFFKR"
      },
      "source": [
        "2b) Using the dictionary from (2a), use a `for` loop with `key()` to print each key-value pair.  \n",
        "To extract the values, use the key to index into the dict."
      ]
    },
    {
      "cell_type": "code",
      "execution_count": null,
      "metadata": {
        "tags": [],
        "id": "-gbq1T1UFFKR"
      },
      "outputs": [],
      "source": []
    },
    {
      "cell_type": "markdown",
      "metadata": {
        "id": "UD4vxp-IFFKR"
      },
      "source": [
        "---"
      ]
    },
    {
      "cell_type": "markdown",
      "metadata": {
        "id": "7QyLNugDFFKR"
      },
      "source": [
        "## IX. Nested Loops  \n",
        "\n",
        "Iterations can be nested!\n",
        "\n",
        "This works well with nested data structures, like dicts within dicts.\n",
        "\n",
        "This is basically how `JSON` files are handled.\n",
        "\n",
        "Be careful, though -- these can get complicated."
      ]
    },
    {
      "cell_type": "code",
      "execution_count": null,
      "metadata": {
        "id": "rLSdFx60FFKR"
      },
      "outputs": [],
      "source": [
        "for i, semester in enumerate(courses):\n",
        "    print(f\"{i+1}. {semester.upper()}:\")\n",
        "    for j, course in enumerate(courses[semester]):\n",
        "        print(f\"\\t{i+1}.{j+1}. {course}\")"
      ]
    },
    {
      "cell_type": "markdown",
      "metadata": {
        "id": "gY39ZhBvFFKS"
      },
      "source": [
        "## X. List Comprehensions\n",
        "\n",
        "Start with this `for` loop:"
      ]
    },
    {
      "cell_type": "code",
      "execution_count": null,
      "metadata": {
        "id": "UdMOO8VLFFKS"
      },
      "outputs": [],
      "source": [
        "vals = [1, 5, 6, 8, 12, 15]\n",
        "is_odd = []\n",
        "\n",
        "for val in vals:\n",
        "    if val % 2: # if remainder is one, val is odd\n",
        "        is_odd.append(True)\n",
        "    else:       # else it's not odd\n",
        "        is_odd.append(False)\n",
        "\n",
        "is_odd"
      ]
    },
    {
      "cell_type": "markdown",
      "metadata": {
        "id": "CB6TZFZ1FFKS"
      },
      "source": [
        "The code loops over each value in the list, checks the condition, and appends to a new list.  \n",
        "\n",
        "The code works, but it's lengthy compared to a list comprehension.  \n",
        "\n",
        "The approach takes extra time to write and understand.  \n",
        "\n",
        "Let's solve with a list comprehension:"
      ]
    },
    {
      "cell_type": "code",
      "execution_count": null,
      "metadata": {
        "tags": [],
        "id": "H4CeCpC3FFKS"
      },
      "outputs": [],
      "source": [
        "is_odd = [val % 2 == 1 for val in vals]\n",
        "is_odd\n"
      ]
    },
    {
      "cell_type": "markdown",
      "metadata": {
        "id": "dJuIG-QzFFKS"
      },
      "source": [
        "Much shorter, and if you understand the syntax, quicker to interpet.\n",
        "\n",
        "Note the in-place use of an expression.\n",
        "\n",
        "Now let's discuss the syntax."
      ]
    },
    {
      "cell_type": "markdown",
      "metadata": {
        "id": "WQ6xFjPJFFKT"
      },
      "source": [
        "## Comprehensions in General\n",
        "\n",
        "Comprehensions provide a concise method for iterating over any list-like object to a new list like object.\n",
        "\n",
        "There are comprehensions for each list-like object:\n",
        "* List comprehensions\n",
        "* Dictionary comprehensions\n",
        "* Tuple comprehensions\n",
        "* Set comprehensions\n",
        "\n",
        "Comprehensions are essentially very concise `for` loops. They are compact visually, but they also are more efficient than loops.\n",
        "\n",
        "All comprehensions have the form:\n",
        "\n",
        "listlike_result = `[ expression + context]`\n",
        "\n",
        "The type of comprehension is indicated by the use of enclosing pairs, just like anonymous constructors:\n",
        "\n",
        "* List comprehensions       `[expression + context]`\n",
        "* Dictionary comprehensions `{expression + context}`\n",
        "* Tuple comprehensions      `(expression + context)`\n",
        "* Set comprehensions        `{expression + context}`\n",
        "\n",
        "\n",
        "**Expression** defines what to do with each element in the list. This has the structure of the kind of comprehension. So, dictionary comprehension expressions take the form `k:v` while sets use `v`.\n",
        "\n",
        "**Context** defines which list elements to select.  The context always consists of an arbitrary number of `for` and `if` statements.\n",
        "\n",
        "---\n",
        "\n",
        "**Another example:**\n",
        "\n",
        "*Stop Word Remover*\n",
        "\n",
        "Create list of words, and list of stop words.  \n",
        "Filter out the stop words (considered not important)."
      ]
    },
    {
      "cell_type": "code",
      "execution_count": null,
      "metadata": {
        "id": "GJaI8GOqFFKT"
      },
      "outputs": [],
      "source": [
        "stop_words = ['a','am','an','i','the','of']\n",
        "words      = ['i','am','not','a','fan','of','the','film']\n",
        "\n",
        "clean_words = [wd for wd in words if wd not in stop_words]\n",
        "clean_words"
      ]
    },
    {
      "cell_type": "markdown",
      "metadata": {
        "id": "H3AKCdXjFFKT"
      },
      "source": [
        "-The expression is very simple: wd. keep the word if meets condition  \n",
        "-The condition does the work: if the word isn't in list of stop words, keep it"
      ]
    },
    {
      "cell_type": "markdown",
      "metadata": {
        "id": "6wOlCxfaFFKT"
      },
      "source": [
        "Side note: This task can also be done with sets, if you are not concerned with mulitple instances of the same word:"
      ]
    },
    {
      "cell_type": "code",
      "execution_count": null,
      "metadata": {
        "id": "lVwep5VhFFKT"
      },
      "outputs": [],
      "source": [
        "s1 = set(stop_words)\n",
        "s2 = set(words)\n",
        "s3 = s2 - s1\n",
        "\n",
        "s3"
      ]
    },
    {
      "cell_type": "markdown",
      "metadata": {
        "id": "_Wh9PX3pFFKU"
      },
      "source": [
        "---\n",
        "**Another Example**  \n",
        "\n",
        "Select a list of measurements, retain elements containing mmHG"
      ]
    },
    {
      "cell_type": "code",
      "execution_count": null,
      "metadata": {
        "id": "wuWa-Hk6FFKU"
      },
      "outputs": [],
      "source": [
        "units = 'mmHg'\n",
        "measures = ['20', '115mmHg', '5mg', '10 mg', '7.5dl', '120 mmHg']\n",
        "\n",
        "meas_mmhg = [meas for meas in measures if units in meas]\n",
        "\n",
        "meas_mmhg"
      ]
    },
    {
      "cell_type": "markdown",
      "metadata": {
        "id": "xZa2EaXSFFKU"
      },
      "source": [
        "Filter on 2 conditions"
      ]
    },
    {
      "cell_type": "code",
      "execution_count": null,
      "metadata": {
        "id": "0Wmv1k8UFFKU"
      },
      "outputs": [],
      "source": [
        "units1 = 'mmHg'\n",
        "units2 = 'dl'\n",
        "meas_mmhg_dl = [meas for meas in measures if units1 in meas or units2 in meas]\n",
        "\n",
        "meas_mmhg_dl"
      ]
    },
    {
      "cell_type": "markdown",
      "metadata": {
        "id": "APY58oz3FFKV"
      },
      "source": [
        "For clarity:"
      ]
    },
    {
      "cell_type": "code",
      "execution_count": null,
      "metadata": {
        "id": "rywcKaDmFFKV"
      },
      "outputs": [],
      "source": [
        "[meas\n",
        " for meas in measures\n",
        " if units1 in meas\n",
        " or units2 in meas]"
      ]
    },
    {
      "cell_type": "markdown",
      "metadata": {
        "id": "DqJ9cCIIFFKV"
      },
      "source": [
        "---\n",
        "## Dictionary Comprehensions\n",
        "\n",
        "**Dictionary comprehensions** provide a concise method for iterating over a dictionary to create a new dictionary.\n",
        "\n",
        "This is common when data is structured as key-value pairs, and we'd like to filter the dict."
      ]
    },
    {
      "cell_type": "code",
      "execution_count": null,
      "metadata": {
        "id": "4zt-HVkbFFKW"
      },
      "outputs": [],
      "source": [
        "# various deep learning models and their depths\n",
        "\n",
        "model_arch = {'cnn_1':'15 layers', 'cnn_2':'20 layers', 'rnn': '10 layers'}"
      ]
    },
    {
      "cell_type": "code",
      "execution_count": null,
      "metadata": {
        "id": "XeGdoEK2FFKW"
      },
      "outputs": [],
      "source": [
        "# create a new dict containing only key-value pairs where the key contains 'cnn'\n",
        "\n",
        "cnns = {key:model_arch[key] for key in model_arch.keys() if 'cnn' in key}\n",
        "cnns"
      ]
    },
    {
      "cell_type": "markdown",
      "metadata": {
        "id": "XqPJvMhpFFKW"
      },
      "source": [
        "We build the key-value pairs using key:model_arch[key], where the key indexes into the dict model_arch"
      ]
    },
    {
      "cell_type": "markdown",
      "metadata": {
        "id": "g8TmcvArFFKW"
      },
      "source": [
        "### TRY FOR YOURSELF (UNGRADED EXERCISES)"
      ]
    },
    {
      "cell_type": "markdown",
      "metadata": {
        "id": "BBoP0OIHFFKW"
      },
      "source": [
        "From vals = [1, 5, 6, 8, 12, 15]"
      ]
    },
    {
      "cell_type": "markdown",
      "metadata": {
        "id": "jrofV6eGFFKX"
      },
      "source": [
        "1) create a dictionary where each number is a key and the corresponding value is is_odd.\n",
        "\n",
        "the output should be `{1: True, 5: True, 6: False, 8: False, 12: False, 15: True}`"
      ]
    },
    {
      "cell_type": "code",
      "execution_count": null,
      "metadata": {
        "tags": [],
        "id": "aY3NHcIqFFKX"
      },
      "outputs": [],
      "source": [
        "vals = [1, 5, 6, 8, 12, 15]\n",
        "\n"
      ]
    },
    {
      "cell_type": "markdown",
      "metadata": {
        "id": "3GD4IJNbFFKX"
      },
      "source": [
        "2) create a tuple including only even numbers from vals\n",
        "\n",
        "the output should be `(6, 8, 12)`"
      ]
    },
    {
      "cell_type": "code",
      "execution_count": null,
      "metadata": {
        "tags": [],
        "id": "TSVQIblIFFKX"
      },
      "outputs": [],
      "source": [
        "\n"
      ]
    }
  ],
  "metadata": {
    "anaconda-cloud": {},
    "kernelspec": {
      "display_name": "Python 3 (ipykernel)",
      "language": "python",
      "name": "python3"
    },
    "language_info": {
      "codemirror_mode": {
        "name": "ipython",
        "version": 3
      },
      "file_extension": ".py",
      "mimetype": "text/x-python",
      "name": "python",
      "nbconvert_exporter": "python",
      "pygments_lexer": "ipython3",
      "version": "3.9.16"
    },
    "vscode": {
      "interpreter": {
        "hash": "31f2aee4e71d21fbe5cf8b01ff0e069b9275f58929596ceb00d14d90e3e16cd6"
      }
    },
    "colab": {
      "provenance": [],
      "include_colab_link": true
    }
  },
  "nbformat": 4,
  "nbformat_minor": 0
}