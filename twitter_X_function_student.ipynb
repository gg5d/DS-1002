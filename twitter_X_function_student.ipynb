{
  "cells": [
    {
      "cell_type": "markdown",
      "metadata": {
        "id": "view-in-github",
        "colab_type": "text"
      },
      "source": [
        "<a href=\"https://colab.research.google.com/github/gg5d/DS-1002/blob/main/twitter_X_function_student.ipynb\" target=\"_parent\"><img src=\"https://colab.research.google.com/assets/colab-badge.svg\" alt=\"Open In Colab\"/></a>"
      ]
    },
    {
      "cell_type": "markdown",
      "id": "445a2826-843c-4b77-86bc-63c8f129ebda",
      "metadata": {
        "id": "445a2826-843c-4b77-86bc-63c8f129ebda"
      },
      "source": [
        "## Twitter (X) Function"
      ]
    },
    {
      "cell_type": "code",
      "execution_count": null,
      "id": "80081a12-d25d-49a4-9c83-c36edc21c13c",
      "metadata": {
        "id": "80081a12-d25d-49a4-9c83-c36edc21c13c"
      },
      "outputs": [],
      "source": []
    },
    {
      "cell_type": "markdown",
      "id": "917f62cf-54ad-4ac8-9259-9af673dcd339",
      "metadata": {
        "id": "917f62cf-54ad-4ac8-9259-9af673dcd339"
      },
      "source": [
        "### Instructions for Twitter Functions\n",
        "\n",
        "* Create a function called `count_entries`\n",
        "\n",
        "* The function should use a `for` loop to interate over the `lang` column in the `tweets_df`\n",
        "\n",
        "* Complete the bodies of the if-else statements in the for loop:    \n",
        "    * `if` the key is in the dictionary langs_count, add 1 to the value corresponding to this key in the dictionary\n",
        "    * `else` add the key to langs_count and set the corresponding value to 1. Use the loop variable entry in your code\n",
        "\n",
        "**Hints**\n",
        "* To add 1 to the value of a key entry in a dictionary, use `d[entry] += 1`\n",
        "* To add a new key to dictionary and set its value to 1, use `d[entry] = 1`\n",
        "\n",
        "**To Start**\n",
        "* Make sure this file and `tweets.csv` are in same directory\n",
        "* Complete the function\n",
        "* Run the script from the console\n"
      ]
    },
    {
      "cell_type": "markdown",
      "id": "4b58fce6-80bd-46e0-965f-b5a1112f9d02",
      "metadata": {
        "id": "4b58fce6-80bd-46e0-965f-b5a1112f9d02"
      },
      "source": [
        "### 1. import pandas"
      ]
    },
    {
      "cell_type": "code",
      "execution_count": null,
      "id": "d6bb2907-60ce-4757-9b4e-806d0ec572ce",
      "metadata": {
        "id": "d6bb2907-60ce-4757-9b4e-806d0ec572ce"
      },
      "outputs": [],
      "source": [
        "\n",
        "import pandas as pd"
      ]
    },
    {
      "cell_type": "markdown",
      "id": "30654756-a680-4926-ac58-c40ebf8b66ff",
      "metadata": {
        "id": "30654756-a680-4926-ac58-c40ebf8b66ff"
      },
      "source": [
        "### 2. import Twitter data as dataframe: df"
      ]
    },
    {
      "cell_type": "code",
      "execution_count": null,
      "id": "9a065df1-9d7c-421a-984f-4ee0fa8aedcd",
      "metadata": {
        "id": "9a065df1-9d7c-421a-984f-4ee0fa8aedcd"
      },
      "outputs": [],
      "source": [
        "\n",
        "tweets_df = pd.read_csv('tweets.csv')"
      ]
    },
    {
      "cell_type": "markdown",
      "id": "73731eaf-e09f-4700-85ad-a46c6e0576a8",
      "metadata": {
        "id": "73731eaf-e09f-4700-85ad-a46c6e0576a8"
      },
      "source": [
        "### 3. create the function"
      ]
    },
    {
      "cell_type": "code",
      "execution_count": null,
      "id": "b35786cc-82cf-4a3a-919b-51b8f95d980c",
      "metadata": {
        "id": "b35786cc-82cf-4a3a-919b-51b8f95d980c"
      },
      "outputs": [],
      "source": [
        "    # initialize an empty dictionary: langs_count\n",
        "\n",
        "\n",
        "\n",
        "    # extract column from dataframe: col\n",
        "\n",
        "\n",
        "\n",
        "    # iterate over lang column in dataframe (for loop)\n",
        "\n",
        "\n",
        "\n",
        "        # if the language is in langs_count, add 1\n",
        "\n",
        "\n",
        "\n",
        "\n",
        "        # else add the language to langs_count, set the value to 1\n",
        "\n",
        "\n",
        "\n",
        "    # return output"
      ]
    },
    {
      "cell_type": "markdown",
      "id": "9ecab77f-ac1f-457c-a4df-75dc9d44af3a",
      "metadata": {
        "id": "9ecab77f-ac1f-457c-a4df-75dc9d44af3a"
      },
      "source": [
        "### 4. call the function"
      ]
    },
    {
      "cell_type": "code",
      "execution_count": null,
      "id": "e81733c0-b223-44f2-a0fa-e4dfb68ff6c5",
      "metadata": {
        "id": "e81733c0-b223-44f2-a0fa-e4dfb68ff6c5"
      },
      "outputs": [],
      "source": []
    },
    {
      "cell_type": "code",
      "execution_count": null,
      "id": "d026d145-0ad4-4718-a83f-055aae29f2b9",
      "metadata": {
        "id": "d026d145-0ad4-4718-a83f-055aae29f2b9"
      },
      "outputs": [],
      "source": []
    },
    {
      "cell_type": "markdown",
      "id": "185be11a-f484-4bd2-9e3c-5c1d119aec57",
      "metadata": {
        "tags": [],
        "id": "185be11a-f484-4bd2-9e3c-5c1d119aec57"
      },
      "source": [
        "### This is an example of the output\n",
        "\n",
        "result = count_entries(tweets_df, 'lang')\n",
        "\n",
        "print(result)\n",
        "\n",
        "{'en': 97, 'et': 1, 'und': 2}"
      ]
    },
    {
      "cell_type": "code",
      "execution_count": null,
      "id": "e9cf445e-f9c0-47a9-9ba0-d53694195e99",
      "metadata": {
        "id": "e9cf445e-f9c0-47a9-9ba0-d53694195e99"
      },
      "outputs": [],
      "source": []
    }
  ],
  "metadata": {
    "kernelspec": {
      "display_name": "Python 3 (ipykernel)",
      "language": "python",
      "name": "python3"
    },
    "language_info": {
      "codemirror_mode": {
        "name": "ipython",
        "version": 3
      },
      "file_extension": ".py",
      "mimetype": "text/x-python",
      "name": "python",
      "nbconvert_exporter": "python",
      "pygments_lexer": "ipython3",
      "version": "3.9.16"
    },
    "colab": {
      "provenance": [],
      "include_colab_link": true
    }
  },
  "nbformat": 4,
  "nbformat_minor": 5
}