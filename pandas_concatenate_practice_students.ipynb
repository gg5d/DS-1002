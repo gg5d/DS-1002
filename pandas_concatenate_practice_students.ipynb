{
  "cells": [
    {
      "cell_type": "markdown",
      "metadata": {
        "id": "view-in-github",
        "colab_type": "text"
      },
      "source": [
        "<a href=\"https://colab.research.google.com/github/gg5d/DS-1002/blob/main/pandas_concatenate_practice_students.ipynb\" target=\"_parent\"><img src=\"https://colab.research.google.com/assets/colab-badge.svg\" alt=\"Open In Colab\"/></a>"
      ]
    },
    {
      "cell_type": "markdown",
      "id": "70a4da0e-91f8-40b0-85da-dd5b0d537e02",
      "metadata": {
        "tags": [],
        "id": "70a4da0e-91f8-40b0-85da-dd5b0d537e02"
      },
      "source": [
        "## Pandas Practice\n",
        "\n",
        "### University of Virginia\n",
        "### DS1002: Programming for Data Science\n",
        "---\n",
        "\n",
        "### PREREQUISITES\n",
        "- data types\n",
        "- pandas dataframes\n",
        "- pandas data cleaning I\n",
        "\n",
        "### OBJECTIVES\n",
        "- Problems with concatenation\n",
        "\n",
        "### Ref: Learning pandas by M. Heydt Packt Publishing/O'Reilly\n",
        "\n",
        "#### Created:Sept 25 2023\n",
        "#### Last Updated: Sept 25 2023"
      ]
    },
    {
      "cell_type": "code",
      "execution_count": null,
      "id": "35d5b9cb-bfe9-4239-923a-668fa072862b",
      "metadata": {
        "tags": [],
        "id": "35d5b9cb-bfe9-4239-923a-668fa072862b"
      },
      "outputs": [],
      "source": [
        "import numpy as np\n",
        "import pandas as pd\n",
        "import datetime\n"
      ]
    },
    {
      "cell_type": "markdown",
      "id": "ca1d6d12-9d7a-488c-9ac8-6f0320e2be7e",
      "metadata": {
        "id": "ca1d6d12-9d7a-488c-9ac8-6f0320e2be7e"
      },
      "source": [
        "Concatenation in pandas is the process of either adding rows to the end of an existing Series or DataFrame object or adding additional columns to a DataFrame.\n",
        "\n",
        "In pandas, concatenation is performed via the pandas function *`pd.concat()`*."
      ]
    },
    {
      "cell_type": "code",
      "execution_count": null,
      "id": "55e696e5-d2b1-452a-9ac6-388eee9be4b3",
      "metadata": {
        "tags": [],
        "id": "55e696e5-d2b1-452a-9ac6-388eee9be4b3"
      },
      "outputs": [],
      "source": [
        "s1 = pd.Series(np.arange(0, 3))\n",
        "s2 = pd.Series(np.arange(5, 8))\n",
        "print(s1)\n",
        "print(s2)\n"
      ]
    },
    {
      "cell_type": "markdown",
      "id": "aeacf185-857c-494f-aac4-d82bf2dadce2",
      "metadata": {
        "id": "aeacf185-857c-494f-aac4-d82bf2dadce2"
      },
      "source": [
        "Concatenate them"
      ]
    },
    {
      "cell_type": "code",
      "execution_count": null,
      "id": "e07a1a55-fc0a-4bb6-bf4e-43b116d59a9f",
      "metadata": {
        "tags": [],
        "id": "e07a1a55-fc0a-4bb6-bf4e-43b116d59a9f"
      },
      "outputs": [],
      "source": [
        "s3 = pd.concat([s1,s2])\n",
        "s3"
      ]
    },
    {
      "cell_type": "code",
      "execution_count": null,
      "id": "aae91a6b-ef8f-48ad-9fca-1278c5d07fab",
      "metadata": {
        "tags": [],
        "id": "aae91a6b-ef8f-48ad-9fca-1278c5d07fab"
      },
      "outputs": [],
      "source": [
        "s3.index"
      ]
    },
    {
      "cell_type": "markdown",
      "id": "35ff4016-ded6-4cad-acf1-1f2783760755",
      "metadata": {
        "tags": [],
        "id": "35ff4016-ded6-4cad-acf1-1f2783760755"
      },
      "source": [
        "Two Dataframes can be concatenated as well"
      ]
    },
    {
      "cell_type": "code",
      "execution_count": null,
      "id": "251a9c82-796e-40c6-b131-d8eb48dd1aa4",
      "metadata": {
        "tags": [],
        "id": "251a9c82-796e-40c6-b131-d8eb48dd1aa4"
      },
      "outputs": [],
      "source": [
        "df1 = pd.DataFrame(np.arange(9).reshape(3,3),columns=['a','b','c'])\n",
        "df1"
      ]
    },
    {
      "cell_type": "code",
      "execution_count": null,
      "id": "3329e588-cc52-41cc-b7e5-dcb6f560a3af",
      "metadata": {
        "tags": [],
        "id": "3329e588-cc52-41cc-b7e5-dcb6f560a3af"
      },
      "outputs": [],
      "source": [
        "df1.values"
      ]
    },
    {
      "cell_type": "code",
      "execution_count": null,
      "id": "c455769f-c50d-4a61-b3d7-ebc883cfe07e",
      "metadata": {
        "tags": [],
        "id": "c455769f-c50d-4a61-b3d7-ebc883cfe07e"
      },
      "outputs": [],
      "source": [
        "df1.columns"
      ]
    },
    {
      "cell_type": "code",
      "execution_count": null,
      "id": "33f6a1dd-ba36-42ed-bab1-561cd04318c4",
      "metadata": {
        "tags": [],
        "id": "33f6a1dd-ba36-42ed-bab1-561cd04318c4"
      },
      "outputs": [],
      "source": [
        "df1.dtypes"
      ]
    },
    {
      "cell_type": "code",
      "execution_count": null,
      "id": "8cb00baa-ea27-431a-9db7-6fcd98a1148f",
      "metadata": {
        "tags": [],
        "id": "8cb00baa-ea27-431a-9db7-6fcd98a1148f"
      },
      "outputs": [],
      "source": [
        "df2 = pd.DataFrame(np.arange(9,18).reshape(3,3),columns=['a','b','c'])\n",
        "df2"
      ]
    },
    {
      "cell_type": "code",
      "execution_count": null,
      "id": "e820eef5-8a81-475e-8fa5-283aec807e9a",
      "metadata": {
        "tags": [],
        "id": "e820eef5-8a81-475e-8fa5-283aec807e9a"
      },
      "outputs": [],
      "source": [
        "pd.concat([df1,df2])"
      ]
    },
    {
      "cell_type": "markdown",
      "id": "07d2da5b-43d5-41d3-8b94-aa7fe1f35895",
      "metadata": {
        "id": "07d2da5b-43d5-41d3-8b94-aa7fe1f35895"
      },
      "source": [
        "What happens if there are missing colums?\n",
        "Check the effect of pd.concat() on the following DataFrames objects"
      ]
    },
    {
      "cell_type": "code",
      "execution_count": null,
      "id": "e9a98164-7f39-4413-bf6c-4e620d0a7952",
      "metadata": {
        "tags": [],
        "id": "e9a98164-7f39-4413-bf6c-4e620d0a7952"
      },
      "outputs": [],
      "source": [
        "df3 = pd.DataFrame(np.arange(9).reshape(3,3),columns=['a','b','c'])\n",
        "df3"
      ]
    },
    {
      "cell_type": "code",
      "execution_count": null,
      "id": "798bdf90-62d6-449f-984d-d1d8ffdeb991",
      "metadata": {
        "tags": [],
        "id": "798bdf90-62d6-449f-984d-d1d8ffdeb991"
      },
      "outputs": [],
      "source": [
        "df4 = pd.DataFrame(np.arange(9,18).reshape(3,3), columns=['a','c','d'])\n",
        "df4"
      ]
    },
    {
      "cell_type": "code",
      "execution_count": null,
      "id": "b335eaae-8554-438f-893f-b1be8fad1b55",
      "metadata": {
        "tags": [],
        "id": "b335eaae-8554-438f-893f-b1be8fad1b55"
      },
      "outputs": [],
      "source": [
        "pd.concat([df3,df4])"
      ]
    },
    {
      "cell_type": "markdown",
      "id": "44ced908-ffc4-4ecd-b05d-87a53c55e6ed",
      "metadata": {
        "id": "44ced908-ffc4-4ecd-b05d-87a53c55e6ed"
      },
      "source": [
        "The pd.concat() function also allows you to specify the axis on which to apply the concatenation.\n",
        "\n",
        "The following concatenates the two DataFrame objects along the **columns axis**:"
      ]
    },
    {
      "cell_type": "code",
      "execution_count": null,
      "id": "ec3f7e5c-b8c9-4c6c-9eae-d02de38d7505",
      "metadata": {
        "tags": [],
        "id": "ec3f7e5c-b8c9-4c6c-9eae-d02de38d7505"
      },
      "outputs": [],
      "source": [
        "pd.concat([df1,df4],axis=1)"
      ]
    },
    {
      "cell_type": "markdown",
      "id": "ae876ebc-31df-4a94-8b26-2f5961fd54c3",
      "metadata": {
        "id": "ae876ebc-31df-4a94-8b26-2f5961fd54c3"
      },
      "source": [
        "What happens when the number of rows is not the same? Or row index is not the same? Try with the following df's"
      ]
    },
    {
      "cell_type": "code",
      "execution_count": null,
      "id": "2fdf3554-d8c7-4193-b205-a392da7cd123",
      "metadata": {
        "tags": [],
        "id": "2fdf3554-d8c7-4193-b205-a392da7cd123"
      },
      "outputs": [],
      "source": [
        "df5 = pd.DataFrame(np.arange(20,26).reshape(3,2),columns=['a','d'], index=[2,3,4])\n",
        "df5"
      ]
    },
    {
      "cell_type": "code",
      "execution_count": null,
      "id": "9cb6c41f-acb6-414b-91b2-fe36764aba16",
      "metadata": {
        "tags": [],
        "id": "9cb6c41f-acb6-414b-91b2-fe36764aba16"
      },
      "outputs": [],
      "source": [
        "pd.concat([df4,df5],axis=1)"
      ]
    },
    {
      "cell_type": "markdown",
      "id": "0a13c169-0c18-439a-a0f3-850fce4a5793",
      "metadata": {
        "id": "0a13c169-0c18-439a-a0f3-850fce4a5793"
      },
      "source": [
        "So far, pd.concat() performs a *`union`* of index labels.\n",
        "\n",
        "We can request an **intersection**, with *`join='inner'`*"
      ]
    },
    {
      "cell_type": "code",
      "execution_count": null,
      "id": "96a3380c-8b3f-4d1e-9263-1ea8989b690e",
      "metadata": {
        "tags": [],
        "id": "96a3380c-8b3f-4d1e-9263-1ea8989b690e"
      },
      "outputs": [],
      "source": [
        "pd.concat([df1,df5],axis=1, join='inner')"
      ]
    },
    {
      "cell_type": "markdown",
      "id": "0f758a0e-c3a8-4ff6-8a36-813bd8da0233",
      "metadata": {
        "id": "0f758a0e-c3a8-4ff6-8a36-813bd8da0233"
      },
      "source": [
        "as **2** is the only index in common.\n",
        "\n",
        "For row concatenation:"
      ]
    },
    {
      "cell_type": "code",
      "execution_count": null,
      "id": "fc85cef1-b70e-43c3-aa9d-5a8573c90029",
      "metadata": {
        "tags": [],
        "id": "fc85cef1-b70e-43c3-aa9d-5a8573c90029"
      },
      "outputs": [],
      "source": [
        "pd.concat([df1,df4],join='inner')"
      ]
    },
    {
      "cell_type": "markdown",
      "id": "90d3597c-89c8-49bc-8381-a1b6de2d737e",
      "metadata": {
        "id": "90d3597c-89c8-49bc-8381-a1b6de2d737e"
      },
      "source": [
        "as **a** and **c** are the only columns in common"
      ]
    },
    {
      "cell_type": "code",
      "execution_count": null,
      "id": "3e896039-340c-43ed-870f-63c110a65562",
      "metadata": {
        "tags": [],
        "id": "3e896039-340c-43ed-870f-63c110a65562"
      },
      "outputs": [],
      "source": [
        "pd.concat([df1,df4],join='inner', ignore_index=True)"
      ]
    },
    {
      "cell_type": "markdown",
      "id": "50a9cf7c-a8f5-4619-ae7c-caeb79512b6f",
      "metadata": {
        "id": "50a9cf7c-a8f5-4619-ae7c-caeb79512b6f"
      },
      "source": [
        "## Student practice"
      ]
    },
    {
      "cell_type": "markdown",
      "id": "827101a0-4386-4607-8db1-d3ca1b283fd9",
      "metadata": {
        "id": "827101a0-4386-4607-8db1-d3ca1b283fd9"
      },
      "source": [
        "Create the 3 DataFrames df1, df2, df3 and concatenate them to get the DataFrame Result, as in the picture below."
      ]
    },
    {
      "cell_type": "markdown",
      "id": "5f976ce7-ea2a-41ea-98cd-cc4860d875b9",
      "metadata": {
        "id": "5f976ce7-ea2a-41ea-98cd-cc4860d875b9"
      },
      "source": [
        "<img src=\"https://pandas.pydata.org/pandas-docs/stable/_images/merging_concat_basic.png\" alt=\"Alternative text\" />"
      ]
    },
    {
      "cell_type": "code",
      "execution_count": null,
      "id": "5817f446-2cf4-4275-ba21-d292cd3f7d8c",
      "metadata": {
        "tags": [],
        "id": "5817f446-2cf4-4275-ba21-d292cd3f7d8c"
      },
      "outputs": [],
      "source": [
        "df1 =\n",
        "df1"
      ]
    },
    {
      "cell_type": "code",
      "execution_count": null,
      "id": "2cf25c22-d83c-4b9c-8dc9-1d2897e1a1e9",
      "metadata": {
        "tags": [],
        "id": "2cf25c22-d83c-4b9c-8dc9-1d2897e1a1e9"
      },
      "outputs": [],
      "source": [
        "df2 =\n",
        "df2"
      ]
    },
    {
      "cell_type": "code",
      "execution_count": null,
      "id": "97a24730-c342-4521-8ca5-120dfc150695",
      "metadata": {
        "tags": [],
        "id": "97a24730-c342-4521-8ca5-120dfc150695"
      },
      "outputs": [],
      "source": [
        "df3 =\n",
        "df3"
      ]
    },
    {
      "cell_type": "code",
      "execution_count": null,
      "id": "20f17b94-1792-4bc7-923c-4e4febc2356e",
      "metadata": {
        "tags": [],
        "id": "20f17b94-1792-4bc7-923c-4e4febc2356e"
      },
      "outputs": [],
      "source": [
        "result =\n",
        "result"
      ]
    },
    {
      "cell_type": "markdown",
      "id": "b11d5478-0e13-4027-81c6-5d5aa4c1eb02",
      "metadata": {
        "id": "b11d5478-0e13-4027-81c6-5d5aa4c1eb02"
      },
      "source": [
        "Use the *`keys=[\"x\", \"y\", \"z\"]`* argument to associate a specific key to each df's as you can see below"
      ]
    },
    {
      "cell_type": "code",
      "execution_count": null,
      "id": "40ede686-2498-4d63-8f66-f8470d3c37ef",
      "metadata": {
        "tags": [],
        "id": "40ede686-2498-4d63-8f66-f8470d3c37ef"
      },
      "outputs": [],
      "source": [
        "result =\n",
        "result"
      ]
    },
    {
      "cell_type": "markdown",
      "id": "1525e486-c22a-48f9-91d9-aede5470d4bd",
      "metadata": {
        "tags": [],
        "id": "1525e486-c22a-48f9-91d9-aede5470d4bd"
      },
      "source": [
        "<img src=\"https://pandas.pydata.org/pandas-docs/stable/_images/merging_concat_keys.png\" alt=\"Alternative text\"/>"
      ]
    },
    {
      "cell_type": "markdown",
      "id": "b28ffe93-04dc-4154-a083-19147cfdf195",
      "metadata": {
        "id": "b28ffe93-04dc-4154-a083-19147cfdf195"
      },
      "source": [
        "From Result, extract only the second chunk. Use *`.loc[...]`*"
      ]
    },
    {
      "cell_type": "code",
      "execution_count": null,
      "id": "4c260933-8ea8-4652-a46b-de879d219163",
      "metadata": {
        "tags": [],
        "id": "4c260933-8ea8-4652-a46b-de879d219163"
      },
      "outputs": [],
      "source": [
        "result.loc[.?.]"
      ]
    },
    {
      "cell_type": "markdown",
      "id": "fe347ee0-1ad7-49c7-93f6-affa97ac31c6",
      "metadata": {
        "id": "fe347ee0-1ad7-49c7-93f6-affa97ac31c6"
      },
      "source": [
        "Define df4"
      ]
    },
    {
      "cell_type": "code",
      "execution_count": null,
      "id": "a9c19540-63ce-4abe-8fe9-b0ea09bbe6fe",
      "metadata": {
        "tags": [],
        "id": "a9c19540-63ce-4abe-8fe9-b0ea09bbe6fe"
      },
      "outputs": [],
      "source": [
        "df4 = pd.DataFrame(\n",
        "    {\n",
        "        \"B\": [\"B2\", \"B3\", \"B6\", \"B7\"],\n",
        "        \"D\": [\"D2\", \"D3\", \"D6\", \"D7\"],\n",
        "        \"F\": [\"F2\", \"F3\", \"F6\", \"F7\"],\n",
        "    },\n",
        "    index=[2, 3, 6, 7],\n",
        ")\n",
        "df4"
      ]
    },
    {
      "cell_type": "markdown",
      "id": "b96f32d0-1a22-4f52-83c0-ff1b38e1eeb3",
      "metadata": {
        "id": "b96f32d0-1a22-4f52-83c0-ff1b38e1eeb3"
      },
      "source": [
        "Concatenate df1 and df4 as in the picture below"
      ]
    },
    {
      "cell_type": "markdown",
      "id": "e9ed227c-b2d0-42d7-9d8e-6c0072adbf3d",
      "metadata": {
        "tags": [],
        "id": "e9ed227c-b2d0-42d7-9d8e-6c0072adbf3d"
      },
      "source": [
        "<img src=\"https://pandas.pydata.org/pandas-docs/stable/_images/merging_concat_axis1.png\" alt=\"Alternative text\" />"
      ]
    },
    {
      "cell_type": "code",
      "execution_count": null,
      "id": "af042b8f-9935-4163-bb08-2046a734da24",
      "metadata": {
        "tags": [],
        "id": "af042b8f-9935-4163-bb08-2046a734da24"
      },
      "outputs": [],
      "source": [
        "result =\n",
        "result"
      ]
    },
    {
      "cell_type": "markdown",
      "id": "e39881fa-9edf-40c8-9549-cf6e4d7d1f77",
      "metadata": {
        "id": "e39881fa-9edf-40c8-9549-cf6e4d7d1f77"
      },
      "source": [
        "Now concatenate by keeping the intersection of the columns, as in the picture"
      ]
    },
    {
      "cell_type": "markdown",
      "id": "d8712d12-8a3f-4c42-a7f1-f190e85c72a5",
      "metadata": {
        "id": "d8712d12-8a3f-4c42-a7f1-f190e85c72a5"
      },
      "source": [
        "<img src=\"https://pandas.pydata.org/pandas-docs/stable/_images/merging_concat_axis1_inner.png\" alt=\"Alternative text\" />"
      ]
    },
    {
      "cell_type": "code",
      "execution_count": null,
      "id": "8525c300-0704-451b-b285-cf7ac6d85dbe",
      "metadata": {
        "tags": [],
        "id": "8525c300-0704-451b-b285-cf7ac6d85dbe"
      },
      "outputs": [],
      "source": [
        "result =\n",
        "result"
      ]
    },
    {
      "cell_type": "markdown",
      "id": "a81b352b-3246-4984-a4ca-328f16839649",
      "metadata": {
        "id": "a81b352b-3246-4984-a4ca-328f16839649"
      },
      "source": [
        "Use the *`ignore_index=True`* argument ignore the indexes and reset them, as in the picture"
      ]
    },
    {
      "cell_type": "markdown",
      "id": "493caf91-420d-40a8-87c8-154331f805d2",
      "metadata": {
        "tags": [],
        "id": "493caf91-420d-40a8-87c8-154331f805d2"
      },
      "source": [
        "<img src=\"https://pandas.pydata.org/pandas-docs/stable/_images/merging_concat_ignore_index.png\" alt=\"Alternative text\" />"
      ]
    },
    {
      "cell_type": "code",
      "execution_count": null,
      "id": "915ac1bd-d892-42dd-8427-1d5c53f1f565",
      "metadata": {
        "tags": [],
        "id": "915ac1bd-d892-42dd-8427-1d5c53f1f565"
      },
      "outputs": [],
      "source": [
        "result =\n",
        "result"
      ]
    }
  ],
  "metadata": {
    "kernelspec": {
      "display_name": "Python 3 (ipykernel)",
      "language": "python",
      "name": "python3"
    },
    "language_info": {
      "codemirror_mode": {
        "name": "ipython",
        "version": 3
      },
      "file_extension": ".py",
      "mimetype": "text/x-python",
      "name": "python",
      "nbconvert_exporter": "python",
      "pygments_lexer": "ipython3",
      "version": "3.9.16"
    },
    "colab": {
      "provenance": [],
      "include_colab_link": true
    }
  },
  "nbformat": 4,
  "nbformat_minor": 5
}