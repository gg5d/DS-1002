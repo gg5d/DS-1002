{
  "cells": [
    {
      "cell_type": "markdown",
      "metadata": {
        "id": "view-in-github",
        "colab_type": "text"
      },
      "source": [
        "<a href=\"https://colab.research.google.com/github/gg5d/DS-1002/blob/main/pandas_data_cleaning2_student_F23.ipynb\" target=\"_parent\"><img src=\"https://colab.research.google.com/assets/colab-badge.svg\" alt=\"Open In Colab\"/></a>"
      ]
    },
    {
      "cell_type": "markdown",
      "metadata": {
        "id": "9C_O6PGJ8IK_"
      },
      "source": [
        "## Pandas Data Cleaning II\n",
        "\n",
        "### University of Virginia\n",
        "### DS1002: Programming for Data Science\n",
        "### Last Updated: September 27, 2023\n",
        "### Last Reviewed: September 27, 2023\n",
        "---\n",
        "\n",
        "### PREREQUISITES\n",
        "- data types\n",
        "- pandas dataframes\n",
        "- pandas data cleaning I\n",
        "\n",
        "### OBJECTIVES\n",
        "- Problems with text and categorical data"
      ]
    },
    {
      "cell_type": "code",
      "execution_count": null,
      "metadata": {
        "tags": [],
        "id": "cVckKsFZ8ILE"
      },
      "outputs": [],
      "source": [
        "import pandas as pd\n",
        "import numpy as np"
      ]
    },
    {
      "cell_type": "markdown",
      "metadata": {
        "id": "1WLmRcUn8ILG"
      },
      "source": [
        "## Categorical Data & Membership Constraints\n",
        "\n",
        "- Has a predefined set of categories\n",
        "\n",
        "- Value can only be one of the membership categories\n",
        "\n",
        "- Often coded as numbers for further analysis techniques (like machine learning)\n",
        "\n",
        "### Concerns in categorical data\n",
        "\n",
        "1. Errors occur when observations have values that go beyond the predefined catogories\n",
        "\n",
        "2. Errors also occur with inconsistent fields\n",
        "\n",
        "3. Needing to collapse categories\n",
        "\n",
        "4. Data type not being defined as 'category'\n",
        "\n",
        "### Fixing observations that go beyond predefined categories\n",
        "\n",
        "- We can drop, remap, or infer categories to fix\n",
        "\n",
        "- We covered simple examples of these during Pandas Data Cleaning I\n",
        "\n",
        "- Here is more complex example:"
      ]
    },
    {
      "cell_type": "code",
      "execution_count": null,
      "metadata": {
        "tags": [],
        "id": "EL3DDHpe8ILG"
      },
      "outputs": [],
      "source": [
        "# import csv's\n",
        "\n",
        "study = pd.read_csv('data/study.csv')\n",
        "categories = pd.read_csv('data/blood_categories.csv')"
      ]
    },
    {
      "cell_type": "code",
      "execution_count": null,
      "metadata": {
        "tags": [],
        "id": "om9tTfdl8ILH",
        "outputId": "2baf6369-c40b-4274-9988-421bdfa9b8d4"
      },
      "outputs": [
        {
          "data": {
            "text/html": [
              "<div>\n",
              "<style scoped>\n",
              "    .dataframe tbody tr th:only-of-type {\n",
              "        vertical-align: middle;\n",
              "    }\n",
              "\n",
              "    .dataframe tbody tr th {\n",
              "        vertical-align: top;\n",
              "    }\n",
              "\n",
              "    .dataframe thead th {\n",
              "        text-align: right;\n",
              "    }\n",
              "</style>\n",
              "<table border=\"1\" class=\"dataframe\">\n",
              "  <thead>\n",
              "    <tr style=\"text-align: right;\">\n",
              "      <th></th>\n",
              "      <th>name</th>\n",
              "      <th>birthday</th>\n",
              "      <th>blood_type</th>\n",
              "    </tr>\n",
              "  </thead>\n",
              "  <tbody>\n",
              "    <tr>\n",
              "      <th>0</th>\n",
              "      <td>Beth</td>\n",
              "      <td>10/20/19</td>\n",
              "      <td>B-</td>\n",
              "    </tr>\n",
              "    <tr>\n",
              "      <th>1</th>\n",
              "      <td>Paul</td>\n",
              "      <td>7/8/20</td>\n",
              "      <td>A-</td>\n",
              "    </tr>\n",
              "    <tr>\n",
              "      <th>2</th>\n",
              "      <td>Helen</td>\n",
              "      <td>8/12/19</td>\n",
              "      <td>O+</td>\n",
              "    </tr>\n",
              "    <tr>\n",
              "      <th>3</th>\n",
              "      <td>Jennifer</td>\n",
              "      <td>3/17/19</td>\n",
              "      <td>O-</td>\n",
              "    </tr>\n",
              "    <tr>\n",
              "      <th>4</th>\n",
              "      <td>Keith</td>\n",
              "      <td>12/17/19</td>\n",
              "      <td>Z+</td>\n",
              "    </tr>\n",
              "    <tr>\n",
              "      <th>5</th>\n",
              "      <td>Kelly</td>\n",
              "      <td>4/27/20</td>\n",
              "      <td>A+</td>\n",
              "    </tr>\n",
              "    <tr>\n",
              "      <th>6</th>\n",
              "      <td>Rachel</td>\n",
              "      <td>4/19/19</td>\n",
              "      <td>AB+</td>\n",
              "    </tr>\n",
              "  </tbody>\n",
              "</table>\n",
              "</div>"
            ],
            "text/plain": [
              "       name birthday  blood_type\n",
              "0      Beth  10/20/19         B-\n",
              "1      Paul    7/8/20         A-\n",
              "2     Helen   8/12/19         O+\n",
              "3  Jennifer   3/17/19         O-\n",
              "4     Keith  12/17/19         Z+\n",
              "5     Kelly   4/27/20         A+\n",
              "6    Rachel   4/19/19        AB+"
            ]
          },
          "execution_count": 3,
          "metadata": {},
          "output_type": "execute_result"
        }
      ],
      "source": [
        "study"
      ]
    },
    {
      "cell_type": "code",
      "execution_count": null,
      "metadata": {
        "id": "CBVwXOB48ILI",
        "outputId": "9e1e17d2-906c-4890-bcc0-525da23907a9"
      },
      "outputs": [
        {
          "data": {
            "text/html": [
              "<div>\n",
              "<style scoped>\n",
              "    .dataframe tbody tr th:only-of-type {\n",
              "        vertical-align: middle;\n",
              "    }\n",
              "\n",
              "    .dataframe tbody tr th {\n",
              "        vertical-align: top;\n",
              "    }\n",
              "\n",
              "    .dataframe thead th {\n",
              "        text-align: right;\n",
              "    }\n",
              "</style>\n",
              "<table border=\"1\" class=\"dataframe\">\n",
              "  <thead>\n",
              "    <tr style=\"text-align: right;\">\n",
              "      <th></th>\n",
              "      <th>blood_type</th>\n",
              "    </tr>\n",
              "  </thead>\n",
              "  <tbody>\n",
              "    <tr>\n",
              "      <th>0</th>\n",
              "      <td>O-</td>\n",
              "    </tr>\n",
              "    <tr>\n",
              "      <th>1</th>\n",
              "      <td>O+</td>\n",
              "    </tr>\n",
              "    <tr>\n",
              "      <th>2</th>\n",
              "      <td>A-</td>\n",
              "    </tr>\n",
              "    <tr>\n",
              "      <th>3</th>\n",
              "      <td>A+</td>\n",
              "    </tr>\n",
              "    <tr>\n",
              "      <th>4</th>\n",
              "      <td>B+</td>\n",
              "    </tr>\n",
              "    <tr>\n",
              "      <th>5</th>\n",
              "      <td>B-</td>\n",
              "    </tr>\n",
              "    <tr>\n",
              "      <th>6</th>\n",
              "      <td>AB+</td>\n",
              "    </tr>\n",
              "    <tr>\n",
              "      <th>7</th>\n",
              "      <td>AB-</td>\n",
              "    </tr>\n",
              "  </tbody>\n",
              "</table>\n",
              "</div>"
            ],
            "text/plain": [
              "  blood_type\n",
              "0         O-\n",
              "1         O+\n",
              "2         A-\n",
              "3         A+\n",
              "4         B+\n",
              "5         B-\n",
              "6        AB+\n",
              "7        AB-"
            ]
          },
          "execution_count": 4,
          "metadata": {},
          "output_type": "execute_result"
        }
      ],
      "source": [
        "categories"
      ]
    },
    {
      "cell_type": "markdown",
      "metadata": {
        "id": "_JudeA-T8ILI"
      },
      "source": [
        "We can check for errors with using joins.\n",
        "\n",
        "![](images/joins.png)"
      ]
    },
    {
      "cell_type": "markdown",
      "metadata": {
        "id": "mwsEpZ5j8ILJ"
      },
      "source": [
        "**So a left anti join between study and categories would give us this:**\n",
        "\n",
        "![](images/antijoin.png)"
      ]
    },
    {
      "cell_type": "markdown",
      "metadata": {
        "id": "FFNnG25Q8ILJ"
      },
      "source": [
        "**An inner join between study and category would give us:**\n",
        "\n",
        "![](images/innerjoin.png)"
      ]
    },
    {
      "cell_type": "markdown",
      "metadata": {
        "id": "gJjqjbKU8ILK"
      },
      "source": [
        "**Let's do this in python**\n",
        "\n",
        "**`.set()`**  \n",
        "**`.difference()`**\n",
        "\n",
        "[Geeks for Geeks](https://www.geeksforgeeks.org/python-set-difference/)\n",
        "\n",
        "*Note: these are from python not pandas*"
      ]
    },
    {
      "cell_type": "code",
      "execution_count": null,
      "metadata": {
        "tags": [],
        "id": "wuTCL-Qf8ILK",
        "outputId": "dddb1a07-a232-40c8-dfe6-cda5008174dd"
      },
      "outputs": [
        {
          "data": {
            "text/plain": [
              "{'A+', 'A-', 'AB+', 'B-', 'O+', 'O-', 'Z+'}"
            ]
          },
          "execution_count": 5,
          "metadata": {},
          "output_type": "execute_result"
        }
      ],
      "source": [
        "set(study['blood_type'])"
      ]
    },
    {
      "cell_type": "markdown",
      "metadata": {
        "id": "oA10Pzru8ILK"
      },
      "source": [
        "Find inconsistent categories in study_data: remove all blood_data from blood_type\n",
        "\n",
        "Use the method set(...).difference(...)\n",
        "\n",
        "[.difference()](https://www.geeksforgeeks.org/python-set-difference/#)"
      ]
    },
    {
      "cell_type": "code",
      "execution_count": null,
      "metadata": {
        "tags": [],
        "id": "QCz2PQDq8ILL",
        "outputId": "c925ce01-7824-4a57-a421-71be3155af84"
      },
      "outputs": [
        {
          "data": {
            "text/plain": [
              "{'Z+'}"
            ]
          },
          "execution_count": 6,
          "metadata": {},
          "output_type": "execute_result"
        }
      ],
      "source": [
        "\n",
        "\n",
        "inconsistent_categories = set(......).difference(...........)\n",
        "inconsistent_categories"
      ]
    },
    {
      "cell_type": "code",
      "execution_count": null,
      "metadata": {
        "tags": [],
        "id": "vIkZDaM-8ILL",
        "outputId": "6e355c8d-13e1-4511-d80b-fca77ac9f2cf"
      },
      "outputs": [
        {
          "data": {
            "text/plain": [
              "0     B-\n",
              "1     A-\n",
              "2     O+\n",
              "3     O-\n",
              "4     Z+\n",
              "5     A+\n",
              "6    AB+\n",
              "Name: blood_type, dtype: object"
            ]
          },
          "execution_count": 7,
          "metadata": {},
          "output_type": "execute_result"
        }
      ],
      "source": [
        "study['blood_type']"
      ]
    },
    {
      "cell_type": "markdown",
      "metadata": {
        "id": "f1k7WhgO8ILM"
      },
      "source": [
        "Use .isin(....)\n",
        "to check which blood_types are in inconsistent_categories"
      ]
    },
    {
      "cell_type": "code",
      "execution_count": null,
      "metadata": {
        "tags": [],
        "id": "VZaKA2ZL8ILM",
        "outputId": "bd19d0e1-530c-4674-83a2-fb0ad87197b7"
      },
      "outputs": [
        {
          "data": {
            "text/plain": [
              "0    False\n",
              "1    False\n",
              "2    False\n",
              "3    False\n",
              "4     True\n",
              "5    False\n",
              "6    False\n",
              "Name: blood_type, dtype: bool"
            ]
          },
          "execution_count": 8,
          "metadata": {},
          "output_type": "execute_result"
        }
      ],
      "source": []
    },
    {
      "cell_type": "code",
      "execution_count": null,
      "metadata": {
        "id": "gI0xuVEV8ILM"
      },
      "outputs": [],
      "source": [
        "find inconsistent rows"
      ]
    },
    {
      "cell_type": "code",
      "execution_count": null,
      "metadata": {
        "tags": [],
        "id": "XNAHxBzD8ILN"
      },
      "outputs": [],
      "source": [
        "#\n",
        "\n",
        "inconsistent_rows =  # gives a boolean series\n",
        "inconsistent_rows"
      ]
    },
    {
      "cell_type": "code",
      "execution_count": null,
      "metadata": {
        "id": "zq56zwPo8ILN"
      },
      "outputs": [],
      "source": [
        "Show the inconsistent rows of study"
      ]
    },
    {
      "cell_type": "code",
      "execution_count": null,
      "metadata": {
        "tags": [],
        "id": "FofSjxBs8ILN",
        "outputId": "7bef8484-6c44-4416-c630-0f4da849b73b"
      },
      "outputs": [
        {
          "data": {
            "text/html": [
              "<div>\n",
              "<style scoped>\n",
              "    .dataframe tbody tr th:only-of-type {\n",
              "        vertical-align: middle;\n",
              "    }\n",
              "\n",
              "    .dataframe tbody tr th {\n",
              "        vertical-align: top;\n",
              "    }\n",
              "\n",
              "    .dataframe thead th {\n",
              "        text-align: right;\n",
              "    }\n",
              "</style>\n",
              "<table border=\"1\" class=\"dataframe\">\n",
              "  <thead>\n",
              "    <tr style=\"text-align: right;\">\n",
              "      <th></th>\n",
              "      <th>name</th>\n",
              "      <th>birthday</th>\n",
              "      <th>blood_type</th>\n",
              "    </tr>\n",
              "  </thead>\n",
              "  <tbody>\n",
              "    <tr>\n",
              "      <th>4</th>\n",
              "      <td>Keith</td>\n",
              "      <td>12/17/19</td>\n",
              "      <td>Z+</td>\n",
              "    </tr>\n",
              "  </tbody>\n",
              "</table>\n",
              "</div>"
            ],
            "text/plain": [
              "    name birthday  blood_type\n",
              "4  Keith  12/17/19         Z+"
            ]
          },
          "execution_count": 9,
          "metadata": {},
          "output_type": "execute_result"
        }
      ],
      "source": [
        "# subset study dataframe based on boolean values\n"
      ]
    },
    {
      "cell_type": "markdown",
      "metadata": {
        "id": "jTaePJVL8ILO"
      },
      "source": [
        "Show rows of study which are NOT inconsistent. Use ~"
      ]
    },
    {
      "cell_type": "code",
      "execution_count": null,
      "metadata": {
        "tags": [],
        "id": "Qu0p59kS8ILO",
        "outputId": "e687c119-dde9-43f7-ae7d-2a10462929b8"
      },
      "outputs": [
        {
          "data": {
            "text/plain": [
              "0     True\n",
              "1     True\n",
              "2     True\n",
              "3     True\n",
              "4    False\n",
              "5     True\n",
              "6     True\n",
              "Name: blood_type, dtype: bool"
            ]
          },
          "execution_count": 10,
          "metadata": {},
          "output_type": "execute_result"
        }
      ],
      "source": [
        "# give a boolean series\n"
      ]
    },
    {
      "cell_type": "markdown",
      "metadata": {
        "id": "26RSAWET8ILP"
      },
      "source": [
        "Drop inconsistent rows from **study**. Use ~"
      ]
    },
    {
      "cell_type": "code",
      "execution_count": null,
      "metadata": {
        "id": "n_NfZCUp8ILP",
        "outputId": "ecf23422-9400-4844-a85d-7772b49cbcdb"
      },
      "outputs": [
        {
          "data": {
            "text/html": [
              "<div>\n",
              "<style scoped>\n",
              "    .dataframe tbody tr th:only-of-type {\n",
              "        vertical-align: middle;\n",
              "    }\n",
              "\n",
              "    .dataframe tbody tr th {\n",
              "        vertical-align: top;\n",
              "    }\n",
              "\n",
              "    .dataframe thead th {\n",
              "        text-align: right;\n",
              "    }\n",
              "</style>\n",
              "<table border=\"1\" class=\"dataframe\">\n",
              "  <thead>\n",
              "    <tr style=\"text-align: right;\">\n",
              "      <th></th>\n",
              "      <th>name</th>\n",
              "      <th>birthday</th>\n",
              "      <th>blood_type</th>\n",
              "    </tr>\n",
              "  </thead>\n",
              "  <tbody>\n",
              "    <tr>\n",
              "      <th>0</th>\n",
              "      <td>Beth</td>\n",
              "      <td>10/20/19</td>\n",
              "      <td>B-</td>\n",
              "    </tr>\n",
              "    <tr>\n",
              "      <th>1</th>\n",
              "      <td>Paul</td>\n",
              "      <td>7/8/20</td>\n",
              "      <td>A-</td>\n",
              "    </tr>\n",
              "    <tr>\n",
              "      <th>2</th>\n",
              "      <td>Helen</td>\n",
              "      <td>8/12/19</td>\n",
              "      <td>O+</td>\n",
              "    </tr>\n",
              "    <tr>\n",
              "      <th>3</th>\n",
              "      <td>Jennifer</td>\n",
              "      <td>3/17/19</td>\n",
              "      <td>O-</td>\n",
              "    </tr>\n",
              "    <tr>\n",
              "      <th>5</th>\n",
              "      <td>Kelly</td>\n",
              "      <td>4/27/20</td>\n",
              "      <td>A+</td>\n",
              "    </tr>\n",
              "    <tr>\n",
              "      <th>6</th>\n",
              "      <td>Rachel</td>\n",
              "      <td>4/19/19</td>\n",
              "      <td>AB+</td>\n",
              "    </tr>\n",
              "  </tbody>\n",
              "</table>\n",
              "</div>"
            ],
            "text/plain": [
              "       name birthday  blood_type\n",
              "0      Beth  10/20/19         B-\n",
              "1      Paul    7/8/20         A-\n",
              "2     Helen   8/12/19         O+\n",
              "3  Jennifer   3/17/19         O-\n",
              "5     Kelly   4/27/20         A+\n",
              "6    Rachel   4/19/19        AB+"
            ]
          },
          "execution_count": 11,
          "metadata": {},
          "output_type": "execute_result"
        }
      ],
      "source": [
        "# drop inconsistent rows\n",
        "consistent_data =\n",
        "consistent_data"
      ]
    },
    {
      "cell_type": "markdown",
      "metadata": {
        "id": "TJpSVMQk8ILP"
      },
      "source": [
        "### Fixing value inconsistency"
      ]
    },
    {
      "cell_type": "code",
      "execution_count": null,
      "metadata": {
        "tags": [],
        "id": "UBjLJvZA8ILQ"
      },
      "outputs": [],
      "source": [
        "# import `marriage_status` dataset\n",
        "marriage = pd.read_csv('data/marriage_status.csv')"
      ]
    },
    {
      "cell_type": "code",
      "execution_count": null,
      "metadata": {
        "tags": [],
        "id": "z6mMqGSU8ILQ",
        "outputId": "84747776-c007-4f77-b01c-ea78ee61a44a"
      },
      "outputs": [
        {
          "data": {
            "text/html": [
              "<div>\n",
              "<style scoped>\n",
              "    .dataframe tbody tr th:only-of-type {\n",
              "        vertical-align: middle;\n",
              "    }\n",
              "\n",
              "    .dataframe tbody tr th {\n",
              "        vertical-align: top;\n",
              "    }\n",
              "\n",
              "    .dataframe thead th {\n",
              "        text-align: right;\n",
              "    }\n",
              "</style>\n",
              "<table border=\"1\" class=\"dataframe\">\n",
              "  <thead>\n",
              "    <tr style=\"text-align: right;\">\n",
              "      <th></th>\n",
              "      <th>marriage_status</th>\n",
              "    </tr>\n",
              "  </thead>\n",
              "  <tbody>\n",
              "    <tr>\n",
              "      <th>0</th>\n",
              "      <td>divorced</td>\n",
              "    </tr>\n",
              "    <tr>\n",
              "      <th>1</th>\n",
              "      <td>separated</td>\n",
              "    </tr>\n",
              "    <tr>\n",
              "      <th>2</th>\n",
              "      <td>married</td>\n",
              "    </tr>\n",
              "    <tr>\n",
              "      <th>3</th>\n",
              "      <td>UNMARRIED</td>\n",
              "    </tr>\n",
              "    <tr>\n",
              "      <th>4</th>\n",
              "      <td>MARRIED</td>\n",
              "    </tr>\n",
              "    <tr>\n",
              "      <th>5</th>\n",
              "      <td>MARRIED</td>\n",
              "    </tr>\n",
              "    <tr>\n",
              "      <th>6</th>\n",
              "      <td>married</td>\n",
              "    </tr>\n",
              "    <tr>\n",
              "      <th>7</th>\n",
              "      <td>unmarried</td>\n",
              "    </tr>\n",
              "    <tr>\n",
              "      <th>8</th>\n",
              "      <td>UNMARRIED</td>\n",
              "    </tr>\n",
              "    <tr>\n",
              "      <th>9</th>\n",
              "      <td>divorced</td>\n",
              "    </tr>\n",
              "    <tr>\n",
              "      <th>10</th>\n",
              "      <td>married</td>\n",
              "    </tr>\n",
              "    <tr>\n",
              "      <th>11</th>\n",
              "      <td>separated</td>\n",
              "    </tr>\n",
              "    <tr>\n",
              "      <th>12</th>\n",
              "      <td>married</td>\n",
              "    </tr>\n",
              "    <tr>\n",
              "      <th>13</th>\n",
              "      <td>UNMARRIED</td>\n",
              "    </tr>\n",
              "    <tr>\n",
              "      <th>14</th>\n",
              "      <td>unmarried</td>\n",
              "    </tr>\n",
              "    <tr>\n",
              "      <th>15</th>\n",
              "      <td>divorced</td>\n",
              "    </tr>\n",
              "    <tr>\n",
              "      <th>16</th>\n",
              "      <td>married</td>\n",
              "    </tr>\n",
              "    <tr>\n",
              "      <th>17</th>\n",
              "      <td>separated</td>\n",
              "    </tr>\n",
              "    <tr>\n",
              "      <th>18</th>\n",
              "      <td>unmarried</td>\n",
              "    </tr>\n",
              "    <tr>\n",
              "      <th>19</th>\n",
              "      <td>unmarried</td>\n",
              "    </tr>\n",
              "    <tr>\n",
              "      <th>20</th>\n",
              "      <td>married</td>\n",
              "    </tr>\n",
              "  </tbody>\n",
              "</table>\n",
              "</div>"
            ],
            "text/plain": [
              "   marriage_status\n",
              "0         divorced\n",
              "1        separated\n",
              "2          married\n",
              "3        UNMARRIED\n",
              "4          MARRIED\n",
              "5          MARRIED\n",
              "6          married\n",
              "7        unmarried\n",
              "8        UNMARRIED\n",
              "9         divorced\n",
              "10         married\n",
              "11       separated\n",
              "12         married\n",
              "13       UNMARRIED\n",
              "14       unmarried\n",
              "15        divorced\n",
              "16         married\n",
              "17       separated\n",
              "18       unmarried\n",
              "19       unmarried\n",
              "20         married"
            ]
          },
          "execution_count": 13,
          "metadata": {},
          "output_type": "execute_result"
        }
      ],
      "source": [
        "marriage#.head()"
      ]
    },
    {
      "cell_type": "code",
      "execution_count": null,
      "metadata": {
        "tags": [],
        "id": "mIQEoEMv8ILQ",
        "outputId": "5e074957-43ad-4171-f455-fec29b53c614"
      },
      "outputs": [
        {
          "data": {
            "text/plain": [
              "(21, 1)"
            ]
          },
          "execution_count": 14,
          "metadata": {},
          "output_type": "execute_result"
        }
      ],
      "source": [
        "marriage.shape"
      ]
    },
    {
      "cell_type": "markdown",
      "metadata": {
        "id": "FVjvBFnf8ILR"
      },
      "source": [
        "How many are there for each label? Use [.value_counts()](https://pandas.pydata.org/pandas-docs/stable/reference/api/pandas.DataFrame.value_counts.html)"
      ]
    },
    {
      "cell_type": "code",
      "execution_count": null,
      "metadata": {
        "tags": [],
        "id": "M9qRGk3U8ILR",
        "outputId": "f33f1705-8b7a-42f9-c30b-2f6dd98cb852"
      },
      "outputs": [
        {
          "data": {
            "text/plain": [
              "marriage_status\n",
              "married      6\n",
              "unmarried    4\n",
              "divorced     3\n",
              "separated    3\n",
              "UNMARRIED    3\n",
              "MARRIED      2\n",
              "Name: count, dtype: int64"
            ]
          },
          "execution_count": 15,
          "metadata": {},
          "output_type": "execute_result"
        }
      ],
      "source": []
    },
    {
      "cell_type": "markdown",
      "metadata": {
        "id": "j2PnRSJr8ILR"
      },
      "source": [
        "For this example we can either capitalize or lowercase the values:\n",
        "\n",
        "[str.upper()](https://docs.python.org/3.8/library/stdtypes.html#str.upper)\n",
        "\n",
        "[str.lower()](https://docs.python.org/3.8/library/stdtypes.html#str.lower)"
      ]
    },
    {
      "cell_type": "code",
      "execution_count": null,
      "metadata": {
        "tags": [],
        "id": "a-kJJZml8ILS",
        "outputId": "d5c7ffb2-f174-44a5-c7f1-8d3f75e067cb"
      },
      "outputs": [
        {
          "data": {
            "text/plain": [
              "marriage_status\n",
              "MARRIED      8\n",
              "UNMARRIED    7\n",
              "DIVORCED     3\n",
              "SEPARATED    3\n",
              "Name: count, dtype: int64"
            ]
          },
          "execution_count": 16,
          "metadata": {},
          "output_type": "execute_result"
        }
      ],
      "source": [
        "# Capitalize\n",
        "marriage['marriage_status'] =\n",
        "marriage['marriage_status'].value_counts()"
      ]
    },
    {
      "cell_type": "code",
      "execution_count": null,
      "metadata": {
        "tags": [],
        "id": "PBxIs8o68ILT",
        "outputId": "d36775a0-621c-4afe-ce25-3e297f2425a0"
      },
      "outputs": [
        {
          "data": {
            "text/plain": [
              "marriage_status\n",
              "married      8\n",
              "unmarried    7\n",
              "divorced     3\n",
              "separated    3\n",
              "Name: count, dtype: int64"
            ]
          },
          "execution_count": 17,
          "metadata": {},
          "output_type": "execute_result"
        }
      ],
      "source": [
        "# Lowercase\n",
        "marriage['marriage_status'] =\n",
        "marriage['marriage_status'].value_counts()\n"
      ]
    },
    {
      "cell_type": "markdown",
      "metadata": {
        "id": "IMX8RuZ78ILT"
      },
      "source": [
        "### Collapsing data into categories\n",
        "\n",
        "* Often we will need to distill continuous data into categories\n",
        "* Categories should have evidence-based backing behing them\n",
        "* Categories can increase interpretability but can also lose valuable information"
      ]
    },
    {
      "cell_type": "code",
      "execution_count": null,
      "metadata": {
        "tags": [],
        "id": "v1Zr7A_Z8ILU",
        "outputId": "949fcc5c-2fc9-43f0-f774-6b65b5d02bbf"
      },
      "outputs": [
        {
          "data": {
            "text/html": [
              "<div>\n",
              "<style scoped>\n",
              "    .dataframe tbody tr th:only-of-type {\n",
              "        vertical-align: middle;\n",
              "    }\n",
              "\n",
              "    .dataframe tbody tr th {\n",
              "        vertical-align: top;\n",
              "    }\n",
              "\n",
              "    .dataframe thead th {\n",
              "        text-align: right;\n",
              "    }\n",
              "</style>\n",
              "<table border=\"1\" class=\"dataframe\">\n",
              "  <thead>\n",
              "    <tr style=\"text-align: right;\">\n",
              "      <th></th>\n",
              "      <th>household_income</th>\n",
              "    </tr>\n",
              "  </thead>\n",
              "  <tbody>\n",
              "    <tr>\n",
              "      <th>0</th>\n",
              "      <td>88000</td>\n",
              "    </tr>\n",
              "    <tr>\n",
              "      <th>1</th>\n",
              "      <td>47000</td>\n",
              "    </tr>\n",
              "    <tr>\n",
              "      <th>2</th>\n",
              "      <td>155000</td>\n",
              "    </tr>\n",
              "    <tr>\n",
              "      <th>3</th>\n",
              "      <td>147000</td>\n",
              "    </tr>\n",
              "    <tr>\n",
              "      <th>4</th>\n",
              "      <td>250000</td>\n",
              "    </tr>\n",
              "    <tr>\n",
              "      <th>5</th>\n",
              "      <td>107000</td>\n",
              "    </tr>\n",
              "    <tr>\n",
              "      <th>6</th>\n",
              "      <td>700000</td>\n",
              "    </tr>\n",
              "    <tr>\n",
              "      <th>7</th>\n",
              "      <td>120000</td>\n",
              "    </tr>\n",
              "    <tr>\n",
              "      <th>8</th>\n",
              "      <td>90000</td>\n",
              "    </tr>\n",
              "    <tr>\n",
              "      <th>9</th>\n",
              "      <td>33000</td>\n",
              "    </tr>\n",
              "    <tr>\n",
              "      <th>10</th>\n",
              "      <td>55000</td>\n",
              "    </tr>\n",
              "  </tbody>\n",
              "</table>\n",
              "</div>"
            ],
            "text/plain": [
              "    household_income\n",
              "0              88000\n",
              "1              47000\n",
              "2             155000\n",
              "3             147000\n",
              "4             250000\n",
              "5             107000\n",
              "6             700000\n",
              "7             120000\n",
              "8              90000\n",
              "9              33000\n",
              "10             55000"
            ]
          },
          "execution_count": 18,
          "metadata": {},
          "output_type": "execute_result"
        }
      ],
      "source": [
        "income = pd.read_csv('data/income.csv')\n",
        "income"
      ]
    },
    {
      "cell_type": "markdown",
      "metadata": {
        "id": "e0fDoq5T8ILV"
      },
      "source": [
        "[**`.qcut()`**](https://pandas.pydata.org/pandas-docs/stable/reference/api/pandas.qcut.html) ($\\leftarrow$ it's a link)\n",
        "\n",
        "* automatically divides data into categories based on the argument `q` and the distribution of data\n",
        "\n",
        "cut household_income in 3 groups with group_names = ['0-100K', '100K-500K', '500K+']\n"
      ]
    },
    {
      "cell_type": "code",
      "execution_count": null,
      "metadata": {
        "tags": [],
        "id": "2fHCLfJp8ILW"
      },
      "outputs": [],
      "source": [
        "group_names =\n",
        "income['income_group'] = pd.qcut(income['household_income'], q = ...,\n",
        "                                     labels = ........)\n",
        "income"
      ]
    },
    {
      "cell_type": "markdown",
      "metadata": {
        "id": "5vWvKfsy8ILW"
      },
      "source": [
        "Is it correct?"
      ]
    },
    {
      "cell_type": "code",
      "execution_count": null,
      "metadata": {
        "tags": [],
        "id": "iRIYuy2B8ILW",
        "outputId": "c0e7a6bd-7726-49e1-806c-3a19901928f9"
      },
      "outputs": [
        {
          "data": {
            "text/plain": [
              "income_group\n",
              "0-100K       4\n",
              "500K+        4\n",
              "100K-500K    3\n",
              "Name: count, dtype: int64"
            ]
          },
          "execution_count": 44,
          "metadata": {},
          "output_type": "execute_result"
        }
      ],
      "source": [
        "income['income_group'].value_counts()"
      ]
    },
    {
      "cell_type": "markdown",
      "metadata": {
        "id": "MxhBJLxT8ILX"
      },
      "source": [
        "We can also use [**`.cut()`**](https://pandas.pydata.org/pandas-docs/stable/reference/api/pandas.cut.html)\n",
        "\n",
        "* Allows you to use categories cut-off ranges with the `bins` argument"
      ]
    },
    {
      "cell_type": "code",
      "execution_count": null,
      "metadata": {
        "tags": [],
        "id": "HC1BAbLx8ILX",
        "outputId": "b5fc562c-bf4e-42ff-aadb-5029b8aa35d4"
      },
      "outputs": [
        {
          "data": {
            "text/html": [
              "<div>\n",
              "<style scoped>\n",
              "    .dataframe tbody tr th:only-of-type {\n",
              "        vertical-align: middle;\n",
              "    }\n",
              "\n",
              "    .dataframe tbody tr th {\n",
              "        vertical-align: top;\n",
              "    }\n",
              "\n",
              "    .dataframe thead th {\n",
              "        text-align: right;\n",
              "    }\n",
              "</style>\n",
              "<table border=\"1\" class=\"dataframe\">\n",
              "  <thead>\n",
              "    <tr style=\"text-align: right;\">\n",
              "      <th></th>\n",
              "      <th>income_group</th>\n",
              "      <th>household_income</th>\n",
              "    </tr>\n",
              "  </thead>\n",
              "  <tbody>\n",
              "    <tr>\n",
              "      <th>0</th>\n",
              "      <td>0-100K</td>\n",
              "      <td>88000</td>\n",
              "    </tr>\n",
              "    <tr>\n",
              "      <th>1</th>\n",
              "      <td>0-100K</td>\n",
              "      <td>47000</td>\n",
              "    </tr>\n",
              "    <tr>\n",
              "      <th>2</th>\n",
              "      <td>100K-500K</td>\n",
              "      <td>155000</td>\n",
              "    </tr>\n",
              "    <tr>\n",
              "      <th>3</th>\n",
              "      <td>100K-500K</td>\n",
              "      <td>147000</td>\n",
              "    </tr>\n",
              "    <tr>\n",
              "      <th>4</th>\n",
              "      <td>100K-500K</td>\n",
              "      <td>250000</td>\n",
              "    </tr>\n",
              "    <tr>\n",
              "      <th>5</th>\n",
              "      <td>100K-500K</td>\n",
              "      <td>107000</td>\n",
              "    </tr>\n",
              "    <tr>\n",
              "      <th>6</th>\n",
              "      <td>500K+</td>\n",
              "      <td>700000</td>\n",
              "    </tr>\n",
              "    <tr>\n",
              "      <th>7</th>\n",
              "      <td>100K-500K</td>\n",
              "      <td>120000</td>\n",
              "    </tr>\n",
              "    <tr>\n",
              "      <th>8</th>\n",
              "      <td>0-100K</td>\n",
              "      <td>90000</td>\n",
              "    </tr>\n",
              "    <tr>\n",
              "      <th>9</th>\n",
              "      <td>0-100K</td>\n",
              "      <td>33000</td>\n",
              "    </tr>\n",
              "    <tr>\n",
              "      <th>10</th>\n",
              "      <td>0-100K</td>\n",
              "      <td>55000</td>\n",
              "    </tr>\n",
              "  </tbody>\n",
              "</table>\n",
              "</div>"
            ],
            "text/plain": [
              "   income_group  household_income\n",
              "0        0-100K             88000\n",
              "1        0-100K             47000\n",
              "2     100K-500K            155000\n",
              "3     100K-500K            147000\n",
              "4     100K-500K            250000\n",
              "5     100K-500K            107000\n",
              "6         500K+            700000\n",
              "7     100K-500K            120000\n",
              "8        0-100K             90000\n",
              "9        0-100K             33000\n",
              "10       0-100K             55000"
            ]
          },
          "execution_count": 20,
          "metadata": {},
          "output_type": "execute_result"
        }
      ],
      "source": [
        "ranges = [0, 100000, 500000, np.inf]\n",
        "group_names = ['0-100K', '100K-500K', '500K+']\n",
        "income['income_group'] = pd.cut(income['household_income'], bins = .....,\n",
        "                                     labels = ..........)\n",
        "\n",
        "income[['income_group', 'household_income']]"
      ]
    },
    {
      "cell_type": "markdown",
      "metadata": {
        "id": "lvxOrWk88ILY"
      },
      "source": [
        "## Map cateogories into fewer ones"
      ]
    },
    {
      "cell_type": "code",
      "execution_count": null,
      "metadata": {
        "tags": [],
        "id": "9hC8nrUV8ILZ",
        "outputId": "30a27f59-789b-42d8-8ac5-a61cdddbbb89"
      },
      "outputs": [
        {
          "data": {
            "text/html": [
              "<div>\n",
              "<style scoped>\n",
              "    .dataframe tbody tr th:only-of-type {\n",
              "        vertical-align: middle;\n",
              "    }\n",
              "\n",
              "    .dataframe tbody tr th {\n",
              "        vertical-align: top;\n",
              "    }\n",
              "\n",
              "    .dataframe thead th {\n",
              "        text-align: right;\n",
              "    }\n",
              "</style>\n",
              "<table border=\"1\" class=\"dataframe\">\n",
              "  <thead>\n",
              "    <tr style=\"text-align: right;\">\n",
              "      <th></th>\n",
              "      <th>operating_system</th>\n",
              "    </tr>\n",
              "  </thead>\n",
              "  <tbody>\n",
              "    <tr>\n",
              "      <th>0</th>\n",
              "      <td>Microsoft</td>\n",
              "    </tr>\n",
              "    <tr>\n",
              "      <th>1</th>\n",
              "      <td>MacOS</td>\n",
              "    </tr>\n",
              "    <tr>\n",
              "      <th>2</th>\n",
              "      <td>IOS</td>\n",
              "    </tr>\n",
              "    <tr>\n",
              "      <th>3</th>\n",
              "      <td>Android</td>\n",
              "    </tr>\n",
              "    <tr>\n",
              "      <th>4</th>\n",
              "      <td>Linux</td>\n",
              "    </tr>\n",
              "    <tr>\n",
              "      <th>5</th>\n",
              "      <td>Linux</td>\n",
              "    </tr>\n",
              "    <tr>\n",
              "      <th>6</th>\n",
              "      <td>IOS</td>\n",
              "    </tr>\n",
              "    <tr>\n",
              "      <th>7</th>\n",
              "      <td>Microsoft</td>\n",
              "    </tr>\n",
              "    <tr>\n",
              "      <th>8</th>\n",
              "      <td>Microsoft</td>\n",
              "    </tr>\n",
              "    <tr>\n",
              "      <th>9</th>\n",
              "      <td>MacOS</td>\n",
              "    </tr>\n",
              "    <tr>\n",
              "      <th>10</th>\n",
              "      <td>MacOS</td>\n",
              "    </tr>\n",
              "    <tr>\n",
              "      <th>11</th>\n",
              "      <td>MacOS</td>\n",
              "    </tr>\n",
              "    <tr>\n",
              "      <th>12</th>\n",
              "      <td>Linux</td>\n",
              "    </tr>\n",
              "    <tr>\n",
              "      <th>13</th>\n",
              "      <td>Linux</td>\n",
              "    </tr>\n",
              "    <tr>\n",
              "      <th>14</th>\n",
              "      <td>IOS</td>\n",
              "    </tr>\n",
              "    <tr>\n",
              "      <th>15</th>\n",
              "      <td>IOS</td>\n",
              "    </tr>\n",
              "    <tr>\n",
              "      <th>16</th>\n",
              "      <td>Android</td>\n",
              "    </tr>\n",
              "    <tr>\n",
              "      <th>17</th>\n",
              "      <td>Android</td>\n",
              "    </tr>\n",
              "    <tr>\n",
              "      <th>18</th>\n",
              "      <td>Microsoft</td>\n",
              "    </tr>\n",
              "    <tr>\n",
              "      <th>19</th>\n",
              "      <td>IOS</td>\n",
              "    </tr>\n",
              "  </tbody>\n",
              "</table>\n",
              "</div>"
            ],
            "text/plain": [
              "   operating_system\n",
              "0         Microsoft\n",
              "1             MacOS\n",
              "2               IOS\n",
              "3           Android\n",
              "4             Linux\n",
              "5             Linux\n",
              "6               IOS\n",
              "7         Microsoft\n",
              "8         Microsoft\n",
              "9             MacOS\n",
              "10            MacOS\n",
              "11            MacOS\n",
              "12            Linux\n",
              "13            Linux\n",
              "14              IOS\n",
              "15              IOS\n",
              "16          Android\n",
              "17          Android\n",
              "18        Microsoft\n",
              "19              IOS"
            ]
          },
          "execution_count": 21,
          "metadata": {},
          "output_type": "execute_result"
        }
      ],
      "source": [
        "computer = pd.read_csv('data/computer.csv')\n",
        "computer"
      ]
    },
    {
      "cell_type": "markdown",
      "metadata": {
        "id": "FzUhAqWe8ILZ"
      },
      "source": [
        "We want to collapse the `operating system` column into `'DesktopOS', 'MobileOS'`"
      ]
    },
    {
      "cell_type": "code",
      "execution_count": null,
      "metadata": {
        "tags": [],
        "id": "qHNRwFdT8ILa"
      },
      "outputs": [],
      "source": [
        "# create dictionary\n",
        "mapping = {'Microsoft': 'DesktopOS', 'MacOS': 'DesktopOS', 'Linux': 'DesktopOS', 'IOS': 'MobileOS', 'Android': 'MobileOS'}"
      ]
    },
    {
      "cell_type": "markdown",
      "metadata": {
        "id": "2glpN31E8ILa"
      },
      "source": [
        "use [`.replace`](https://pandas.pydata.org/pandas-docs/stable/reference/api/pandas.DataFrame.replace.html) ($\\leftarrow$ it's a link)\n"
      ]
    },
    {
      "cell_type": "code",
      "execution_count": null,
      "metadata": {
        "tags": [],
        "id": "1MMaKYOZ8ILb",
        "outputId": "8b9a661e-97d9-4686-df1d-49d78967d393"
      },
      "outputs": [
        {
          "data": {
            "text/plain": [
              "array(['DesktopOS', 'MobileOS'], dtype=object)"
            ]
          },
          "execution_count": 22,
          "metadata": {},
          "output_type": "execute_result"
        }
      ],
      "source": [
        "computer['operating_system_category'] =\n",
        "computer['operating_system_category'].unique()"
      ]
    },
    {
      "cell_type": "code",
      "execution_count": null,
      "metadata": {
        "tags": [],
        "id": "zdn9ICY88ILb",
        "outputId": "6ed6eded-1175-4b69-bcc9-e692098bcf32"
      },
      "outputs": [
        {
          "data": {
            "text/html": [
              "<div>\n",
              "<style scoped>\n",
              "    .dataframe tbody tr th:only-of-type {\n",
              "        vertical-align: middle;\n",
              "    }\n",
              "\n",
              "    .dataframe tbody tr th {\n",
              "        vertical-align: top;\n",
              "    }\n",
              "\n",
              "    .dataframe thead th {\n",
              "        text-align: right;\n",
              "    }\n",
              "</style>\n",
              "<table border=\"1\" class=\"dataframe\">\n",
              "  <thead>\n",
              "    <tr style=\"text-align: right;\">\n",
              "      <th></th>\n",
              "      <th>operating_system</th>\n",
              "      <th>operating_system_category</th>\n",
              "    </tr>\n",
              "  </thead>\n",
              "  <tbody>\n",
              "    <tr>\n",
              "      <th>0</th>\n",
              "      <td>Microsoft</td>\n",
              "      <td>DesktopOS</td>\n",
              "    </tr>\n",
              "    <tr>\n",
              "      <th>1</th>\n",
              "      <td>MacOS</td>\n",
              "      <td>DesktopOS</td>\n",
              "    </tr>\n",
              "    <tr>\n",
              "      <th>2</th>\n",
              "      <td>IOS</td>\n",
              "      <td>MobileOS</td>\n",
              "    </tr>\n",
              "    <tr>\n",
              "      <th>3</th>\n",
              "      <td>Android</td>\n",
              "      <td>MobileOS</td>\n",
              "    </tr>\n",
              "    <tr>\n",
              "      <th>4</th>\n",
              "      <td>Linux</td>\n",
              "      <td>DesktopOS</td>\n",
              "    </tr>\n",
              "  </tbody>\n",
              "</table>\n",
              "</div>"
            ],
            "text/plain": [
              "  operating_system operating_system_category\n",
              "0        Microsoft                 DesktopOS\n",
              "1            MacOS                 DesktopOS\n",
              "2              IOS                  MobileOS\n",
              "3          Android                  MobileOS\n",
              "4            Linux                 DesktopOS"
            ]
          },
          "execution_count": 23,
          "metadata": {},
          "output_type": "execute_result"
        }
      ],
      "source": [
        "computer.head()"
      ]
    },
    {
      "cell_type": "markdown",
      "metadata": {
        "id": "aPnYe7nU8ILc"
      },
      "source": [
        "## Text Data\n",
        "\n",
        "* Common type of data\n",
        "\n",
        "* Common text data problems are:\n",
        "1) data inconsistency\n",
        "2) fixed length violations\n",
        "3) typos"
      ]
    },
    {
      "cell_type": "code",
      "execution_count": null,
      "metadata": {
        "tags": [],
        "id": "OvJZAoGW8ILc",
        "outputId": "390b69b2-0192-48c8-eba4-fe4ba11517af"
      },
      "outputs": [
        {
          "data": {
            "text/html": [
              "<div>\n",
              "<style scoped>\n",
              "    .dataframe tbody tr th:only-of-type {\n",
              "        vertical-align: middle;\n",
              "    }\n",
              "\n",
              "    .dataframe tbody tr th {\n",
              "        vertical-align: top;\n",
              "    }\n",
              "\n",
              "    .dataframe thead th {\n",
              "        text-align: right;\n",
              "    }\n",
              "</style>\n",
              "<table border=\"1\" class=\"dataframe\">\n",
              "  <thead>\n",
              "    <tr style=\"text-align: right;\">\n",
              "      <th></th>\n",
              "      <th>full_name</th>\n",
              "      <th>phone_number</th>\n",
              "    </tr>\n",
              "  </thead>\n",
              "  <tbody>\n",
              "    <tr>\n",
              "      <th>0</th>\n",
              "      <td>Noelani A. Gray</td>\n",
              "      <td>001-702-397-5143</td>\n",
              "    </tr>\n",
              "    <tr>\n",
              "      <th>1</th>\n",
              "      <td>Myles Z. Gomez</td>\n",
              "      <td>001-329-485-0540</td>\n",
              "    </tr>\n",
              "    <tr>\n",
              "      <th>2</th>\n",
              "      <td>Gil B. Silva</td>\n",
              "      <td>001-195-492-2338</td>\n",
              "    </tr>\n",
              "    <tr>\n",
              "      <th>3</th>\n",
              "      <td>Prescott D. Hardin</td>\n",
              "      <td>+1-297-996-4904</td>\n",
              "    </tr>\n",
              "    <tr>\n",
              "      <th>4</th>\n",
              "      <td>Benedict G. Valdex</td>\n",
              "      <td>001-969-820-3536</td>\n",
              "    </tr>\n",
              "    <tr>\n",
              "      <th>5</th>\n",
              "      <td>Reece M. Andrews</td>\n",
              "      <td>4138</td>\n",
              "    </tr>\n",
              "    <tr>\n",
              "      <th>6</th>\n",
              "      <td>Hayfa E. Keith</td>\n",
              "      <td>001-536-175-8444</td>\n",
              "    </tr>\n",
              "    <tr>\n",
              "      <th>7</th>\n",
              "      <td>Hedley I. Logan</td>\n",
              "      <td>001-681-552-1823</td>\n",
              "    </tr>\n",
              "    <tr>\n",
              "      <th>8</th>\n",
              "      <td>Jack W. Carrillo</td>\n",
              "      <td>001-910-323-5265</td>\n",
              "    </tr>\n",
              "    <tr>\n",
              "      <th>9</th>\n",
              "      <td>Lionel M. Davis</td>\n",
              "      <td>001-143-119-9210</td>\n",
              "    </tr>\n",
              "  </tbody>\n",
              "</table>\n",
              "</div>"
            ],
            "text/plain": [
              "            full_name      phone_number\n",
              "0     Noelani A. Gray  001-702-397-5143\n",
              "1      Myles Z. Gomez  001-329-485-0540\n",
              "2        Gil B. Silva  001-195-492-2338\n",
              "3  Prescott D. Hardin   +1-297-996-4904\n",
              "4  Benedict G. Valdex  001-969-820-3536\n",
              "5    Reece M. Andrews              4138\n",
              "6      Hayfa E. Keith  001-536-175-8444\n",
              "7     Hedley I. Logan  001-681-552-1823\n",
              "8    Jack W. Carrillo  001-910-323-5265\n",
              "9     Lionel M. Davis  001-143-119-9210"
            ]
          },
          "execution_count": 45,
          "metadata": {},
          "output_type": "execute_result"
        }
      ],
      "source": [
        "phones = pd.read_csv('data/phone_numbers.csv')\n",
        "phones"
      ]
    },
    {
      "cell_type": "markdown",
      "metadata": {
        "id": "NKmSGq5w8ILd"
      },
      "source": [
        "Ideally we want to remove dashes, have each phone number start with the full country code, and remove phone numbers that don't have full values listed.\n",
        "\n",
        "Replace the '+' with '00'. Use [.str.replace(...)](https://pandas.pydata.org/pandas-docs/stable/reference/api/pandas.Series.str.replace.html)"
      ]
    },
    {
      "cell_type": "code",
      "execution_count": null,
      "metadata": {
        "tags": [],
        "id": "ylcHs4Tu8ILd",
        "outputId": "559e0d0a-d462-437a-a287-10c72a62d530"
      },
      "outputs": [
        {
          "data": {
            "text/html": [
              "<div>\n",
              "<style scoped>\n",
              "    .dataframe tbody tr th:only-of-type {\n",
              "        vertical-align: middle;\n",
              "    }\n",
              "\n",
              "    .dataframe tbody tr th {\n",
              "        vertical-align: top;\n",
              "    }\n",
              "\n",
              "    .dataframe thead th {\n",
              "        text-align: right;\n",
              "    }\n",
              "</style>\n",
              "<table border=\"1\" class=\"dataframe\">\n",
              "  <thead>\n",
              "    <tr style=\"text-align: right;\">\n",
              "      <th></th>\n",
              "      <th>full_name</th>\n",
              "      <th>phone_number</th>\n",
              "    </tr>\n",
              "  </thead>\n",
              "  <tbody>\n",
              "    <tr>\n",
              "      <th>0</th>\n",
              "      <td>Noelani A. Gray</td>\n",
              "      <td>001-702-397-5143</td>\n",
              "    </tr>\n",
              "    <tr>\n",
              "      <th>1</th>\n",
              "      <td>Myles Z. Gomez</td>\n",
              "      <td>001-329-485-0540</td>\n",
              "    </tr>\n",
              "    <tr>\n",
              "      <th>2</th>\n",
              "      <td>Gil B. Silva</td>\n",
              "      <td>001-195-492-2338</td>\n",
              "    </tr>\n",
              "    <tr>\n",
              "      <th>3</th>\n",
              "      <td>Prescott D. Hardin</td>\n",
              "      <td>001-297-996-4904</td>\n",
              "    </tr>\n",
              "    <tr>\n",
              "      <th>4</th>\n",
              "      <td>Benedict G. Valdex</td>\n",
              "      <td>001-969-820-3536</td>\n",
              "    </tr>\n",
              "    <tr>\n",
              "      <th>5</th>\n",
              "      <td>Reece M. Andrews</td>\n",
              "      <td>4138</td>\n",
              "    </tr>\n",
              "    <tr>\n",
              "      <th>6</th>\n",
              "      <td>Hayfa E. Keith</td>\n",
              "      <td>001-536-175-8444</td>\n",
              "    </tr>\n",
              "    <tr>\n",
              "      <th>7</th>\n",
              "      <td>Hedley I. Logan</td>\n",
              "      <td>001-681-552-1823</td>\n",
              "    </tr>\n",
              "    <tr>\n",
              "      <th>8</th>\n",
              "      <td>Jack W. Carrillo</td>\n",
              "      <td>001-910-323-5265</td>\n",
              "    </tr>\n",
              "    <tr>\n",
              "      <th>9</th>\n",
              "      <td>Lionel M. Davis</td>\n",
              "      <td>001-143-119-9210</td>\n",
              "    </tr>\n",
              "  </tbody>\n",
              "</table>\n",
              "</div>"
            ],
            "text/plain": [
              "            full_name      phone_number\n",
              "0     Noelani A. Gray  001-702-397-5143\n",
              "1      Myles Z. Gomez  001-329-485-0540\n",
              "2        Gil B. Silva  001-195-492-2338\n",
              "3  Prescott D. Hardin  001-297-996-4904\n",
              "4  Benedict G. Valdex  001-969-820-3536\n",
              "5    Reece M. Andrews              4138\n",
              "6      Hayfa E. Keith  001-536-175-8444\n",
              "7     Hedley I. Logan  001-681-552-1823\n",
              "8    Jack W. Carrillo  001-910-323-5265\n",
              "9     Lionel M. Davis  001-143-119-9210"
            ]
          },
          "execution_count": 25,
          "metadata": {},
          "output_type": "execute_result"
        }
      ],
      "source": [
        "\n",
        "phones['phone_number'] =\n",
        "phones"
      ]
    },
    {
      "cell_type": "markdown",
      "metadata": {
        "id": "tn2ge8BO8ILe"
      },
      "source": [
        "Replace the '-' with nothing"
      ]
    },
    {
      "cell_type": "code",
      "execution_count": null,
      "metadata": {
        "tags": [],
        "id": "uMaoPTm78ILe",
        "outputId": "cbcb5147-3cba-4b0f-9b0e-40cb37dc4565"
      },
      "outputs": [
        {
          "data": {
            "text/html": [
              "<div>\n",
              "<style scoped>\n",
              "    .dataframe tbody tr th:only-of-type {\n",
              "        vertical-align: middle;\n",
              "    }\n",
              "\n",
              "    .dataframe tbody tr th {\n",
              "        vertical-align: top;\n",
              "    }\n",
              "\n",
              "    .dataframe thead th {\n",
              "        text-align: right;\n",
              "    }\n",
              "</style>\n",
              "<table border=\"1\" class=\"dataframe\">\n",
              "  <thead>\n",
              "    <tr style=\"text-align: right;\">\n",
              "      <th></th>\n",
              "      <th>full_name</th>\n",
              "      <th>phone_number</th>\n",
              "    </tr>\n",
              "  </thead>\n",
              "  <tbody>\n",
              "    <tr>\n",
              "      <th>0</th>\n",
              "      <td>Noelani A. Gray</td>\n",
              "      <td>0017023975143</td>\n",
              "    </tr>\n",
              "    <tr>\n",
              "      <th>1</th>\n",
              "      <td>Myles Z. Gomez</td>\n",
              "      <td>0013294850540</td>\n",
              "    </tr>\n",
              "    <tr>\n",
              "      <th>2</th>\n",
              "      <td>Gil B. Silva</td>\n",
              "      <td>0011954922338</td>\n",
              "    </tr>\n",
              "    <tr>\n",
              "      <th>3</th>\n",
              "      <td>Prescott D. Hardin</td>\n",
              "      <td>+12979964904</td>\n",
              "    </tr>\n",
              "    <tr>\n",
              "      <th>4</th>\n",
              "      <td>Benedict G. Valdex</td>\n",
              "      <td>0019698203536</td>\n",
              "    </tr>\n",
              "    <tr>\n",
              "      <th>5</th>\n",
              "      <td>Reece M. Andrews</td>\n",
              "      <td>4138</td>\n",
              "    </tr>\n",
              "    <tr>\n",
              "      <th>6</th>\n",
              "      <td>Hayfa E. Keith</td>\n",
              "      <td>0015361758444</td>\n",
              "    </tr>\n",
              "    <tr>\n",
              "      <th>7</th>\n",
              "      <td>Hedley I. Logan</td>\n",
              "      <td>0016815521823</td>\n",
              "    </tr>\n",
              "    <tr>\n",
              "      <th>8</th>\n",
              "      <td>Jack W. Carrillo</td>\n",
              "      <td>0019103235265</td>\n",
              "    </tr>\n",
              "    <tr>\n",
              "      <th>9</th>\n",
              "      <td>Lionel M. Davis</td>\n",
              "      <td>0011431199210</td>\n",
              "    </tr>\n",
              "  </tbody>\n",
              "</table>\n",
              "</div>"
            ],
            "text/plain": [
              "            full_name   phone_number\n",
              "0     Noelani A. Gray  0017023975143\n",
              "1      Myles Z. Gomez  0013294850540\n",
              "2        Gil B. Silva  0011954922338\n",
              "3  Prescott D. Hardin   +12979964904\n",
              "4  Benedict G. Valdex  0019698203536\n",
              "5    Reece M. Andrews           4138\n",
              "6      Hayfa E. Keith  0015361758444\n",
              "7     Hedley I. Logan  0016815521823\n",
              "8    Jack W. Carrillo  0019103235265\n",
              "9     Lionel M. Davis  0011431199210"
            ]
          },
          "execution_count": 46,
          "metadata": {},
          "output_type": "execute_result"
        }
      ],
      "source": [
        "phones['phone_number'] = phones['phone_number']\n",
        "phones"
      ]
    },
    {
      "cell_type": "markdown",
      "metadata": {
        "id": "nFzO0Oh28ILe"
      },
      "source": [
        "Replace phone numbers with lower than 10 digits to NaN.\n",
        "Use [.str.len()](https://pandas.pydata.org/pandas-docs/stable/reference/api/pandas.Series.str.len.html)"
      ]
    },
    {
      "cell_type": "code",
      "execution_count": null,
      "metadata": {
        "tags": [],
        "id": "_4tqXL6Q8ILe",
        "outputId": "d2973be5-df0c-45a4-a71e-8ffcae172662"
      },
      "outputs": [
        {
          "data": {
            "text/html": [
              "<div>\n",
              "<style scoped>\n",
              "    .dataframe tbody tr th:only-of-type {\n",
              "        vertical-align: middle;\n",
              "    }\n",
              "\n",
              "    .dataframe tbody tr th {\n",
              "        vertical-align: top;\n",
              "    }\n",
              "\n",
              "    .dataframe thead th {\n",
              "        text-align: right;\n",
              "    }\n",
              "</style>\n",
              "<table border=\"1\" class=\"dataframe\">\n",
              "  <thead>\n",
              "    <tr style=\"text-align: right;\">\n",
              "      <th></th>\n",
              "      <th>full_name</th>\n",
              "      <th>phone_number</th>\n",
              "    </tr>\n",
              "  </thead>\n",
              "  <tbody>\n",
              "    <tr>\n",
              "      <th>0</th>\n",
              "      <td>Noelani A. Gray</td>\n",
              "      <td>0017023975143</td>\n",
              "    </tr>\n",
              "    <tr>\n",
              "      <th>1</th>\n",
              "      <td>Myles Z. Gomez</td>\n",
              "      <td>0013294850540</td>\n",
              "    </tr>\n",
              "    <tr>\n",
              "      <th>2</th>\n",
              "      <td>Gil B. Silva</td>\n",
              "      <td>0011954922338</td>\n",
              "    </tr>\n",
              "    <tr>\n",
              "      <th>3</th>\n",
              "      <td>Prescott D. Hardin</td>\n",
              "      <td>0012979964904</td>\n",
              "    </tr>\n",
              "    <tr>\n",
              "      <th>4</th>\n",
              "      <td>Benedict G. Valdex</td>\n",
              "      <td>0019698203536</td>\n",
              "    </tr>\n",
              "    <tr>\n",
              "      <th>5</th>\n",
              "      <td>Reece M. Andrews</td>\n",
              "      <td>NaN</td>\n",
              "    </tr>\n",
              "    <tr>\n",
              "      <th>6</th>\n",
              "      <td>Hayfa E. Keith</td>\n",
              "      <td>0015361758444</td>\n",
              "    </tr>\n",
              "    <tr>\n",
              "      <th>7</th>\n",
              "      <td>Hedley I. Logan</td>\n",
              "      <td>0016815521823</td>\n",
              "    </tr>\n",
              "    <tr>\n",
              "      <th>8</th>\n",
              "      <td>Jack W. Carrillo</td>\n",
              "      <td>0019103235265</td>\n",
              "    </tr>\n",
              "    <tr>\n",
              "      <th>9</th>\n",
              "      <td>Lionel M. Davis</td>\n",
              "      <td>0011431199210</td>\n",
              "    </tr>\n",
              "  </tbody>\n",
              "</table>\n",
              "</div>"
            ],
            "text/plain": [
              "            full_name   phone_number\n",
              "0     Noelani A. Gray  0017023975143\n",
              "1      Myles Z. Gomez  0013294850540\n",
              "2        Gil B. Silva  0011954922338\n",
              "3  Prescott D. Hardin  0012979964904\n",
              "4  Benedict G. Valdex  0019698203536\n",
              "5    Reece M. Andrews            NaN\n",
              "6      Hayfa E. Keith  0015361758444\n",
              "7     Hedley I. Logan  0016815521823\n",
              "8    Jack W. Carrillo  0019103235265\n",
              "9     Lionel M. Davis  0011431199210"
            ]
          },
          "execution_count": 27,
          "metadata": {},
          "output_type": "execute_result"
        }
      ],
      "source": [
        "# gets the length of the each phone number\n",
        "digits =\n",
        "\n",
        "# subset phone numbers with less than 10 digits, replace with np.nan\n",
        "\n",
        "phones"
      ]
    },
    {
      "cell_type": "markdown",
      "metadata": {
        "id": "q2hMI_-_8ILf"
      },
      "source": [
        "Lets' run few checks"
      ]
    },
    {
      "cell_type": "code",
      "execution_count": null,
      "metadata": {
        "tags": [],
        "id": "aXxczFG08ILf"
      },
      "outputs": [],
      "source": [
        "# checking data with assert statements\n",
        "\n",
        "# find length of each row in phone_number columns\n",
        "sanity_check =\n",
        "\n",
        "# assert minimum phone_number lenth is 10\n",
        "assert sanity_check.min() ......."
      ]
    },
    {
      "cell_type": "markdown",
      "metadata": {
        "id": "Bvvy3-X58ILf"
      },
      "source": [
        "**assert** all number do not have a '+' or '-'. Use [.str.contains](https://pandas.pydata.org/pandas-docs/stable/reference/api/pandas.Series.str.contains.html)"
      ]
    },
    {
      "cell_type": "code",
      "execution_count": null,
      "metadata": {
        "tags": [],
        "id": "z7Ewwb0L8ILf"
      },
      "outputs": [],
      "source": [
        "assert phones['phone_number'].str.contains(\"'+'|'-'\").any() == False"
      ]
    },
    {
      "cell_type": "markdown",
      "metadata": {
        "id": "sopoIjl38ILg"
      },
      "source": [
        "### More complicated regular expression (`regex`) examples\n",
        "\n",
        "* Regular expressions give us the ability to search for any pattern in text data, like only digits for example\n",
        "\n",
        "* They are like control + find in your browser, but more dynamic and robust\n",
        "\n",
        "[regex](https://www.geeksforgeeks.org/python-regex/)\n",
        "\n",
        "[regex HOWTO](https://docs.python.org/3/howto/regex.html)"
      ]
    },
    {
      "cell_type": "code",
      "execution_count": null,
      "metadata": {
        "tags": [],
        "id": "qk0i9i8F8ILg",
        "outputId": "8e24fd0e-1618-4fa8-9069-37b7c9548bf5"
      },
      "outputs": [
        {
          "data": {
            "text/html": [
              "<div>\n",
              "<style scoped>\n",
              "    .dataframe tbody tr th:only-of-type {\n",
              "        vertical-align: middle;\n",
              "    }\n",
              "\n",
              "    .dataframe tbody tr th {\n",
              "        vertical-align: top;\n",
              "    }\n",
              "\n",
              "    .dataframe thead th {\n",
              "        text-align: right;\n",
              "    }\n",
              "</style>\n",
              "<table border=\"1\" class=\"dataframe\">\n",
              "  <thead>\n",
              "    <tr style=\"text-align: right;\">\n",
              "      <th></th>\n",
              "      <th>full_name</th>\n",
              "      <th>phone_number</th>\n",
              "    </tr>\n",
              "  </thead>\n",
              "  <tbody>\n",
              "    <tr>\n",
              "      <th>0</th>\n",
              "      <td>Olga Robinson</td>\n",
              "      <td>+(01706)-25891</td>\n",
              "    </tr>\n",
              "    <tr>\n",
              "      <th>1</th>\n",
              "      <td>Justina Kim</td>\n",
              "      <td>+0500-571437</td>\n",
              "    </tr>\n",
              "    <tr>\n",
              "      <th>2</th>\n",
              "      <td>Tamekah Henson</td>\n",
              "      <td>+0800-111A</td>\n",
              "    </tr>\n",
              "    <tr>\n",
              "      <th>3</th>\n",
              "      <td>Miranda Solis</td>\n",
              "      <td>+07058-979063</td>\n",
              "    </tr>\n",
              "    <tr>\n",
              "      <th>4</th>\n",
              "      <td>Caldwell Gilliam</td>\n",
              "      <td>+(016977)-8424</td>\n",
              "    </tr>\n",
              "  </tbody>\n",
              "</table>\n",
              "</div>"
            ],
            "text/plain": [
              "          full_name    phone_number\n",
              "0     Olga Robinson  +(01706)-25891\n",
              "1       Justina Kim    +0500-571437\n",
              "2    Tamekah Henson      +0800-111A\n",
              "3     Miranda Solis   +07058-979063\n",
              "4  Caldwell Gilliam  +(016977)-8424"
            ]
          },
          "execution_count": 47,
          "metadata": {},
          "output_type": "execute_result"
        }
      ],
      "source": [
        "phones_complex = pd.read_csv('data/phone_numbers_complex.csv')\n",
        "phones_complex"
      ]
    },
    {
      "cell_type": "markdown",
      "metadata": {
        "id": "0uk-LNxp8ILg"
      },
      "source": [
        "Replace letters (actually non-numbers) with nothing. Use [.str.replace](https://pandas.pydata.org/pandas-docs/stable/reference/api/pandas.Series.str.replace.html)\n",
        "\n",
        "\n",
        "include regex=True\n"
      ]
    },
    {
      "cell_type": "code",
      "execution_count": null,
      "metadata": {
        "tags": [],
        "id": "f6X4Qt3v8ILg",
        "outputId": "2314675a-e010-4f85-d926-3d77056a98b9"
      },
      "outputs": [
        {
          "data": {
            "text/html": [
              "<div>\n",
              "<style scoped>\n",
              "    .dataframe tbody tr th:only-of-type {\n",
              "        vertical-align: middle;\n",
              "    }\n",
              "\n",
              "    .dataframe tbody tr th {\n",
              "        vertical-align: top;\n",
              "    }\n",
              "\n",
              "    .dataframe thead th {\n",
              "        text-align: right;\n",
              "    }\n",
              "</style>\n",
              "<table border=\"1\" class=\"dataframe\">\n",
              "  <thead>\n",
              "    <tr style=\"text-align: right;\">\n",
              "      <th></th>\n",
              "      <th>full_name</th>\n",
              "      <th>phone_number</th>\n",
              "    </tr>\n",
              "  </thead>\n",
              "  <tbody>\n",
              "    <tr>\n",
              "      <th>0</th>\n",
              "      <td>Olga Robinson</td>\n",
              "      <td>0170625891</td>\n",
              "    </tr>\n",
              "    <tr>\n",
              "      <th>1</th>\n",
              "      <td>Justina Kim</td>\n",
              "      <td>0500571437</td>\n",
              "    </tr>\n",
              "    <tr>\n",
              "      <th>2</th>\n",
              "      <td>Tamekah Henson</td>\n",
              "      <td>0800111</td>\n",
              "    </tr>\n",
              "    <tr>\n",
              "      <th>3</th>\n",
              "      <td>Miranda Solis</td>\n",
              "      <td>07058979063</td>\n",
              "    </tr>\n",
              "    <tr>\n",
              "      <th>4</th>\n",
              "      <td>Caldwell Gilliam</td>\n",
              "      <td>0169778424</td>\n",
              "    </tr>\n",
              "  </tbody>\n",
              "</table>\n",
              "</div>"
            ],
            "text/plain": [
              "          full_name phone_number\n",
              "0     Olga Robinson   0170625891\n",
              "1       Justina Kim   0500571437\n",
              "2    Tamekah Henson      0800111\n",
              "3     Miranda Solis  07058979063\n",
              "4  Caldwell Gilliam   0169778424"
            ]
          },
          "execution_count": 50,
          "metadata": {},
          "output_type": "execute_result"
        }
      ],
      "source": [
        "#\\D+ mean anything that is not a digit, found in regex library\n",
        "\n",
        "phones_complex['phone_number'] =\n",
        "phones_complex"
      ]
    },
    {
      "cell_type": "markdown",
      "metadata": {
        "id": "gQotH5Wq8ILh"
      },
      "source": [
        "## Data Uniformity\n",
        "\n",
        "* We want data within columns to have the same units (temperature, weight, money)\n",
        "\n",
        "* Or data, as as dates, to have the same format"
      ]
    },
    {
      "cell_type": "code",
      "execution_count": null,
      "metadata": {
        "tags": [],
        "id": "cIokrFh18ILh",
        "outputId": "fa902024-10da-48d3-c096-8f7511af76f2"
      },
      "outputs": [
        {
          "data": {
            "text/html": [
              "<div>\n",
              "<style scoped>\n",
              "    .dataframe tbody tr th:only-of-type {\n",
              "        vertical-align: middle;\n",
              "    }\n",
              "\n",
              "    .dataframe tbody tr th {\n",
              "        vertical-align: top;\n",
              "    }\n",
              "\n",
              "    .dataframe thead th {\n",
              "        text-align: right;\n",
              "    }\n",
              "</style>\n",
              "<table border=\"1\" class=\"dataframe\">\n",
              "  <thead>\n",
              "    <tr style=\"text-align: right;\">\n",
              "      <th></th>\n",
              "      <th>date</th>\n",
              "      <th>temperature</th>\n",
              "    </tr>\n",
              "  </thead>\n",
              "  <tbody>\n",
              "    <tr>\n",
              "      <th>0</th>\n",
              "      <td>2019-03-03</td>\n",
              "      <td>14.0</td>\n",
              "    </tr>\n",
              "    <tr>\n",
              "      <th>1</th>\n",
              "      <td>2019-03-04</td>\n",
              "      <td>15.0</td>\n",
              "    </tr>\n",
              "    <tr>\n",
              "      <th>2</th>\n",
              "      <td>2019-03-05</td>\n",
              "      <td>18.0</td>\n",
              "    </tr>\n",
              "    <tr>\n",
              "      <th>3</th>\n",
              "      <td>2019-03-06</td>\n",
              "      <td>16.0</td>\n",
              "    </tr>\n",
              "    <tr>\n",
              "      <th>4</th>\n",
              "      <td>2019-03-07</td>\n",
              "      <td>62.6</td>\n",
              "    </tr>\n",
              "  </tbody>\n",
              "</table>\n",
              "</div>"
            ],
            "text/plain": [
              "         date  temperature\n",
              "0  2019-03-03         14.0\n",
              "1  2019-03-04         15.0\n",
              "2  2019-03-05         18.0\n",
              "3  2019-03-06         16.0\n",
              "4  2019-03-07         62.6"
            ]
          },
          "execution_count": 51,
          "metadata": {},
          "output_type": "execute_result"
        }
      ],
      "source": [
        "temps = pd.read_csv('data/temperatures.csv')\n",
        "temps.head()"
      ]
    },
    {
      "cell_type": "markdown",
      "metadata": {
        "id": "5mdZd7fZ8ILh"
      },
      "source": [
        "**Let's look at graph**"
      ]
    },
    {
      "cell_type": "code",
      "execution_count": null,
      "metadata": {
        "tags": [],
        "id": "gB3Ww0pW8ILi"
      },
      "outputs": [],
      "source": [
        "# import matplotlib\n",
        "import matplotlib.pyplot as plt"
      ]
    },
    {
      "cell_type": "markdown",
      "metadata": {
        "id": "uIjN4x_F8ILi"
      },
      "source": [
        "Create a scatter plot with\n",
        "[plt.scatter()](https://matplotlib.org/stable/api/_as_gen/matplotlib.pyplot.scatter.html)"
      ]
    },
    {
      "cell_type": "code",
      "execution_count": null,
      "metadata": {
        "tags": [],
        "id": "i4N1R4TP8ILi",
        "outputId": "c34bf19f-f50f-4827-a6a3-4b9b80845b3f"
      },
      "outputs": [
        {
          "data": {
            "image/png": "[encoded data removed]",
            "text/plain": [
              "<Figure size 640x480 with 1 Axes>"
            ]
          },
          "metadata": {},
          "output_type": "display_data"
        }
      ],
      "source": [
        "plt.scatter(x = ...., y = ......., data = ......)\n",
        "\n",
        "# create title 'Temperatures in Celsius March 2019 - NYC'\n",
        "# xlabel 'date', and ylabel 'temperature (degrees Celsius)'\n",
        "\n",
        "\n",
        "\n",
        "\n",
        "\n",
        "\n",
        "\n",
        "\n",
        "\n",
        "# show plot\n",
        "plt.show()"
      ]
    },
    {
      "cell_type": "markdown",
      "metadata": {
        "id": "3NmiSg8v8ILj"
      },
      "source": [
        "**Convert farhenheit data to celsius**\n",
        "\n",
        "use .loc to subset data above 40\n"
      ]
    },
    {
      "cell_type": "code",
      "execution_count": null,
      "metadata": {
        "tags": [],
        "id": "J_Ormnph8ILj"
      },
      "outputs": [],
      "source": [
        "temp_fah =\n",
        "\n",
        "# convert to celsius\n",
        "temp_cels = (temp_fah - 32) * (5/9)\n",
        "\n",
        "# Replace Farhenheit with Celsius. Use .loc and temp_cels\n",
        "\n",
        "\n",
        "temps"
      ]
    },
    {
      "cell_type": "code",
      "execution_count": null,
      "metadata": {
        "id": "QpzZekPu8ILj"
      },
      "outputs": [],
      "source": [
        "Plot the graph with the new temps"
      ]
    },
    {
      "cell_type": "code",
      "execution_count": null,
      "metadata": {
        "tags": [],
        "id": "WDu_H1dg8ILj",
        "outputId": "5ab97b28-a3fe-4b3e-bc70-aaa98514cb83"
      },
      "outputs": [
        {
          "data": {
            "image/png": "[encoded data removed]",
            "text/plain": [
              "<Figure size 640x480 with 1 Axes>"
            ]
          },
          "metadata": {},
          "output_type": "display_data"
        }
      ],
      "source": [
        "plt.scatter(x = ...., y = ......., data = ......)\n",
        "\n",
        "# create title 'Temperatures in Celsius March 2019 - NYC'\n",
        "# xlabel 'date', and ylabel 'temperature (degrees Celsius)'\n",
        "\n",
        "\n",
        "\n",
        "\n",
        "\n",
        "\n",
        "\n",
        "\n",
        "\n",
        "# show plot\n",
        "plt.show()"
      ]
    },
    {
      "cell_type": "markdown",
      "metadata": {
        "id": "z-CBhw3s8ILk"
      },
      "source": [
        "**Clean-up Dates**"
      ]
    },
    {
      "cell_type": "code",
      "execution_count": null,
      "metadata": {
        "tags": [],
        "id": "3mnU9NOC8ILk",
        "outputId": "a2641e88-2304-44f2-aca8-696e647486f9"
      },
      "outputs": [
        {
          "data": {
            "text/html": [
              "<div>\n",
              "<style scoped>\n",
              "    .dataframe tbody tr th:only-of-type {\n",
              "        vertical-align: middle;\n",
              "    }\n",
              "\n",
              "    .dataframe tbody tr th {\n",
              "        vertical-align: top;\n",
              "    }\n",
              "\n",
              "    .dataframe thead th {\n",
              "        text-align: right;\n",
              "    }\n",
              "</style>\n",
              "<table border=\"1\" class=\"dataframe\">\n",
              "  <thead>\n",
              "    <tr style=\"text-align: right;\">\n",
              "      <th></th>\n",
              "      <th>birth_date</th>\n",
              "      <th>first_name</th>\n",
              "      <th>last_name</th>\n",
              "    </tr>\n",
              "  </thead>\n",
              "  <tbody>\n",
              "    <tr>\n",
              "      <th>0</th>\n",
              "      <td>27/27/2019</td>\n",
              "      <td>Rowan</td>\n",
              "      <td>Nunez</td>\n",
              "    </tr>\n",
              "    <tr>\n",
              "      <th>1</th>\n",
              "      <td>3/29/19</td>\n",
              "      <td>Brynn</td>\n",
              "      <td>Yang</td>\n",
              "    </tr>\n",
              "    <tr>\n",
              "      <th>2</th>\n",
              "      <td>March 3rd, 2019</td>\n",
              "      <td>Sophia</td>\n",
              "      <td>Reilly</td>\n",
              "    </tr>\n",
              "    <tr>\n",
              "      <th>3</th>\n",
              "      <td>24-03-19</td>\n",
              "      <td>Deacon</td>\n",
              "      <td>Prince</td>\n",
              "    </tr>\n",
              "    <tr>\n",
              "      <th>4</th>\n",
              "      <td>6/3/19</td>\n",
              "      <td>Griffith</td>\n",
              "      <td>Neal</td>\n",
              "    </tr>\n",
              "  </tbody>\n",
              "</table>\n",
              "</div>"
            ],
            "text/plain": [
              "        birth_date first_name last_name\n",
              "0       27/27/2019      Rowan     Nunez\n",
              "1          3/29/19      Brynn      Yang\n",
              "2  March 3rd, 2019     Sophia    Reilly\n",
              "3         24-03-19     Deacon    Prince\n",
              "4           6/3/19   Griffith      Neal"
            ]
          },
          "execution_count": 59,
          "metadata": {},
          "output_type": "execute_result"
        }
      ],
      "source": [
        "birthdays = pd.read_csv('data/birthdays.csv')\n",
        "birthdays.head()"
      ]
    },
    {
      "cell_type": "markdown",
      "metadata": {
        "id": "AjJtuvsl8ILk"
      },
      "source": [
        "The [`datetime`](https://docs.python.org/3/library/datetime.html) ($\\leftarrow$ it's a link) package is useful for representing dates\n",
        "\n",
        "[How to format dates in python](https://stackabuse.com/how-to-format-dates-in-python/)\n",
        "\n",
        "We also use [`pandas.to_datetime`](https://pandas.pydata.org/docs/reference/api/pandas.to_datetime.html)\n",
        "($\\leftarrow$ it's a link)\n",
        "\n",
        "This function converts a scalar, array-like, Series or DataFrame/dict-like to a pandas datetime object.\n",
        "* can recognize more formats automatically\n",
        "* sometimes fails with erroneous or unrecongizable formats"
      ]
    },
    {
      "cell_type": "markdown",
      "metadata": {
        "id": "rfbQ2iyJ8ILk"
      },
      "source": [
        "Use pandas [to_datetime](https://pandas.pydata.org/pandas-docs/stable/reference/api/pandas.to_datetime.html) to convert 'birth_date' to datetime"
      ]
    },
    {
      "cell_type": "code",
      "execution_count": null,
      "metadata": {
        "tags": [],
        "id": "0povGsM68ILl",
        "outputId": "5be73a64-2705-40f9-d8a1-e4f498b3119f"
      },
      "outputs": [
        {
          "name": "stderr",
          "output_type": "stream",
          "text": [
            "/var/folders/c8/zxd3t4v929z2c76jt7j2j68m0000gq/T/ipykernel_34486/949370773.py:1: UserWarning: Could not infer format, so each element will be parsed individually, falling back to `dateutil`. To ensure parsing is consistent and as-expected, please specify a format.\n",
            "  birthdays['birth_date'] = pd.to_datetime(birthdays['birth_date'])\n"
          ]
        },
        {
          "ename": "DateParseError",
          "evalue": "Invalid date specified (27/27), at position 0",
          "output_type": "error",
          "traceback": [
            "\u001b[0;31m---------------------------------------------------------------------------\u001b[0m",
            "\u001b[0;31mDateParseError\u001b[0m                            Traceback (most recent call last)",
            "Cell \u001b[0;32mIn[57], line 1\u001b[0m\n\u001b[0;32m----> 1\u001b[0m birthdays[\u001b[38;5;124m'\u001b[39m\u001b[38;5;124mbirth_date\u001b[39m\u001b[38;5;124m'\u001b[39m] \u001b[38;5;241m=\u001b[39m \u001b[43mpd\u001b[49m\u001b[38;5;241;43m.\u001b[39;49m\u001b[43mto_datetime\u001b[49m\u001b[43m(\u001b[49m\u001b[43mbirthdays\u001b[49m\u001b[43m[\u001b[49m\u001b[38;5;124;43m'\u001b[39;49m\u001b[38;5;124;43mbirth_date\u001b[39;49m\u001b[38;5;124;43m'\u001b[39;49m\u001b[43m]\u001b[49m\u001b[43m)\u001b[49m\n",
            "File \u001b[0;32m~/anaconda3/lib/python3.10/site-packages/pandas/core/tools/datetimes.py:1050\u001b[0m, in \u001b[0;36mto_datetime\u001b[0;34m(arg, errors, dayfirst, yearfirst, utc, format, exact, unit, infer_datetime_format, origin, cache)\u001b[0m\n\u001b[1;32m   1048\u001b[0m         result \u001b[38;5;241m=\u001b[39m arg\u001b[38;5;241m.\u001b[39mmap(cache_array)\n\u001b[1;32m   1049\u001b[0m     \u001b[38;5;28;01melse\u001b[39;00m:\n\u001b[0;32m-> 1050\u001b[0m         values \u001b[38;5;241m=\u001b[39m \u001b[43mconvert_listlike\u001b[49m\u001b[43m(\u001b[49m\u001b[43marg\u001b[49m\u001b[38;5;241;43m.\u001b[39;49m\u001b[43m_values\u001b[49m\u001b[43m,\u001b[49m\u001b[43m \u001b[49m\u001b[38;5;28;43mformat\u001b[39;49m\u001b[43m)\u001b[49m\n\u001b[1;32m   1051\u001b[0m         result \u001b[38;5;241m=\u001b[39m arg\u001b[38;5;241m.\u001b[39m_constructor(values, index\u001b[38;5;241m=\u001b[39marg\u001b[38;5;241m.\u001b[39mindex, name\u001b[38;5;241m=\u001b[39marg\u001b[38;5;241m.\u001b[39mname)\n\u001b[1;32m   1052\u001b[0m \u001b[38;5;28;01melif\u001b[39;00m \u001b[38;5;28misinstance\u001b[39m(arg, (ABCDataFrame, abc\u001b[38;5;241m.\u001b[39mMutableMapping)):\n",
            "File \u001b[0;32m~/anaconda3/lib/python3.10/site-packages/pandas/core/tools/datetimes.py:455\u001b[0m, in \u001b[0;36m_convert_listlike_datetimes\u001b[0;34m(arg, format, name, utc, unit, errors, dayfirst, yearfirst, exact)\u001b[0m\n\u001b[1;32m    452\u001b[0m \u001b[38;5;28;01mif\u001b[39;00m \u001b[38;5;28mformat\u001b[39m \u001b[38;5;129;01mis\u001b[39;00m \u001b[38;5;129;01mnot\u001b[39;00m \u001b[38;5;28;01mNone\u001b[39;00m \u001b[38;5;129;01mand\u001b[39;00m \u001b[38;5;28mformat\u001b[39m \u001b[38;5;241m!=\u001b[39m \u001b[38;5;124m\"\u001b[39m\u001b[38;5;124mmixed\u001b[39m\u001b[38;5;124m\"\u001b[39m:\n\u001b[1;32m    453\u001b[0m     \u001b[38;5;28;01mreturn\u001b[39;00m _array_strptime_with_fallback(arg, name, utc, \u001b[38;5;28mformat\u001b[39m, exact, errors)\n\u001b[0;32m--> 455\u001b[0m result, tz_parsed \u001b[38;5;241m=\u001b[39m \u001b[43mobjects_to_datetime64ns\u001b[49m\u001b[43m(\u001b[49m\n\u001b[1;32m    456\u001b[0m \u001b[43m    \u001b[49m\u001b[43marg\u001b[49m\u001b[43m,\u001b[49m\n\u001b[1;32m    457\u001b[0m \u001b[43m    \u001b[49m\u001b[43mdayfirst\u001b[49m\u001b[38;5;241;43m=\u001b[39;49m\u001b[43mdayfirst\u001b[49m\u001b[43m,\u001b[49m\n\u001b[1;32m    458\u001b[0m \u001b[43m    \u001b[49m\u001b[43myearfirst\u001b[49m\u001b[38;5;241;43m=\u001b[39;49m\u001b[43myearfirst\u001b[49m\u001b[43m,\u001b[49m\n\u001b[1;32m    459\u001b[0m \u001b[43m    \u001b[49m\u001b[43mutc\u001b[49m\u001b[38;5;241;43m=\u001b[39;49m\u001b[43mutc\u001b[49m\u001b[43m,\u001b[49m\n\u001b[1;32m    460\u001b[0m \u001b[43m    \u001b[49m\u001b[43merrors\u001b[49m\u001b[38;5;241;43m=\u001b[39;49m\u001b[43merrors\u001b[49m\u001b[43m,\u001b[49m\n\u001b[1;32m    461\u001b[0m \u001b[43m    \u001b[49m\u001b[43mallow_object\u001b[49m\u001b[38;5;241;43m=\u001b[39;49m\u001b[38;5;28;43;01mTrue\u001b[39;49;00m\u001b[43m,\u001b[49m\n\u001b[1;32m    462\u001b[0m \u001b[43m\u001b[49m\u001b[43m)\u001b[49m\n\u001b[1;32m    464\u001b[0m \u001b[38;5;28;01mif\u001b[39;00m tz_parsed \u001b[38;5;129;01mis\u001b[39;00m \u001b[38;5;129;01mnot\u001b[39;00m \u001b[38;5;28;01mNone\u001b[39;00m:\n\u001b[1;32m    465\u001b[0m     \u001b[38;5;66;03m# We can take a shortcut since the datetime64 numpy array\u001b[39;00m\n\u001b[1;32m    466\u001b[0m     \u001b[38;5;66;03m# is in UTC\u001b[39;00m\n\u001b[1;32m    467\u001b[0m     dta \u001b[38;5;241m=\u001b[39m DatetimeArray(result, dtype\u001b[38;5;241m=\u001b[39mtz_to_dtype(tz_parsed))\n",
            "File \u001b[0;32m~/anaconda3/lib/python3.10/site-packages/pandas/core/arrays/datetimes.py:2177\u001b[0m, in \u001b[0;36mobjects_to_datetime64ns\u001b[0;34m(data, dayfirst, yearfirst, utc, errors, allow_object)\u001b[0m\n\u001b[1;32m   2174\u001b[0m \u001b[38;5;66;03m# if str-dtype, convert\u001b[39;00m\n\u001b[1;32m   2175\u001b[0m data \u001b[38;5;241m=\u001b[39m np\u001b[38;5;241m.\u001b[39marray(data, copy\u001b[38;5;241m=\u001b[39m\u001b[38;5;28;01mFalse\u001b[39;00m, dtype\u001b[38;5;241m=\u001b[39mnp\u001b[38;5;241m.\u001b[39mobject_)\n\u001b[0;32m-> 2177\u001b[0m result, tz_parsed \u001b[38;5;241m=\u001b[39m \u001b[43mtslib\u001b[49m\u001b[38;5;241;43m.\u001b[39;49m\u001b[43marray_to_datetime\u001b[49m\u001b[43m(\u001b[49m\n\u001b[1;32m   2178\u001b[0m \u001b[43m    \u001b[49m\u001b[43mdata\u001b[49m\u001b[43m,\u001b[49m\n\u001b[1;32m   2179\u001b[0m \u001b[43m    \u001b[49m\u001b[43merrors\u001b[49m\u001b[38;5;241;43m=\u001b[39;49m\u001b[43merrors\u001b[49m\u001b[43m,\u001b[49m\n\u001b[1;32m   2180\u001b[0m \u001b[43m    \u001b[49m\u001b[43mutc\u001b[49m\u001b[38;5;241;43m=\u001b[39;49m\u001b[43mutc\u001b[49m\u001b[43m,\u001b[49m\n\u001b[1;32m   2181\u001b[0m \u001b[43m    \u001b[49m\u001b[43mdayfirst\u001b[49m\u001b[38;5;241;43m=\u001b[39;49m\u001b[43mdayfirst\u001b[49m\u001b[43m,\u001b[49m\n\u001b[1;32m   2182\u001b[0m \u001b[43m    \u001b[49m\u001b[43myearfirst\u001b[49m\u001b[38;5;241;43m=\u001b[39;49m\u001b[43myearfirst\u001b[49m\u001b[43m,\u001b[49m\n\u001b[1;32m   2183\u001b[0m \u001b[43m\u001b[49m\u001b[43m)\u001b[49m\n\u001b[1;32m   2185\u001b[0m \u001b[38;5;28;01mif\u001b[39;00m tz_parsed \u001b[38;5;129;01mis\u001b[39;00m \u001b[38;5;129;01mnot\u001b[39;00m \u001b[38;5;28;01mNone\u001b[39;00m:\n\u001b[1;32m   2186\u001b[0m     \u001b[38;5;66;03m# We can take a shortcut since the datetime64 numpy array\u001b[39;00m\n\u001b[1;32m   2187\u001b[0m     \u001b[38;5;66;03m#  is in UTC\u001b[39;00m\n\u001b[1;32m   2188\u001b[0m     \u001b[38;5;66;03m# Return i8 values to denote unix timestamps\u001b[39;00m\n\u001b[1;32m   2189\u001b[0m     \u001b[38;5;28;01mreturn\u001b[39;00m result\u001b[38;5;241m.\u001b[39mview(\u001b[38;5;124m\"\u001b[39m\u001b[38;5;124mi8\u001b[39m\u001b[38;5;124m\"\u001b[39m), tz_parsed\n",
            "File \u001b[0;32m~/anaconda3/lib/python3.10/site-packages/pandas/_libs/tslib.pyx:402\u001b[0m, in \u001b[0;36mpandas._libs.tslib.array_to_datetime\u001b[0;34m()\u001b[0m\n",
            "File \u001b[0;32m~/anaconda3/lib/python3.10/site-packages/pandas/_libs/tslib.pyx:551\u001b[0m, in \u001b[0;36mpandas._libs.tslib.array_to_datetime\u001b[0;34m()\u001b[0m\n",
            "File \u001b[0;32m~/anaconda3/lib/python3.10/site-packages/pandas/_libs/tslib.pyx:516\u001b[0m, in \u001b[0;36mpandas._libs.tslib.array_to_datetime\u001b[0;34m()\u001b[0m\n",
            "File \u001b[0;32m~/anaconda3/lib/python3.10/site-packages/pandas/_libs/tslibs/conversion.pyx:557\u001b[0m, in \u001b[0;36mpandas._libs.tslibs.conversion.convert_str_to_tsobject\u001b[0;34m()\u001b[0m\n",
            "File \u001b[0;32m~/anaconda3/lib/python3.10/site-packages/pandas/_libs/tslibs/parsing.pyx:315\u001b[0m, in \u001b[0;36mpandas._libs.tslibs.parsing.parse_datetime_string\u001b[0;34m()\u001b[0m\n",
            "File \u001b[0;32m~/anaconda3/lib/python3.10/site-packages/pandas/_libs/tslibs/parsing.pyx:233\u001b[0m, in \u001b[0;36mpandas._libs.tslibs.parsing._parse_delimited_date\u001b[0;34m()\u001b[0m\n",
            "\u001b[0;31mDateParseError\u001b[0m: Invalid date specified (27/27), at position 0"
          ]
        }
      ],
      "source": [
        "birthdays['birth_date'] ="
      ]
    },
    {
      "cell_type": "markdown",
      "metadata": {
        "id": "w9-kQB2M8ILl"
      },
      "source": [
        "**Doesn't work!**\n",
        "\n",
        "try with **error='coerce'**  (return NA for rows where conversion failed)\n",
        "\n",
        "and with **format= 'mixed'** (Check [this link](https://pandas.pydata.org/pdeps/0004-consistent-to-datetime-parsing.html))"
      ]
    },
    {
      "cell_type": "code",
      "execution_count": null,
      "metadata": {
        "id": "GtXdL3kI8ILl"
      },
      "outputs": [],
      "source": [
        "birthdays['birth_date'] =\n"
      ]
    },
    {
      "cell_type": "code",
      "execution_count": null,
      "metadata": {
        "id": "x0SC6Rm98ILl",
        "outputId": "117eaa97-d296-4d50-db25-c76ae309d36d"
      },
      "outputs": [
        {
          "data": {
            "text/html": [
              "<div>\n",
              "<style scoped>\n",
              "    .dataframe tbody tr th:only-of-type {\n",
              "        vertical-align: middle;\n",
              "    }\n",
              "\n",
              "    .dataframe tbody tr th {\n",
              "        vertical-align: top;\n",
              "    }\n",
              "\n",
              "    .dataframe thead th {\n",
              "        text-align: right;\n",
              "    }\n",
              "</style>\n",
              "<table border=\"1\" class=\"dataframe\">\n",
              "  <thead>\n",
              "    <tr style=\"text-align: right;\">\n",
              "      <th></th>\n",
              "      <th>birth_date</th>\n",
              "      <th>first_name</th>\n",
              "      <th>last_name</th>\n",
              "    </tr>\n",
              "  </thead>\n",
              "  <tbody>\n",
              "    <tr>\n",
              "      <th>0</th>\n",
              "      <td>NaT</td>\n",
              "      <td>Rowan</td>\n",
              "      <td>Nunez</td>\n",
              "    </tr>\n",
              "    <tr>\n",
              "      <th>1</th>\n",
              "      <td>2019-03-29</td>\n",
              "      <td>Brynn</td>\n",
              "      <td>Yang</td>\n",
              "    </tr>\n",
              "    <tr>\n",
              "      <th>2</th>\n",
              "      <td>2019-03-03</td>\n",
              "      <td>Sophia</td>\n",
              "      <td>Reilly</td>\n",
              "    </tr>\n",
              "    <tr>\n",
              "      <th>3</th>\n",
              "      <td>2019-03-24</td>\n",
              "      <td>Deacon</td>\n",
              "      <td>Prince</td>\n",
              "    </tr>\n",
              "    <tr>\n",
              "      <th>4</th>\n",
              "      <td>2019-06-03</td>\n",
              "      <td>Griffith</td>\n",
              "      <td>Neal</td>\n",
              "    </tr>\n",
              "  </tbody>\n",
              "</table>\n",
              "</div>"
            ],
            "text/plain": [
              "  birth_date first_name last_name\n",
              "0        NaT      Rowan     Nunez\n",
              "1 2019-03-29      Brynn      Yang\n",
              "2 2019-03-03     Sophia    Reilly\n",
              "3 2019-03-24     Deacon    Prince\n",
              "4 2019-06-03   Griffith      Neal"
            ]
          },
          "execution_count": 62,
          "metadata": {},
          "output_type": "execute_result"
        }
      ],
      "source": [
        "birthdays.head()"
      ]
    },
    {
      "cell_type": "markdown",
      "metadata": {
        "id": "lMhtrZS-8ILm"
      },
      "source": [
        "Use [dt.strftime](https://pandas.pydata.org/pandas-docs/stable/reference/api/pandas.Series.dt.strftime.html) to set '%d-%m-%Y'"
      ]
    },
    {
      "cell_type": "code",
      "execution_count": null,
      "metadata": {
        "id": "15rj-IsW8ILm",
        "outputId": "7ffa4be2-b878-436d-e751-6229a6caff73"
      },
      "outputs": [
        {
          "data": {
            "text/html": [
              "<div>\n",
              "<style scoped>\n",
              "    .dataframe tbody tr th:only-of-type {\n",
              "        vertical-align: middle;\n",
              "    }\n",
              "\n",
              "    .dataframe tbody tr th {\n",
              "        vertical-align: top;\n",
              "    }\n",
              "\n",
              "    .dataframe thead th {\n",
              "        text-align: right;\n",
              "    }\n",
              "</style>\n",
              "<table border=\"1\" class=\"dataframe\">\n",
              "  <thead>\n",
              "    <tr style=\"text-align: right;\">\n",
              "      <th></th>\n",
              "      <th>birth_date</th>\n",
              "      <th>first_name</th>\n",
              "      <th>last_name</th>\n",
              "    </tr>\n",
              "  </thead>\n",
              "  <tbody>\n",
              "    <tr>\n",
              "      <th>0</th>\n",
              "      <td>NaN</td>\n",
              "      <td>Rowan</td>\n",
              "      <td>Nunez</td>\n",
              "    </tr>\n",
              "    <tr>\n",
              "      <th>1</th>\n",
              "      <td>29-03-2019</td>\n",
              "      <td>Brynn</td>\n",
              "      <td>Yang</td>\n",
              "    </tr>\n",
              "    <tr>\n",
              "      <th>2</th>\n",
              "      <td>03-03-2019</td>\n",
              "      <td>Sophia</td>\n",
              "      <td>Reilly</td>\n",
              "    </tr>\n",
              "    <tr>\n",
              "      <th>3</th>\n",
              "      <td>24-03-2019</td>\n",
              "      <td>Deacon</td>\n",
              "      <td>Prince</td>\n",
              "    </tr>\n",
              "    <tr>\n",
              "      <th>4</th>\n",
              "      <td>03-06-2019</td>\n",
              "      <td>Griffith</td>\n",
              "      <td>Neal</td>\n",
              "    </tr>\n",
              "  </tbody>\n",
              "</table>\n",
              "</div>"
            ],
            "text/plain": [
              "   birth_date first_name last_name\n",
              "0         NaN      Rowan     Nunez\n",
              "1  29-03-2019      Brynn      Yang\n",
              "2  03-03-2019     Sophia    Reilly\n",
              "3  24-03-2019     Deacon    Prince\n",
              "4  03-06-2019   Griffith      Neal"
            ]
          },
          "execution_count": 42,
          "metadata": {},
          "output_type": "execute_result"
        }
      ],
      "source": [
        "birthdays['birth_date'] =\n",
        "birthdays.head()"
      ]
    },
    {
      "cell_type": "markdown",
      "metadata": {
        "id": "AztuHxPw8ILm"
      },
      "source": [
        "**Ambiguous Data**\n",
        "\n",
        "Is `2019-03-06` in June or March?\n",
        "\n",
        "* Can convert to `NA` or treat accordingly\n",
        "* Can infer - this is where knowing your data is useful"
      ]
    },
    {
      "cell_type": "code",
      "execution_count": null,
      "metadata": {
        "id": "orMXzOqK8ILn"
      },
      "outputs": [],
      "source": []
    }
  ],
  "metadata": {
    "kernelspec": {
      "display_name": "Python 3 (ipykernel)",
      "language": "python",
      "name": "python3"
    },
    "language_info": {
      "codemirror_mode": {
        "name": "ipython",
        "version": 3
      },
      "file_extension": ".py",
      "mimetype": "text/x-python",
      "name": "python",
      "nbconvert_exporter": "python",
      "pygments_lexer": "ipython3",
      "version": "3.10.11"
    },
    "vscode": {
      "interpreter": {
        "hash": "31f2aee4e71d21fbe5cf8b01ff0e069b9275f58929596ceb00d14d90e3e16cd6"
      }
    },
    "colab": {
      "provenance": [],
      "include_colab_link": true
    }
  },
  "nbformat": 4,
  "nbformat_minor": 0
}